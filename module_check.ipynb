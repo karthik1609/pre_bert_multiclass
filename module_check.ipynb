{
 "cells": [
  {
   "cell_type": "code",
   "execution_count": 1,
   "metadata": {
    "tags": []
   },
   "outputs": [],
   "source": [
    "import preprocess"
   ]
  },
  {
   "cell_type": "code",
   "execution_count": 2,
   "metadata": {
    "tags": []
   },
   "outputs": [],
   "source": [
    "%config Completer.use_jedi = False"
   ]
  },
  {
   "cell_type": "code",
   "execution_count": 3,
   "metadata": {
    "tags": []
   },
   "outputs": [
    {
     "name": "stderr",
     "output_type": "stream",
     "text": [
      "2022-02-11 11:16:50 INFO: Loading these models for language: en (English):\n",
      "============================\n",
      "| Processor    | Package   |\n",
      "----------------------------\n",
      "| tokenize     | combined  |\n",
      "| pos          | combined  |\n",
      "| lemma        | combined  |\n",
      "| depparse     | combined  |\n",
      "| sentiment    | sstplus   |\n",
      "| constituency | wsj       |\n",
      "| ner          | ontonotes |\n",
      "============================\n",
      "\n",
      "2022-02-11 11:16:50 INFO: Use device: gpu\n",
      "2022-02-11 11:16:50 INFO: Loading: tokenize\n",
      "2022-02-11 11:16:53 INFO: Loading: pos\n",
      "2022-02-11 11:16:53 INFO: Loading: lemma\n",
      "2022-02-11 11:16:53 INFO: Loading: depparse\n",
      "2022-02-11 11:16:53 INFO: Loading: sentiment\n",
      "2022-02-11 11:16:53 INFO: Loading: constituency\n",
      "2022-02-11 11:16:53 INFO: Loading: ner\n",
      "2022-02-11 11:16:54 INFO: Done loading processors!\n"
     ]
    }
   ],
   "source": [
    "phraser = preprocess.preprocess('Fat cat is good🙂 but bad car is red.')"
   ]
  },
  {
   "cell_type": "code",
   "execution_count": 4,
   "metadata": {},
   "outputs": [
    {
     "data": {
      "text/plain": [
       "['Fat cat', 'good cat', 'bad car', 'red car']"
      ]
     },
     "execution_count": 4,
     "metadata": {},
     "output_type": "execute_result"
    }
   ],
   "source": [
    "phraser.phrase_extract()"
   ]
  },
  {
   "cell_type": "code",
   "execution_count": 5,
   "metadata": {
    "tags": []
   },
   "outputs": [
    {
     "name": "stderr",
     "output_type": "stream",
     "text": [
      "2022-02-11 11:16:54 INFO: Loading these models for language: en (English):\n",
      "============================\n",
      "| Processor    | Package   |\n",
      "----------------------------\n",
      "| tokenize     | combined  |\n",
      "| pos          | combined  |\n",
      "| lemma        | combined  |\n",
      "| depparse     | combined  |\n",
      "| sentiment    | sstplus   |\n",
      "| constituency | wsj       |\n",
      "| ner          | ontonotes |\n",
      "============================\n",
      "\n",
      "2022-02-11 11:16:54 INFO: Use device: gpu\n",
      "2022-02-11 11:16:54 INFO: Loading: tokenize\n",
      "2022-02-11 11:16:54 INFO: Loading: pos\n",
      "2022-02-11 11:16:54 INFO: Loading: lemma\n",
      "2022-02-11 11:16:54 INFO: Loading: depparse\n",
      "2022-02-11 11:16:54 INFO: Loading: sentiment\n",
      "2022-02-11 11:16:55 INFO: Loading: constituency\n",
      "2022-02-11 11:16:55 INFO: Loading: ner\n",
      "2022-02-11 11:16:55 INFO: Done loading processors!\n",
      "2022-02-11 11:16:55 INFO: Loading these models for language: en (English):\n",
      "============================\n",
      "| Processor    | Package   |\n",
      "----------------------------\n",
      "| tokenize     | combined  |\n",
      "| pos          | combined  |\n",
      "| lemma        | combined  |\n",
      "| depparse     | combined  |\n",
      "| sentiment    | sstplus   |\n",
      "| constituency | wsj       |\n",
      "| ner          | ontonotes |\n",
      "============================\n",
      "\n",
      "2022-02-11 11:16:55 INFO: Use device: gpu\n",
      "2022-02-11 11:16:55 INFO: Loading: tokenize\n",
      "2022-02-11 11:16:55 INFO: Loading: pos\n",
      "2022-02-11 11:16:55 INFO: Loading: lemma\n",
      "2022-02-11 11:16:55 INFO: Loading: depparse\n",
      "2022-02-11 11:16:56 INFO: Loading: sentiment\n",
      "2022-02-11 11:16:56 INFO: Loading: constituency\n",
      "2022-02-11 11:16:56 INFO: Loading: ner\n",
      "2022-02-11 11:16:56 INFO: Done loading processors!\n",
      "2022-02-11 11:16:56 INFO: Loading these models for language: en (English):\n",
      "============================\n",
      "| Processor    | Package   |\n",
      "----------------------------\n",
      "| tokenize     | combined  |\n",
      "| pos          | combined  |\n",
      "| lemma        | combined  |\n",
      "| depparse     | combined  |\n",
      "| sentiment    | sstplus   |\n",
      "| constituency | wsj       |\n",
      "| ner          | ontonotes |\n",
      "============================\n",
      "\n",
      "2022-02-11 11:16:56 INFO: Use device: gpu\n",
      "2022-02-11 11:16:56 INFO: Loading: tokenize\n",
      "2022-02-11 11:16:57 INFO: Loading: pos\n",
      "2022-02-11 11:16:57 INFO: Loading: lemma\n",
      "2022-02-11 11:16:57 INFO: Loading: depparse\n",
      "2022-02-11 11:16:57 INFO: Loading: sentiment\n",
      "2022-02-11 11:16:57 INFO: Loading: constituency\n",
      "2022-02-11 11:16:57 INFO: Loading: ner\n",
      "2022-02-11 11:16:58 INFO: Done loading processors!\n",
      "2022-02-11 11:16:58 INFO: Loading these models for language: en (English):\n",
      "============================\n",
      "| Processor    | Package   |\n",
      "----------------------------\n",
      "| tokenize     | combined  |\n",
      "| pos          | combined  |\n",
      "| lemma        | combined  |\n",
      "| depparse     | combined  |\n",
      "| sentiment    | sstplus   |\n",
      "| constituency | wsj       |\n",
      "| ner          | ontonotes |\n",
      "============================\n",
      "\n",
      "2022-02-11 11:16:58 INFO: Use device: gpu\n",
      "2022-02-11 11:16:58 INFO: Loading: tokenize\n",
      "2022-02-11 11:16:58 INFO: Loading: pos\n",
      "2022-02-11 11:16:58 INFO: Loading: lemma\n",
      "2022-02-11 11:16:58 INFO: Loading: depparse\n",
      "2022-02-11 11:16:58 INFO: Loading: sentiment\n",
      "2022-02-11 11:16:58 INFO: Loading: constituency\n",
      "2022-02-11 11:16:59 INFO: Loading: ner\n",
      "2022-02-11 11:16:59 INFO: Done loading processors!\n"
     ]
    }
   ],
   "source": [
    "sentiment_list = []\n",
    "for phrase in phraser.phrase_extract():\n",
    "    sentiment_list.append((phrase, preprocess.preprocess(phrase).sent_finder()))"
   ]
  },
  {
   "cell_type": "code",
   "execution_count": 6,
   "metadata": {},
   "outputs": [
    {
     "data": {
      "text/plain": [
       "[('Fat cat', 0.0),\n",
       " ('good cat', 0.7),\n",
       " ('bad car', -0.6999999999999998),\n",
       " ('red car', 0.0)]"
      ]
     },
     "execution_count": 6,
     "metadata": {},
     "output_type": "execute_result"
    }
   ],
   "source": [
    "sentiment_list"
   ]
  }
 ],
 "metadata": {
  "kernelspec": {
   "display_name": "Python 3",
   "language": "python",
   "name": "python3"
  },
  "language_info": {
   "codemirror_mode": {
    "name": "ipython",
    "version": 3
   },
   "file_extension": ".py",
   "mimetype": "text/x-python",
   "name": "python",
   "nbconvert_exporter": "python",
   "pygments_lexer": "ipython3",
   "version": "3.8.12"
  }
 },
 "nbformat": 4,
 "nbformat_minor": 4
}
