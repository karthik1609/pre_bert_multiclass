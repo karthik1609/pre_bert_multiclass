{
 "cells": [
  {
   "cell_type": "code",
   "execution_count": 1,
   "id": "f457fe5f-fde4-4b1f-85b6-6dcd4e2a40c0",
   "metadata": {
    "execution": {
     "iopub.execute_input": "2022-03-11T08:36:38.066727Z",
     "iopub.status.busy": "2022-03-11T08:36:38.066597Z",
     "iopub.status.idle": "2022-03-11T08:36:42.384674Z",
     "shell.execute_reply": "2022-03-11T08:36:42.384332Z",
     "shell.execute_reply.started": "2022-03-11T08:36:38.066685Z"
    },
    "tags": []
   },
   "outputs": [
    {
     "name": "stderr",
     "output_type": "stream",
     "text": [
      "2022-03-11 14:06:41 INFO: Loading these models for language: en (English):\n",
      "============================\n",
      "| Processor    | Package   |\n",
      "----------------------------\n",
      "| tokenize     | combined  |\n",
      "| pos          | combined  |\n",
      "| lemma        | combined  |\n",
      "| depparse     | combined  |\n",
      "| sentiment    | sstplus   |\n",
      "| constituency | wsj       |\n",
      "| ner          | ontonotes |\n",
      "============================\n",
      "\n",
      "2022-03-11 14:06:41 INFO: Use device: cpu\n",
      "2022-03-11 14:06:41 INFO: Loading: tokenize\n",
      "2022-03-11 14:06:41 INFO: Loading: pos\n",
      "2022-03-11 14:06:41 INFO: Loading: lemma\n",
      "2022-03-11 14:06:41 INFO: Loading: depparse\n",
      "2022-03-11 14:06:41 INFO: Loading: sentiment\n",
      "2022-03-11 14:06:41 INFO: Loading: constituency\n",
      "2022-03-11 14:06:41 INFO: Loading: ner\n",
      "2022-03-11 14:06:42 INFO: Done loading processors!\n"
     ]
    }
   ],
   "source": [
    "%config Completer.use_jedi = False\n",
    "\n",
    "import pandas as pd\n",
    "import matplotlib.pyplot as plt\n",
    "import numpy as np\n",
    "from tqdm import tqdm\n",
    "import warnings\n",
    "import preprocess\n",
    "import fasttext.util\n",
    "import spacy_stanza\n",
    "from spacytextblob.spacytextblob import SpacyTextBlob\n",
    "import re\n",
    "from nltk.corpus import stopwords \n",
    "import swifter\n",
    "\n",
    "nlp = spacy_stanza.load_pipeline(\"en\", use_gpu=False)\n",
    "fasttext.util.download_model('en', if_exists='ignore')\n",
    "warnings.filterwarnings(\"ignore\")\n",
    "stop_words = stopwords.words('english')\n",
    "import json\n",
    "\n",
    "from fastai.text import *\n",
    "from fastai.text.all import *"
   ]
  },
  {
   "cell_type": "code",
   "execution_count": 2,
   "id": "a27cca95-13a6-4c2d-8c67-783bd66e9124",
   "metadata": {
    "execution": {
     "iopub.execute_input": "2022-03-11T08:36:42.385752Z",
     "iopub.status.busy": "2022-03-11T08:36:42.385237Z",
     "iopub.status.idle": "2022-03-11T08:36:42.400820Z",
     "shell.execute_reply": "2022-03-11T08:36:42.400394Z",
     "shell.execute_reply.started": "2022-03-11T08:36:42.385726Z"
    },
    "tags": []
   },
   "outputs": [],
   "source": [
    "with open('domify.json', 'r') as fp:\n",
    "    conv = json.load(fp)\n",
    "    \n",
    "conv_dict = {}\n",
    "for tmp_ in conv:\n",
    "    conv_dict[tmp_['word']] = {}\n",
    "    conv_dict[tmp_['word']]['cluster_id'] = tmp_['cluster_id']\n",
    "    conv_dict[tmp_['word']]['weight'] = tmp_['weight']\n",
    "    conv_dict[tmp_['word']]['dom_word'] = tmp_['dom_word']"
   ]
  },
  {
   "cell_type": "code",
   "execution_count": 3,
   "id": "f6669c17-7e1f-4ee0-a30f-dc846f100f34",
   "metadata": {
    "execution": {
     "iopub.execute_input": "2022-03-11T08:36:42.401951Z",
     "iopub.status.busy": "2022-03-11T08:36:42.401790Z",
     "iopub.status.idle": "2022-03-11T08:36:42.634421Z",
     "shell.execute_reply": "2022-03-11T08:36:42.634000Z",
     "shell.execute_reply.started": "2022-03-11T08:36:42.401933Z"
    },
    "tags": []
   },
   "outputs": [],
   "source": [
    "train_df = pd.read_excel('yulu_analysis_selected.xlsx').fillna('').drop(['Unnamed: 0'], axis = 1)\n",
    "test_df = pd.read_excel('Yulu_dataanalysis.xlsx').rename(columns = {'Unnamed: 0': 'index'}).fillna('')\n",
    "\n",
    "tqdm.pandas()\n",
    "\n",
    "class_list = list(train_df.columns)[2:]\n",
    "#class_list.pop(0)\n",
    "#class_list.pop(0)\n",
    "df_orig = test_df.copy()"
   ]
  },
  {
   "cell_type": "code",
   "execution_count": 4,
   "id": "fd222958-0a1e-4b64-bbaa-21d78f2e5a2c",
   "metadata": {
    "execution": {
     "iopub.execute_input": "2022-03-11T08:36:42.635201Z",
     "iopub.status.busy": "2022-03-11T08:36:42.635057Z",
     "iopub.status.idle": "2022-03-11T08:36:42.639671Z",
     "shell.execute_reply": "2022-03-11T08:36:42.639249Z",
     "shell.execute_reply.started": "2022-03-11T08:36:42.635180Z"
    },
    "tags": []
   },
   "outputs": [],
   "source": [
    "def column_regularize(df):\n",
    "    for col in df.columns:\n",
    "        df.rename(columns = {col:''.join(col.strip().lower().split(' '))}, inplace = True)\n",
    "        df.rename(columns = {col:''.join(col.strip().lower().split('_'))}, inplace = True)\n",
    "    return df\n",
    "\n",
    "def phraser(x):\n",
    "    phrase_list = preprocess.preprocess(x, True, nlp).phrase_extract()\n",
    "    return phrase_list\n",
    "\n",
    "def func(x):\n",
    "    if not x:\n",
    "        return ['xxxxx xxxxx']\n",
    "    else:\n",
    "        return x\n",
    "    \n",
    "def joiner(x):\n",
    "    return '. '.join(x)"
   ]
  },
  {
   "cell_type": "code",
   "execution_count": 5,
   "id": "d3efa6fa-b7e6-44c4-8050-721a01efda8c",
   "metadata": {
    "execution": {
     "iopub.execute_input": "2022-03-11T08:36:42.640667Z",
     "iopub.status.busy": "2022-03-11T08:36:42.640456Z",
     "iopub.status.idle": "2022-03-11T08:36:42.644362Z",
     "shell.execute_reply": "2022-03-11T08:36:42.643919Z",
     "shell.execute_reply.started": "2022-03-11T08:36:42.640625Z"
    },
    "tags": []
   },
   "outputs": [],
   "source": [
    "def domify(comment):\n",
    "    return ' '.join([conv_dict[word]['dom_word'] for word in comment.encode(\"ascii\", \"ignore\").decode().strip().lower().split() if word in conv_dict.keys()])"
   ]
  },
  {
   "cell_type": "code",
   "execution_count": 6,
   "id": "1f3f9a14-10b2-4b4d-aa22-0ef2a60d1c43",
   "metadata": {
    "execution": {
     "iopub.execute_input": "2022-03-11T08:36:44.407755Z",
     "iopub.status.busy": "2022-03-11T08:36:44.407565Z",
     "iopub.status.idle": "2022-03-11T08:41:58.275951Z",
     "shell.execute_reply": "2022-03-11T08:41:58.275554Z",
     "shell.execute_reply.started": "2022-03-11T08:36:44.407736Z"
    },
    "tags": []
   },
   "outputs": [
    {
     "data": {
      "application/vnd.jupyter.widget-view+json": {
       "model_id": "2ebf54af7ffc439a96f4d3d0d0552bd3",
       "version_major": 2,
       "version_minor": 0
      },
      "text/plain": [
       "Pandas Apply:   0%|          | 0/420 [00:00<?, ?it/s]"
      ]
     },
     "metadata": {},
     "output_type": "display_data"
    },
    {
     "data": {
      "application/vnd.jupyter.widget-view+json": {
       "model_id": "ace4ac4a7e62433cbffa8eebcbf512c1",
       "version_major": 2,
       "version_minor": 0
      },
      "text/plain": [
       "Pandas Apply:   0%|          | 0/1024 [00:00<?, ?it/s]"
      ]
     },
     "metadata": {},
     "output_type": "display_data"
    },
    {
     "data": {
      "application/vnd.jupyter.widget-view+json": {
       "model_id": "55a97fcf435844ca85851b3cab381384",
       "version_major": 2,
       "version_minor": 0
      },
      "text/plain": [
       "Pandas Apply:   0%|          | 0/420 [00:00<?, ?it/s]"
      ]
     },
     "metadata": {},
     "output_type": "display_data"
    },
    {
     "data": {
      "application/vnd.jupyter.widget-view+json": {
       "model_id": "f1082935be2b41149dcf40e73e399c85",
       "version_major": 2,
       "version_minor": 0
      },
      "text/plain": [
       "Pandas Apply:   0%|          | 0/1024 [00:00<?, ?it/s]"
      ]
     },
     "metadata": {},
     "output_type": "display_data"
    },
    {
     "data": {
      "application/vnd.jupyter.widget-view+json": {
       "model_id": "b614f87c08ac41c987fa3a278b472ab5",
       "version_major": 2,
       "version_minor": 0
      },
      "text/plain": [
       "Pandas Apply:   0%|          | 0/420 [00:00<?, ?it/s]"
      ]
     },
     "metadata": {},
     "output_type": "display_data"
    },
    {
     "data": {
      "application/vnd.jupyter.widget-view+json": {
       "model_id": "d0127dd91b0242ee9c7de6959837bd70",
       "version_major": 2,
       "version_minor": 0
      },
      "text/plain": [
       "Pandas Apply:   0%|          | 0/1024 [00:00<?, ?it/s]"
      ]
     },
     "metadata": {},
     "output_type": "display_data"
    },
    {
     "data": {
      "application/vnd.jupyter.widget-view+json": {
       "model_id": "22a4828634474dacaed7b63271fc5139",
       "version_major": 2,
       "version_minor": 0
      },
      "text/plain": [
       "Pandas Apply:   0%|          | 0/420 [00:00<?, ?it/s]"
      ]
     },
     "metadata": {},
     "output_type": "display_data"
    },
    {
     "data": {
      "application/vnd.jupyter.widget-view+json": {
       "model_id": "b92593c18c3a4821acf73d61e460521f",
       "version_major": 2,
       "version_minor": 0
      },
      "text/plain": [
       "Pandas Apply:   0%|          | 0/1024 [00:00<?, ?it/s]"
      ]
     },
     "metadata": {},
     "output_type": "display_data"
    },
    {
     "data": {
      "application/vnd.jupyter.widget-view+json": {
       "model_id": "68ddf0248b7042b9b0fa3d736f0e175c",
       "version_major": 2,
       "version_minor": 0
      },
      "text/plain": [
       "Pandas Apply:   0%|          | 0/420 [00:00<?, ?it/s]"
      ]
     },
     "metadata": {},
     "output_type": "display_data"
    },
    {
     "data": {
      "application/vnd.jupyter.widget-view+json": {
       "model_id": "375efc48707a47b5b7e90fe5c2246451",
       "version_major": 2,
       "version_minor": 0
      },
      "text/plain": [
       "Pandas Apply:   0%|          | 0/1024 [00:00<?, ?it/s]"
      ]
     },
     "metadata": {},
     "output_type": "display_data"
    }
   ],
   "source": [
    "train_df = column_regularize(train_df)\n",
    "test_df = column_regularize(test_df)\n",
    "\n",
    "act_train = train_df.revcontent\n",
    "act_test = test_df.revcontent\n",
    "\n",
    "train_df['revcontent'] = train_df.revcontent\n",
    "test_df['revcontent'] = test_df.revcontent\n",
    "\n",
    "train_df['revcontent'] = train_df.revcontent.swifter.apply(lambda x: domify(x))\n",
    "test_df['revcontent'] = test_df.revcontent.swifter.apply(lambda x: domify(x))\n",
    "\n",
    "train_df['phraselist'] = train_df.revcontent.swifter.apply(lambda x: phraser(x))\n",
    "test_df['phraselist'] = test_df.revcontent.swifter.apply(lambda x: phraser(x))\n",
    "\n",
    "#train_df['phraselist'] = train_df.phraselist.swifter.apply(lambda x: [x_[1:-1] for x_ in x.strip('][').split(', ')])\n",
    "#test_df['phraselist'] = test_df.phraselist.swifter.apply(lambda x: [x_[1:-1] for x_ in x.strip('][').split(', ')])\n",
    "\n",
    "train_df['phraselist'] = train_df.phraselist.swifter.apply(lambda x: [x_ for x_ in x if len(x_.strip().split(' ')) == 2])\n",
    "test_df['phraselist'] = test_df.phraselist.swifter.apply(lambda x: [x_ for x_ in x if len(x_.strip().split(' ')) == 2])\n",
    "\n",
    "train_df['phraselist'] = train_df.phraselist.swifter.apply(lambda x: func(x))\n",
    "test_df['phraselist'] = test_df.phraselist.swifter.apply(lambda x: func(x))\n",
    "\n",
    "train_df['phraselist'] = train_df.phraselist.swifter.apply(lambda x: joiner(x))\n",
    "test_df['phraselist'] = test_df.phraselist.swifter.apply(lambda x: joiner(x))\n",
    "\n",
    "train_df = train_df.reset_index()\n",
    "test_df = test_df.reset_index()"
   ]
  },
  {
   "cell_type": "code",
   "execution_count": 7,
   "id": "c74b7a17-1714-4087-a4e3-aafa51b4f6c0",
   "metadata": {
    "execution": {
     "iopub.execute_input": "2022-03-11T08:41:58.709244Z",
     "iopub.status.busy": "2022-03-11T08:41:58.709142Z",
     "iopub.status.idle": "2022-03-11T08:41:58.719910Z",
     "shell.execute_reply": "2022-03-11T08:41:58.719592Z",
     "shell.execute_reply.started": "2022-03-11T08:41:58.709230Z"
    },
    "tags": []
   },
   "outputs": [
    {
     "data": {
      "text/html": [
       "<div>\n",
       "<style scoped>\n",
       "    .dataframe tbody tr th:only-of-type {\n",
       "        vertical-align: middle;\n",
       "    }\n",
       "\n",
       "    .dataframe tbody tr th {\n",
       "        vertical-align: top;\n",
       "    }\n",
       "\n",
       "    .dataframe thead th {\n",
       "        text-align: right;\n",
       "    }\n",
       "</style>\n",
       "<table border=\"1\" class=\"dataframe\">\n",
       "  <thead>\n",
       "    <tr style=\"text-align: right;\">\n",
       "      <th></th>\n",
       "      <th>index</th>\n",
       "      <th>revcontent</th>\n",
       "      <th>pricing</th>\n",
       "      <th>payments</th>\n",
       "      <th>customercare</th>\n",
       "      <th>maintenance</th>\n",
       "      <th>service</th>\n",
       "      <th>ride</th>\n",
       "      <th>bike</th>\n",
       "      <th>app</th>\n",
       "      <th>general</th>\n",
       "      <th>phraselist</th>\n",
       "    </tr>\n",
       "  </thead>\n",
       "  <tbody>\n",
       "    <tr>\n",
       "      <th>0</th>\n",
       "      <td>0</td>\n",
       "      <td>it good cheap and reliable good bicycle and easy to ride</td>\n",
       "      <td>Positive</td>\n",
       "      <td></td>\n",
       "      <td></td>\n",
       "      <td></td>\n",
       "      <td></td>\n",
       "      <td>Positive</td>\n",
       "      <td></td>\n",
       "      <td></td>\n",
       "      <td></td>\n",
       "      <td>it bicycle. good bicycle. cheap bicycle. good bicycle. easy bicycle</td>\n",
       "    </tr>\n",
       "    <tr>\n",
       "      <th>1</th>\n",
       "      <td>1</td>\n",
       "      <td>cheap and environment friendly but a bit tired on main road a there is no indicator horn or mirror</td>\n",
       "      <td>Positive</td>\n",
       "      <td></td>\n",
       "      <td></td>\n",
       "      <td></td>\n",
       "      <td></td>\n",
       "      <td></td>\n",
       "      <td></td>\n",
       "      <td></td>\n",
       "      <td></td>\n",
       "      <td>cheap environment. and environment. tired bit. tired road. main road. is mirror. no mirror. horn mirror. indicator mirror. or mirror. horn mirror</td>\n",
       "    </tr>\n",
       "  </tbody>\n",
       "</table>\n",
       "</div>"
      ],
      "text/plain": [
       "   index  \\\n",
       "0      0   \n",
       "1      1   \n",
       "\n",
       "                                                                                           revcontent  \\\n",
       "0                                            it good cheap and reliable good bicycle and easy to ride   \n",
       "1  cheap and environment friendly but a bit tired on main road a there is no indicator horn or mirror   \n",
       "\n",
       "    pricing payments customercare maintenance service      ride bike app  \\\n",
       "0  Positive                                            Positive            \n",
       "1  Positive                                                                \n",
       "\n",
       "  general  \\\n",
       "0           \n",
       "1           \n",
       "\n",
       "                                                                                                                                          phraselist  \n",
       "0                                                                                it bicycle. good bicycle. cheap bicycle. good bicycle. easy bicycle  \n",
       "1  cheap environment. and environment. tired bit. tired road. main road. is mirror. no mirror. horn mirror. indicator mirror. or mirror. horn mirror  "
      ]
     },
     "execution_count": 7,
     "metadata": {},
     "output_type": "execute_result"
    }
   ],
   "source": [
    "train_df.head(2)"
   ]
  },
  {
   "cell_type": "code",
   "execution_count": 8,
   "id": "7a54f9a1-02f2-4e38-8412-c149e902add1",
   "metadata": {
    "execution": {
     "iopub.execute_input": "2022-03-11T08:41:58.720484Z",
     "iopub.status.busy": "2022-03-11T08:41:58.720382Z",
     "iopub.status.idle": "2022-03-11T08:41:58.842428Z",
     "shell.execute_reply": "2022-03-11T08:41:58.841998Z",
     "shell.execute_reply.started": "2022-03-11T08:41:58.720470Z"
    },
    "tags": []
   },
   "outputs": [],
   "source": [
    "def text_builder(df):\n",
    "    df = df.rename(columns = {'content': 'rev_content'})\n",
    "    return df\n",
    "df = pd.read_json('yulu.gplay.json').reset_index()\n",
    "df = text_builder(df)[['index', 'rev_content']]"
   ]
  },
  {
   "cell_type": "code",
   "execution_count": 9,
   "id": "60eed98d-448a-4842-a047-afbc2a290024",
   "metadata": {
    "execution": {
     "iopub.execute_input": "2022-03-11T08:41:58.843086Z",
     "iopub.status.busy": "2022-03-11T08:41:58.842977Z",
     "iopub.status.idle": "2022-03-11T08:41:58.865682Z",
     "shell.execute_reply": "2022-03-11T08:41:58.865218Z",
     "shell.execute_reply.started": "2022-03-11T08:41:58.843071Z"
    },
    "tags": []
   },
   "outputs": [],
   "source": [
    "df1 = pd.read_csv('train.csv').rename(columns = {'Id': 'index', 'Review': 'rev_content'})[['index', 'rev_content']]\n",
    "df2 = pd.read_csv('test.csv').rename(columns = {'Id': 'index', 'Review': 'rev_content'})[['index', 'rev_content']]"
   ]
  },
  {
   "cell_type": "code",
   "execution_count": 10,
   "id": "1ca78101-065e-40f1-8bbd-b7f6b37ddfdd",
   "metadata": {
    "execution": {
     "iopub.execute_input": "2022-03-11T08:41:58.866508Z",
     "iopub.status.busy": "2022-03-11T08:41:58.866364Z",
     "iopub.status.idle": "2022-03-11T08:41:58.871209Z",
     "shell.execute_reply": "2022-03-11T08:41:58.870908Z",
     "shell.execute_reply.started": "2022-03-11T08:41:58.866488Z"
    },
    "tags": []
   },
   "outputs": [],
   "source": [
    "df = pd.concat([df, df1, df2], axis=0)\n",
    "df = column_regularize(df)"
   ]
  },
  {
   "cell_type": "code",
   "execution_count": 11,
   "id": "0b0da64f-f9e4-4b95-995f-30944c889147",
   "metadata": {
    "execution": {
     "iopub.execute_input": "2022-03-11T08:41:58.871871Z",
     "iopub.status.busy": "2022-03-11T08:41:58.871702Z",
     "iopub.status.idle": "2022-03-11T08:41:58.874660Z",
     "shell.execute_reply": "2022-03-11T08:41:58.874412Z",
     "shell.execute_reply.started": "2022-03-11T08:41:58.871843Z"
    },
    "tags": []
   },
   "outputs": [
    {
     "data": {
      "text/plain": [
       "Index(['index', 'revcontent'], dtype='object')"
      ]
     },
     "execution_count": 11,
     "metadata": {},
     "output_type": "execute_result"
    }
   ],
   "source": [
    "df.columns"
   ]
  },
  {
   "cell_type": "code",
   "execution_count": 12,
   "id": "2c7ccd96-3787-422e-b435-632a837f2fbf",
   "metadata": {
    "execution": {
     "iopub.execute_input": "2022-03-11T08:41:58.875355Z",
     "iopub.status.busy": "2022-03-11T08:41:58.875228Z",
     "iopub.status.idle": "2022-03-11T08:41:58.879421Z",
     "shell.execute_reply": "2022-03-11T08:41:58.879023Z",
     "shell.execute_reply.started": "2022-03-11T08:41:58.875341Z"
    },
    "tags": []
   },
   "outputs": [],
   "source": [
    "min_train = min(train_df['index'])\n",
    "train_df['index'] = train_df['index'].apply(lambda x: x - min_train)\n",
    "\n",
    "min_test = min(test_df['index'])\n",
    "test_df['index'] = test_df['index'].apply(lambda x: x - min_test)"
   ]
  },
  {
   "cell_type": "code",
   "execution_count": 13,
   "id": "ab31e37f-9a2f-4eab-b230-5a3a99325caf",
   "metadata": {
    "execution": {
     "iopub.execute_input": "2022-03-11T08:41:58.880052Z",
     "iopub.status.busy": "2022-03-11T08:41:58.879951Z",
     "iopub.status.idle": "2022-03-11T08:41:58.883370Z",
     "shell.execute_reply": "2022-03-11T08:41:58.882948Z",
     "shell.execute_reply.started": "2022-03-11T08:41:58.880039Z"
    },
    "tags": []
   },
   "outputs": [],
   "source": [
    "#train_df"
   ]
  },
  {
   "cell_type": "code",
   "execution_count": 14,
   "id": "40adeb9c-e02b-4dd3-8cfb-77bb365eddde",
   "metadata": {
    "execution": {
     "iopub.execute_input": "2022-03-11T08:41:58.883855Z",
     "iopub.status.busy": "2022-03-11T08:41:58.883729Z",
     "iopub.status.idle": "2022-03-11T08:41:58.894695Z",
     "shell.execute_reply": "2022-03-11T08:41:58.894335Z",
     "shell.execute_reply.started": "2022-03-11T08:41:58.883814Z"
    },
    "tags": []
   },
   "outputs": [],
   "source": [
    "def str2num(x):\n",
    "    if x:\n",
    "        return 1\n",
    "    else:\n",
    "        return 0\n",
    "\n",
    "for col in train_df.columns[2:-1]:\n",
    "    train_df[col] = train_df[col].apply(lambda x: str2num(x))\n",
    "    test_df[col] = test_df[col].apply(lambda x: str2num(x))"
   ]
  },
  {
   "cell_type": "code",
   "execution_count": 15,
   "id": "445489b1-452d-4eba-973b-8a1f1c8faed1",
   "metadata": {
    "execution": {
     "iopub.execute_input": "2022-03-11T08:41:58.895398Z",
     "iopub.status.busy": "2022-03-11T08:41:58.895297Z",
     "iopub.status.idle": "2022-03-11T08:42:11.530153Z",
     "shell.execute_reply": "2022-03-11T08:42:11.529624Z",
     "shell.execute_reply.started": "2022-03-11T08:41:58.895384Z"
    },
    "tags": []
   },
   "outputs": [
    {
     "data": {
      "text/html": [],
      "text/plain": [
       "<IPython.core.display.HTML object>"
      ]
     },
     "metadata": {},
     "output_type": "display_data"
    },
    {
     "data": {
      "text/plain": [
       "6088"
      ]
     },
     "execution_count": 15,
     "metadata": {},
     "output_type": "execute_result"
    }
   ],
   "source": [
    "dls_lm = TextDataLoaders.from_df(\n",
    "    df,\n",
    "    text_col = 'revcontent',\n",
    "    valid_pct = .2,\n",
    "    is_lm = True,\n",
    "    seq_len = 72,\n",
    "    bs = 64\n",
    ")\n",
    "dls_blk = DataBlock(\n",
    "    blocks = (\n",
    "        TextBlock.from_df(\n",
    "            text_cols = 'revcontent', \n",
    "            seq_len = 128, \n",
    "            vocab = dls_lm.vocab\n",
    "        ),\n",
    "        MultiCategoryBlock\n",
    "    ),\n",
    "    get_x = ColReader(\n",
    "        cols = 'text'\n",
    "    ),\n",
    "    get_y = ColReader(\n",
    "        cols = 'Labels', \n",
    "        label_delim = \";\"\n",
    "    ),\n",
    "    splitter = TrainTestSplitter(\n",
    "        test_size = 0.2, \n",
    "        random_state = 42\n",
    "    )\n",
    ")\n",
    "\n",
    "len(dls_lm.vocab)"
   ]
  },
  {
   "cell_type": "code",
   "execution_count": 16,
   "id": "17691b9c-e673-4e03-a18e-19070bbac8bb",
   "metadata": {
    "execution": {
     "iopub.execute_input": "2022-03-11T08:42:11.531151Z",
     "iopub.status.busy": "2022-03-11T08:42:11.530901Z",
     "iopub.status.idle": "2022-03-11T08:42:11.846644Z",
     "shell.execute_reply": "2022-03-11T08:42:11.846249Z",
     "shell.execute_reply.started": "2022-03-11T08:42:11.531122Z"
    },
    "tags": []
   },
   "outputs": [],
   "source": [
    "learn = language_model_learner(\n",
    "    dls_lm, \n",
    "    AWD_LSTM,\n",
    "    drop_mult = .3,\n",
    "    metrics = [\n",
    "        accuracy, \n",
    "        #accuracy_multi,\n",
    "        Perplexity()\n",
    "    ]\n",
    ").to_fp16()"
   ]
  },
  {
   "cell_type": "code",
   "execution_count": 17,
   "id": "820ad5db-dbb4-40bc-a61d-9e19fe295992",
   "metadata": {
    "execution": {
     "iopub.execute_input": "2022-03-11T08:42:11.847308Z",
     "iopub.status.busy": "2022-03-11T08:42:11.847171Z",
     "iopub.status.idle": "2022-03-11T08:42:27.219404Z",
     "shell.execute_reply": "2022-03-11T08:42:27.218997Z",
     "shell.execute_reply.started": "2022-03-11T08:42:11.847294Z"
    },
    "tags": []
   },
   "outputs": [
    {
     "data": {
      "text/html": [],
      "text/plain": [
       "<IPython.core.display.HTML object>"
      ]
     },
     "metadata": {},
     "output_type": "display_data"
    },
    {
     "data": {
      "image/png": "[encoded data removed]",
      "text/plain": [
       "<Figure size 432x288 with 1 Axes>"
      ]
     },
     "metadata": {
      "needs_background": "light"
     },
     "output_type": "display_data"
    }
   ],
   "source": [
    "learn_lr = learn.lr_find().valley"
   ]
  },
  {
   "cell_type": "code",
   "execution_count": 18,
   "id": "34484ffe-d978-44a0-980c-038b5a38f2a6",
   "metadata": {
    "execution": {
     "iopub.execute_input": "2022-03-11T08:42:27.220170Z",
     "iopub.status.busy": "2022-03-11T08:42:27.220039Z",
     "iopub.status.idle": "2022-03-11T08:42:48.967223Z",
     "shell.execute_reply": "2022-03-11T08:42:48.966812Z",
     "shell.execute_reply.started": "2022-03-11T08:42:27.220143Z"
    },
    "tags": []
   },
   "outputs": [
    {
     "data": {
      "text/html": [
       "<table border=\"1\" class=\"dataframe\">\n",
       "  <thead>\n",
       "    <tr style=\"text-align: left;\">\n",
       "      <th>epoch</th>\n",
       "      <th>train_loss</th>\n",
       "      <th>valid_loss</th>\n",
       "      <th>accuracy</th>\n",
       "      <th>perplexity</th>\n",
       "      <th>time</th>\n",
       "    </tr>\n",
       "  </thead>\n",
       "  <tbody>\n",
       "    <tr>\n",
       "      <td>0</td>\n",
       "      <td>4.770515</td>\n",
       "      <td>4.513057</td>\n",
       "      <td>0.232596</td>\n",
       "      <td>91.200172</td>\n",
       "      <td>00:21</td>\n",
       "    </tr>\n",
       "  </tbody>\n",
       "</table>"
      ],
      "text/plain": [
       "<IPython.core.display.HTML object>"
      ]
     },
     "metadata": {},
     "output_type": "display_data"
    }
   ],
   "source": [
    "learn.fit_one_cycle(1, learn_lr)"
   ]
  },
  {
   "cell_type": "code",
   "execution_count": 19,
   "id": "df7062ba-44da-437e-add0-1234dc1353a5",
   "metadata": {
    "execution": {
     "iopub.execute_input": "2022-03-11T08:42:48.967857Z",
     "iopub.status.busy": "2022-03-11T08:42:48.967718Z",
     "iopub.status.idle": "2022-03-11T08:42:49.068253Z",
     "shell.execute_reply": "2022-03-11T08:42:49.067781Z",
     "shell.execute_reply.started": "2022-03-11T08:42:48.967829Z"
    },
    "tags": []
   },
   "outputs": [],
   "source": [
    "learn.save_encoder('encoder_v0')"
   ]
  },
  {
   "cell_type": "code",
   "execution_count": 20,
   "id": "afe6862c-d4c8-407e-b074-3797c0440b24",
   "metadata": {
    "execution": {
     "iopub.execute_input": "2022-03-11T08:42:49.068805Z",
     "iopub.status.busy": "2022-03-11T08:42:49.068704Z",
     "iopub.status.idle": "2022-03-11T08:47:11.277517Z",
     "shell.execute_reply": "2022-03-11T08:47:11.277109Z",
     "shell.execute_reply.started": "2022-03-11T08:42:49.068788Z"
    },
    "tags": []
   },
   "outputs": [
    {
     "data": {
      "text/html": [
       "<table border=\"1\" class=\"dataframe\">\n",
       "  <thead>\n",
       "    <tr style=\"text-align: left;\">\n",
       "      <th>epoch</th>\n",
       "      <th>train_loss</th>\n",
       "      <th>valid_loss</th>\n",
       "      <th>accuracy</th>\n",
       "      <th>perplexity</th>\n",
       "      <th>time</th>\n",
       "    </tr>\n",
       "  </thead>\n",
       "  <tbody>\n",
       "    <tr>\n",
       "      <td>0</td>\n",
       "      <td>4.266344</td>\n",
       "      <td>4.171529</td>\n",
       "      <td>0.256499</td>\n",
       "      <td>64.814499</td>\n",
       "      <td>00:23</td>\n",
       "    </tr>\n",
       "    <tr>\n",
       "      <td>1</td>\n",
       "      <td>4.135598</td>\n",
       "      <td>4.061101</td>\n",
       "      <td>0.266452</td>\n",
       "      <td>58.038200</td>\n",
       "      <td>00:23</td>\n",
       "    </tr>\n",
       "    <tr>\n",
       "      <td>2</td>\n",
       "      <td>4.018828</td>\n",
       "      <td>3.976341</td>\n",
       "      <td>0.275109</td>\n",
       "      <td>53.321575</td>\n",
       "      <td>00:23</td>\n",
       "    </tr>\n",
       "    <tr>\n",
       "      <td>3</td>\n",
       "      <td>3.922677</td>\n",
       "      <td>3.909584</td>\n",
       "      <td>0.280647</td>\n",
       "      <td>49.878189</td>\n",
       "      <td>00:23</td>\n",
       "    </tr>\n",
       "    <tr>\n",
       "      <td>4</td>\n",
       "      <td>3.829700</td>\n",
       "      <td>3.858216</td>\n",
       "      <td>0.285931</td>\n",
       "      <td>47.380741</td>\n",
       "      <td>00:22</td>\n",
       "    </tr>\n",
       "    <tr>\n",
       "      <td>5</td>\n",
       "      <td>3.729492</td>\n",
       "      <td>3.810510</td>\n",
       "      <td>0.289308</td>\n",
       "      <td>45.173470</td>\n",
       "      <td>00:24</td>\n",
       "    </tr>\n",
       "    <tr>\n",
       "      <td>6</td>\n",
       "      <td>3.629419</td>\n",
       "      <td>3.786934</td>\n",
       "      <td>0.290641</td>\n",
       "      <td>44.120934</td>\n",
       "      <td>00:23</td>\n",
       "    </tr>\n",
       "    <tr>\n",
       "      <td>7</td>\n",
       "      <td>3.515694</td>\n",
       "      <td>3.764946</td>\n",
       "      <td>0.291715</td>\n",
       "      <td>43.161396</td>\n",
       "      <td>00:24</td>\n",
       "    </tr>\n",
       "    <tr>\n",
       "      <td>8</td>\n",
       "      <td>3.401657</td>\n",
       "      <td>3.771429</td>\n",
       "      <td>0.292086</td>\n",
       "      <td>43.442101</td>\n",
       "      <td>00:23</td>\n",
       "    </tr>\n",
       "    <tr>\n",
       "      <td>9</td>\n",
       "      <td>3.278173</td>\n",
       "      <td>3.797895</td>\n",
       "      <td>0.289580</td>\n",
       "      <td>44.607185</td>\n",
       "      <td>00:24</td>\n",
       "    </tr>\n",
       "    <tr>\n",
       "      <td>10</td>\n",
       "      <td>3.107625</td>\n",
       "      <td>3.850477</td>\n",
       "      <td>0.287291</td>\n",
       "      <td>47.015484</td>\n",
       "      <td>00:25</td>\n",
       "    </tr>\n",
       "  </tbody>\n",
       "</table>"
      ],
      "text/plain": [
       "<IPython.core.display.HTML object>"
      ]
     },
     "metadata": {},
     "output_type": "display_data"
    },
    {
     "name": "stdout",
     "output_type": "stream",
     "text": [
      "Epoch 8: reducing lr to 0.0003957908905168493\n",
      "Epoch 10: reducing lr to 0.000539456775574863\n",
      "No improvement since epoch 8: early stopping\n"
     ]
    }
   ],
   "source": [
    "learn.unfreeze()\n",
    "learn.fit_one_cycle(\n",
    "    100, \n",
    "    learn_lr, \n",
    "    cbs=[\n",
    "        EarlyStoppingCallback(\n",
    "            monitor='accuracy', \n",
    "            min_delta=0, \n",
    "            patience=2\n",
    "        ), \n",
    "        ReduceLROnPlateau(\n",
    "            monitor='valid_loss', \n",
    "            comp=None, \n",
    "            min_delta=0.05, \n",
    "            patience=2, \n",
    "            factor=2.0, \n",
    "            min_lr=0, \n",
    "            reset_on_fit=True\n",
    "        )\n",
    "    ]\n",
    ")"
   ]
  },
  {
   "cell_type": "code",
   "execution_count": 21,
   "id": "7a5f4f9d-0c30-4b78-af45-cc1e952e9e4f",
   "metadata": {
    "execution": {
     "iopub.execute_input": "2022-03-11T08:47:11.279455Z",
     "iopub.status.busy": "2022-03-11T08:47:11.279344Z",
     "iopub.status.idle": "2022-03-11T08:47:11.380328Z",
     "shell.execute_reply": "2022-03-11T08:47:11.379920Z",
     "shell.execute_reply.started": "2022-03-11T08:47:11.279441Z"
    },
    "tags": []
   },
   "outputs": [],
   "source": [
    "learn.save_encoder('encoder_v1')"
   ]
  },
  {
   "cell_type": "code",
   "execution_count": 22,
   "id": "73dd5b4b-9902-4388-bd83-095cf0fee509",
   "metadata": {
    "execution": {
     "iopub.execute_input": "2022-03-11T08:47:11.381074Z",
     "iopub.status.busy": "2022-03-11T08:47:11.380970Z",
     "iopub.status.idle": "2022-03-11T08:47:11.444553Z",
     "shell.execute_reply": "2022-03-11T08:47:11.443383Z",
     "shell.execute_reply.started": "2022-03-11T08:47:11.381060Z"
    },
    "tags": []
   },
   "outputs": [
    {
     "data": {
      "text/html": [],
      "text/plain": [
       "<IPython.core.display.HTML object>"
      ]
     },
     "metadata": {},
     "output_type": "display_data"
    },
    {
     "data": {
      "text/plain": [
       "'ride is good Very good'"
      ]
     },
     "execution_count": 22,
     "metadata": {},
     "output_type": "execute_result"
    }
   ],
   "source": [
    "learn.predict('ride is', n_words = 5)"
   ]
  },
  {
   "cell_type": "code",
   "execution_count": 23,
   "id": "a93037c8-7c75-4cb2-ac48-0ba04262b84d",
   "metadata": {
    "execution": {
     "iopub.execute_input": "2022-03-11T08:47:11.445433Z",
     "iopub.status.busy": "2022-03-11T08:47:11.445209Z",
     "iopub.status.idle": "2022-03-11T08:47:11.465916Z",
     "shell.execute_reply": "2022-03-11T08:47:11.465363Z",
     "shell.execute_reply.started": "2022-03-11T08:47:11.445413Z"
    },
    "tags": []
   },
   "outputs": [],
   "source": [
    "train_df1 = train_df.copy()\n",
    "test_df1 = test_df.copy()\n",
    "\n",
    "#train_df1.revcontent = train_df1.revcontent + '. ' + train_df1.phraselist\n",
    "#test_df1.revcontent = test_df1.revcontent + '. ' + test_df1.phraselist\n",
    "\n",
    "#train_df1.revcontent = train_df1.phraselist\n",
    "#test_df1.revcontent = test_df1.phraselist\n",
    "\n",
    "train_df1.revcontent = train_df1.phraselist + '. ' + train_df1.revcontent\n",
    "test_df1.revcontent = test_df1.phraselist + '. ' + test_df1.revcontent\n",
    "\n",
    "train_df1 = train_df1.drop(['phraselist'], axis = 1)\n",
    "test_df1 = test_df1.drop(['phraselist'], axis = 1)"
   ]
  },
  {
   "cell_type": "code",
   "execution_count": 24,
   "id": "f9e8d87d-2b53-44a0-97f2-c833e32097d9",
   "metadata": {
    "execution": {
     "iopub.execute_input": "2022-03-11T08:47:11.467016Z",
     "iopub.status.busy": "2022-03-11T08:47:11.466802Z",
     "iopub.status.idle": "2022-03-11T08:47:11.612532Z",
     "shell.execute_reply": "2022-03-11T08:47:11.612069Z",
     "shell.execute_reply.started": "2022-03-11T08:47:11.466980Z"
    },
    "tags": []
   },
   "outputs": [],
   "source": [
    "label_cols = list(train_df1.columns[2:])\n",
    "\n",
    "def get_labels(row):\n",
    "    #print(row)\n",
    "    indcs = np.where(row != 0)[0]\n",
    "    #print(indcs)\n",
    "    if len(indcs) == 0:\n",
    "        return \"bland\"\n",
    "    return \";\".join([label_cols[x] for x in indcs])\n",
    "    \n",
    "labels = train_df1[label_cols].apply(lambda row: get_labels(row), axis = 1)\n",
    "train_df1[\"Labels\"] = labels\n",
    "\n",
    "labels = test_df1[label_cols].apply(lambda row: get_labels(row), axis = 1)\n",
    "test_df1[\"Labels\"] = labels"
   ]
  },
  {
   "cell_type": "code",
   "execution_count": 25,
   "id": "67ca2b28-a510-46fd-8306-23c7e16b6491",
   "metadata": {
    "execution": {
     "iopub.execute_input": "2022-03-11T08:47:11.613255Z",
     "iopub.status.busy": "2022-03-11T08:47:11.613100Z",
     "iopub.status.idle": "2022-03-11T08:47:12.475565Z",
     "shell.execute_reply": "2022-03-11T08:47:12.475108Z",
     "shell.execute_reply.started": "2022-03-11T08:47:11.613233Z"
    },
    "tags": []
   },
   "outputs": [
    {
     "data": {
      "text/html": [],
      "text/plain": [
       "<IPython.core.display.HTML object>"
      ]
     },
     "metadata": {},
     "output_type": "display_data"
    }
   ],
   "source": [
    "dls_clf = dls_blk.dataloaders(train_df1,\n",
    "                              bs = 64,\n",
    "                              seed = 20)"
   ]
  },
  {
   "cell_type": "code",
   "execution_count": 26,
   "id": "1149c70d-c6bb-48e4-9d6f-dc77cfe4cec6",
   "metadata": {
    "execution": {
     "iopub.execute_input": "2022-03-11T08:47:12.476480Z",
     "iopub.status.busy": "2022-03-11T08:47:12.476313Z",
     "iopub.status.idle": "2022-03-11T08:47:12.768572Z",
     "shell.execute_reply": "2022-03-11T08:47:12.768192Z",
     "shell.execute_reply.started": "2022-03-11T08:47:12.476438Z"
    },
    "tags": []
   },
   "outputs": [],
   "source": [
    "learn_clf = text_classifier_learner(dls_clf, \n",
    "                                    AWD_LSTM, \n",
    "                                    drop_mult=0.5,\n",
    "                                    metrics = accuracy_multi).to_fp16()\n",
    "\n",
    "\n",
    "learn_clf = learn_clf.load_encoder('encoder_v1')"
   ]
  },
  {
   "cell_type": "code",
   "execution_count": 27,
   "id": "7f4b287c-9cd0-4ca1-ad8b-ac2b750d26c9",
   "metadata": {
    "execution": {
     "iopub.execute_input": "2022-03-11T08:47:12.769430Z",
     "iopub.status.busy": "2022-03-11T08:47:12.769236Z",
     "iopub.status.idle": "2022-03-11T08:47:28.853199Z",
     "shell.execute_reply": "2022-03-11T08:47:28.852762Z",
     "shell.execute_reply.started": "2022-03-11T08:47:12.769408Z"
    },
    "tags": []
   },
   "outputs": [
    {
     "data": {
      "text/html": [],
      "text/plain": [
       "<IPython.core.display.HTML object>"
      ]
     },
     "metadata": {},
     "output_type": "display_data"
    },
    {
     "data": {
      "image/png": "[encoded data removed]",
      "text/plain": [
       "<Figure size 432x288 with 1 Axes>"
      ]
     },
     "metadata": {
      "needs_background": "light"
     },
     "output_type": "display_data"
    }
   ],
   "source": [
    "learn_clf_lr = learn_clf.lr_find().valley"
   ]
  },
  {
   "cell_type": "code",
   "execution_count": 28,
   "id": "bbb6817f-0baa-42d2-9680-7c90108820df",
   "metadata": {
    "execution": {
     "iopub.execute_input": "2022-03-11T08:47:28.853990Z",
     "iopub.status.busy": "2022-03-11T08:47:28.853872Z",
     "iopub.status.idle": "2022-03-11T08:47:30.410209Z",
     "shell.execute_reply": "2022-03-11T08:47:30.409789Z",
     "shell.execute_reply.started": "2022-03-11T08:47:28.853972Z"
    },
    "tags": []
   },
   "outputs": [
    {
     "data": {
      "text/html": [
       "<table border=\"1\" class=\"dataframe\">\n",
       "  <thead>\n",
       "    <tr style=\"text-align: left;\">\n",
       "      <th>epoch</th>\n",
       "      <th>train_loss</th>\n",
       "      <th>valid_loss</th>\n",
       "      <th>accuracy_multi</th>\n",
       "      <th>time</th>\n",
       "    </tr>\n",
       "  </thead>\n",
       "  <tbody>\n",
       "    <tr>\n",
       "      <td>0</td>\n",
       "      <td>0.707299</td>\n",
       "      <td>0.675195</td>\n",
       "      <td>0.611111</td>\n",
       "      <td>00:01</td>\n",
       "    </tr>\n",
       "  </tbody>\n",
       "</table>"
      ],
      "text/plain": [
       "<IPython.core.display.HTML object>"
      ]
     },
     "metadata": {},
     "output_type": "display_data"
    }
   ],
   "source": [
    "learn_clf.fit_one_cycle(1, learn_clf_lr)"
   ]
  },
  {
   "cell_type": "code",
   "execution_count": 29,
   "id": "56aeeb98-0699-41e6-8cd2-4b5b2da09b72",
   "metadata": {
    "execution": {
     "iopub.execute_input": "2022-03-11T08:47:30.411157Z",
     "iopub.status.busy": "2022-03-11T08:47:30.411045Z",
     "iopub.status.idle": "2022-03-11T08:47:31.994298Z",
     "shell.execute_reply": "2022-03-11T08:47:31.993787Z",
     "shell.execute_reply.started": "2022-03-11T08:47:30.411141Z"
    },
    "tags": []
   },
   "outputs": [
    {
     "data": {
      "text/html": [
       "<table border=\"1\" class=\"dataframe\">\n",
       "  <thead>\n",
       "    <tr style=\"text-align: left;\">\n",
       "      <th>epoch</th>\n",
       "      <th>train_loss</th>\n",
       "      <th>valid_loss</th>\n",
       "      <th>accuracy_multi</th>\n",
       "      <th>time</th>\n",
       "    </tr>\n",
       "  </thead>\n",
       "  <tbody>\n",
       "    <tr>\n",
       "      <td>0</td>\n",
       "      <td>0.675731</td>\n",
       "      <td>0.649834</td>\n",
       "      <td>0.634921</td>\n",
       "      <td>00:01</td>\n",
       "    </tr>\n",
       "  </tbody>\n",
       "</table>"
      ],
      "text/plain": [
       "<IPython.core.display.HTML object>"
      ]
     },
     "metadata": {},
     "output_type": "display_data"
    }
   ],
   "source": [
    "learn_clf.freeze_to(-2)\n",
    "learn_clf.fit_one_cycle(1, slice(1e-2/(2.6**4), 1e-2))"
   ]
  },
  {
   "cell_type": "code",
   "execution_count": 30,
   "id": "321713f7-62d7-440e-9431-3e8831bf3f2e",
   "metadata": {
    "execution": {
     "iopub.execute_input": "2022-03-11T08:47:31.995144Z",
     "iopub.status.busy": "2022-03-11T08:47:31.995036Z",
     "iopub.status.idle": "2022-03-11T08:47:33.658078Z",
     "shell.execute_reply": "2022-03-11T08:47:33.657584Z",
     "shell.execute_reply.started": "2022-03-11T08:47:31.995128Z"
    },
    "tags": []
   },
   "outputs": [
    {
     "data": {
      "text/html": [
       "<table border=\"1\" class=\"dataframe\">\n",
       "  <thead>\n",
       "    <tr style=\"text-align: left;\">\n",
       "      <th>epoch</th>\n",
       "      <th>train_loss</th>\n",
       "      <th>valid_loss</th>\n",
       "      <th>accuracy_multi</th>\n",
       "      <th>time</th>\n",
       "    </tr>\n",
       "  </thead>\n",
       "  <tbody>\n",
       "    <tr>\n",
       "      <td>0</td>\n",
       "      <td>0.629579</td>\n",
       "      <td>0.659891</td>\n",
       "      <td>0.619048</td>\n",
       "      <td>00:01</td>\n",
       "    </tr>\n",
       "  </tbody>\n",
       "</table>"
      ],
      "text/plain": [
       "<IPython.core.display.HTML object>"
      ]
     },
     "metadata": {},
     "output_type": "display_data"
    }
   ],
   "source": [
    "learn_clf.freeze_to(-3)\n",
    "learn_clf.fit_one_cycle(1, slice(5e-3/(2.6**4), learn_clf_lr))"
   ]
  },
  {
   "cell_type": "code",
   "execution_count": 31,
   "id": "83c1f1ac-b56b-4ed4-ba9d-180bb3798dd3",
   "metadata": {
    "execution": {
     "iopub.execute_input": "2022-03-11T08:47:33.658922Z",
     "iopub.status.busy": "2022-03-11T08:47:33.658763Z",
     "iopub.status.idle": "2022-03-11T08:50:28.161542Z",
     "shell.execute_reply": "2022-03-11T08:50:28.161104Z",
     "shell.execute_reply.started": "2022-03-11T08:47:33.658905Z"
    },
    "tags": []
   },
   "outputs": [
    {
     "data": {
      "text/html": [
       "<table border=\"1\" class=\"dataframe\">\n",
       "  <thead>\n",
       "    <tr style=\"text-align: left;\">\n",
       "      <th>epoch</th>\n",
       "      <th>train_loss</th>\n",
       "      <th>valid_loss</th>\n",
       "      <th>accuracy_multi</th>\n",
       "      <th>time</th>\n",
       "    </tr>\n",
       "  </thead>\n",
       "  <tbody>\n",
       "    <tr>\n",
       "      <td>0</td>\n",
       "      <td>0.595570</td>\n",
       "      <td>0.666700</td>\n",
       "      <td>0.603175</td>\n",
       "      <td>00:01</td>\n",
       "    </tr>\n",
       "    <tr>\n",
       "      <td>1</td>\n",
       "      <td>0.596269</td>\n",
       "      <td>0.667370</td>\n",
       "      <td>0.599206</td>\n",
       "      <td>00:01</td>\n",
       "    </tr>\n",
       "    <tr>\n",
       "      <td>2</td>\n",
       "      <td>0.595645</td>\n",
       "      <td>0.666436</td>\n",
       "      <td>0.597884</td>\n",
       "      <td>00:01</td>\n",
       "    </tr>\n",
       "    <tr>\n",
       "      <td>3</td>\n",
       "      <td>0.593017</td>\n",
       "      <td>0.662625</td>\n",
       "      <td>0.604497</td>\n",
       "      <td>00:01</td>\n",
       "    </tr>\n",
       "    <tr>\n",
       "      <td>4</td>\n",
       "      <td>0.591878</td>\n",
       "      <td>0.660391</td>\n",
       "      <td>0.608466</td>\n",
       "      <td>00:01</td>\n",
       "    </tr>\n",
       "    <tr>\n",
       "      <td>5</td>\n",
       "      <td>0.590575</td>\n",
       "      <td>0.661735</td>\n",
       "      <td>0.604497</td>\n",
       "      <td>00:01</td>\n",
       "    </tr>\n",
       "    <tr>\n",
       "      <td>6</td>\n",
       "      <td>0.587748</td>\n",
       "      <td>0.658061</td>\n",
       "      <td>0.611111</td>\n",
       "      <td>00:01</td>\n",
       "    </tr>\n",
       "    <tr>\n",
       "      <td>7</td>\n",
       "      <td>0.584615</td>\n",
       "      <td>0.649374</td>\n",
       "      <td>0.633598</td>\n",
       "      <td>00:01</td>\n",
       "    </tr>\n",
       "    <tr>\n",
       "      <td>8</td>\n",
       "      <td>0.580567</td>\n",
       "      <td>0.644042</td>\n",
       "      <td>0.638889</td>\n",
       "      <td>00:01</td>\n",
       "    </tr>\n",
       "    <tr>\n",
       "      <td>9</td>\n",
       "      <td>0.576138</td>\n",
       "      <td>0.646931</td>\n",
       "      <td>0.620370</td>\n",
       "      <td>00:01</td>\n",
       "    </tr>\n",
       "    <tr>\n",
       "      <td>10</td>\n",
       "      <td>0.570937</td>\n",
       "      <td>0.628265</td>\n",
       "      <td>0.649471</td>\n",
       "      <td>00:01</td>\n",
       "    </tr>\n",
       "    <tr>\n",
       "      <td>11</td>\n",
       "      <td>0.564145</td>\n",
       "      <td>0.615452</td>\n",
       "      <td>0.658730</td>\n",
       "      <td>00:01</td>\n",
       "    </tr>\n",
       "    <tr>\n",
       "      <td>12</td>\n",
       "      <td>0.557338</td>\n",
       "      <td>0.607645</td>\n",
       "      <td>0.681217</td>\n",
       "      <td>00:01</td>\n",
       "    </tr>\n",
       "    <tr>\n",
       "      <td>13</td>\n",
       "      <td>0.548471</td>\n",
       "      <td>0.605538</td>\n",
       "      <td>0.679894</td>\n",
       "      <td>00:01</td>\n",
       "    </tr>\n",
       "    <tr>\n",
       "      <td>14</td>\n",
       "      <td>0.538377</td>\n",
       "      <td>0.580913</td>\n",
       "      <td>0.719577</td>\n",
       "      <td>00:01</td>\n",
       "    </tr>\n",
       "    <tr>\n",
       "      <td>15</td>\n",
       "      <td>0.526598</td>\n",
       "      <td>0.560723</td>\n",
       "      <td>0.718254</td>\n",
       "      <td>00:01</td>\n",
       "    </tr>\n",
       "    <tr>\n",
       "      <td>16</td>\n",
       "      <td>0.513317</td>\n",
       "      <td>0.518157</td>\n",
       "      <td>0.781746</td>\n",
       "      <td>00:01</td>\n",
       "    </tr>\n",
       "    <tr>\n",
       "      <td>17</td>\n",
       "      <td>0.497737</td>\n",
       "      <td>0.517023</td>\n",
       "      <td>0.780423</td>\n",
       "      <td>00:01</td>\n",
       "    </tr>\n",
       "    <tr>\n",
       "      <td>18</td>\n",
       "      <td>0.481969</td>\n",
       "      <td>0.521727</td>\n",
       "      <td>0.767196</td>\n",
       "      <td>00:01</td>\n",
       "    </tr>\n",
       "    <tr>\n",
       "      <td>19</td>\n",
       "      <td>0.464625</td>\n",
       "      <td>0.509099</td>\n",
       "      <td>0.775132</td>\n",
       "      <td>00:01</td>\n",
       "    </tr>\n",
       "    <tr>\n",
       "      <td>20</td>\n",
       "      <td>0.446109</td>\n",
       "      <td>0.453796</td>\n",
       "      <td>0.830688</td>\n",
       "      <td>00:01</td>\n",
       "    </tr>\n",
       "    <tr>\n",
       "      <td>21</td>\n",
       "      <td>0.427386</td>\n",
       "      <td>0.440875</td>\n",
       "      <td>0.826720</td>\n",
       "      <td>00:01</td>\n",
       "    </tr>\n",
       "    <tr>\n",
       "      <td>22</td>\n",
       "      <td>0.406064</td>\n",
       "      <td>0.416847</td>\n",
       "      <td>0.839947</td>\n",
       "      <td>00:01</td>\n",
       "    </tr>\n",
       "    <tr>\n",
       "      <td>23</td>\n",
       "      <td>0.386235</td>\n",
       "      <td>0.472360</td>\n",
       "      <td>0.801587</td>\n",
       "      <td>00:01</td>\n",
       "    </tr>\n",
       "    <tr>\n",
       "      <td>24</td>\n",
       "      <td>0.366754</td>\n",
       "      <td>0.450893</td>\n",
       "      <td>0.842593</td>\n",
       "      <td>00:01</td>\n",
       "    </tr>\n",
       "    <tr>\n",
       "      <td>25</td>\n",
       "      <td>0.346555</td>\n",
       "      <td>0.393899</td>\n",
       "      <td>0.845238</td>\n",
       "      <td>00:01</td>\n",
       "    </tr>\n",
       "    <tr>\n",
       "      <td>26</td>\n",
       "      <td>0.326574</td>\n",
       "      <td>0.421273</td>\n",
       "      <td>0.850529</td>\n",
       "      <td>00:01</td>\n",
       "    </tr>\n",
       "    <tr>\n",
       "      <td>27</td>\n",
       "      <td>0.308059</td>\n",
       "      <td>0.414377</td>\n",
       "      <td>0.857143</td>\n",
       "      <td>00:01</td>\n",
       "    </tr>\n",
       "    <tr>\n",
       "      <td>28</td>\n",
       "      <td>0.289820</td>\n",
       "      <td>0.395835</td>\n",
       "      <td>0.862434</td>\n",
       "      <td>00:01</td>\n",
       "    </tr>\n",
       "    <tr>\n",
       "      <td>29</td>\n",
       "      <td>0.273287</td>\n",
       "      <td>0.390160</td>\n",
       "      <td>0.853175</td>\n",
       "      <td>00:01</td>\n",
       "    </tr>\n",
       "    <tr>\n",
       "      <td>30</td>\n",
       "      <td>0.257748</td>\n",
       "      <td>0.391796</td>\n",
       "      <td>0.855820</td>\n",
       "      <td>00:01</td>\n",
       "    </tr>\n",
       "    <tr>\n",
       "      <td>31</td>\n",
       "      <td>0.242231</td>\n",
       "      <td>0.415471</td>\n",
       "      <td>0.825397</td>\n",
       "      <td>00:01</td>\n",
       "    </tr>\n",
       "    <tr>\n",
       "      <td>32</td>\n",
       "      <td>0.228787</td>\n",
       "      <td>0.439430</td>\n",
       "      <td>0.829365</td>\n",
       "      <td>00:01</td>\n",
       "    </tr>\n",
       "    <tr>\n",
       "      <td>33</td>\n",
       "      <td>0.215751</td>\n",
       "      <td>0.417215</td>\n",
       "      <td>0.859788</td>\n",
       "      <td>00:01</td>\n",
       "    </tr>\n",
       "    <tr>\n",
       "      <td>34</td>\n",
       "      <td>0.203506</td>\n",
       "      <td>0.415538</td>\n",
       "      <td>0.867725</td>\n",
       "      <td>00:01</td>\n",
       "    </tr>\n",
       "    <tr>\n",
       "      <td>35</td>\n",
       "      <td>0.192232</td>\n",
       "      <td>0.427056</td>\n",
       "      <td>0.861111</td>\n",
       "      <td>00:01</td>\n",
       "    </tr>\n",
       "    <tr>\n",
       "      <td>36</td>\n",
       "      <td>0.180922</td>\n",
       "      <td>0.419317</td>\n",
       "      <td>0.862434</td>\n",
       "      <td>00:01</td>\n",
       "    </tr>\n",
       "    <tr>\n",
       "      <td>37</td>\n",
       "      <td>0.170513</td>\n",
       "      <td>0.415072</td>\n",
       "      <td>0.854497</td>\n",
       "      <td>00:01</td>\n",
       "    </tr>\n",
       "    <tr>\n",
       "      <td>38</td>\n",
       "      <td>0.161331</td>\n",
       "      <td>0.407200</td>\n",
       "      <td>0.855820</td>\n",
       "      <td>00:01</td>\n",
       "    </tr>\n",
       "    <tr>\n",
       "      <td>39</td>\n",
       "      <td>0.152298</td>\n",
       "      <td>0.457226</td>\n",
       "      <td>0.859788</td>\n",
       "      <td>00:01</td>\n",
       "    </tr>\n",
       "    <tr>\n",
       "      <td>40</td>\n",
       "      <td>0.144094</td>\n",
       "      <td>0.435320</td>\n",
       "      <td>0.858466</td>\n",
       "      <td>00:01</td>\n",
       "    </tr>\n",
       "    <tr>\n",
       "      <td>41</td>\n",
       "      <td>0.136751</td>\n",
       "      <td>0.418383</td>\n",
       "      <td>0.854497</td>\n",
       "      <td>00:01</td>\n",
       "    </tr>\n",
       "    <tr>\n",
       "      <td>42</td>\n",
       "      <td>0.129865</td>\n",
       "      <td>0.425261</td>\n",
       "      <td>0.859788</td>\n",
       "      <td>00:01</td>\n",
       "    </tr>\n",
       "    <tr>\n",
       "      <td>43</td>\n",
       "      <td>0.123881</td>\n",
       "      <td>0.412735</td>\n",
       "      <td>0.857143</td>\n",
       "      <td>00:01</td>\n",
       "    </tr>\n",
       "    <tr>\n",
       "      <td>44</td>\n",
       "      <td>0.117555</td>\n",
       "      <td>0.427211</td>\n",
       "      <td>0.859788</td>\n",
       "      <td>00:01</td>\n",
       "    </tr>\n",
       "    <tr>\n",
       "      <td>45</td>\n",
       "      <td>0.111334</td>\n",
       "      <td>0.420857</td>\n",
       "      <td>0.858466</td>\n",
       "      <td>00:01</td>\n",
       "    </tr>\n",
       "    <tr>\n",
       "      <td>46</td>\n",
       "      <td>0.106368</td>\n",
       "      <td>0.455180</td>\n",
       "      <td>0.851852</td>\n",
       "      <td>00:01</td>\n",
       "    </tr>\n",
       "    <tr>\n",
       "      <td>47</td>\n",
       "      <td>0.101410</td>\n",
       "      <td>0.421553</td>\n",
       "      <td>0.846561</td>\n",
       "      <td>00:01</td>\n",
       "    </tr>\n",
       "    <tr>\n",
       "      <td>48</td>\n",
       "      <td>0.096657</td>\n",
       "      <td>0.415398</td>\n",
       "      <td>0.855820</td>\n",
       "      <td>00:01</td>\n",
       "    </tr>\n",
       "    <tr>\n",
       "      <td>49</td>\n",
       "      <td>0.092113</td>\n",
       "      <td>0.418702</td>\n",
       "      <td>0.855820</td>\n",
       "      <td>00:01</td>\n",
       "    </tr>\n",
       "    <tr>\n",
       "      <td>50</td>\n",
       "      <td>0.088242</td>\n",
       "      <td>0.419868</td>\n",
       "      <td>0.845238</td>\n",
       "      <td>00:01</td>\n",
       "    </tr>\n",
       "    <tr>\n",
       "      <td>51</td>\n",
       "      <td>0.084742</td>\n",
       "      <td>0.417402</td>\n",
       "      <td>0.853175</td>\n",
       "      <td>00:01</td>\n",
       "    </tr>\n",
       "    <tr>\n",
       "      <td>52</td>\n",
       "      <td>0.081530</td>\n",
       "      <td>0.422299</td>\n",
       "      <td>0.854497</td>\n",
       "      <td>00:01</td>\n",
       "    </tr>\n",
       "    <tr>\n",
       "      <td>53</td>\n",
       "      <td>0.078012</td>\n",
       "      <td>0.418587</td>\n",
       "      <td>0.854497</td>\n",
       "      <td>00:01</td>\n",
       "    </tr>\n",
       "    <tr>\n",
       "      <td>54</td>\n",
       "      <td>0.074840</td>\n",
       "      <td>0.446778</td>\n",
       "      <td>0.854497</td>\n",
       "      <td>00:01</td>\n",
       "    </tr>\n",
       "    <tr>\n",
       "      <td>55</td>\n",
       "      <td>0.071617</td>\n",
       "      <td>0.458077</td>\n",
       "      <td>0.849206</td>\n",
       "      <td>00:01</td>\n",
       "    </tr>\n",
       "    <tr>\n",
       "      <td>56</td>\n",
       "      <td>0.069273</td>\n",
       "      <td>0.445211</td>\n",
       "      <td>0.857143</td>\n",
       "      <td>00:01</td>\n",
       "    </tr>\n",
       "    <tr>\n",
       "      <td>57</td>\n",
       "      <td>0.066640</td>\n",
       "      <td>0.456746</td>\n",
       "      <td>0.850529</td>\n",
       "      <td>00:01</td>\n",
       "    </tr>\n",
       "    <tr>\n",
       "      <td>58</td>\n",
       "      <td>0.064678</td>\n",
       "      <td>0.470419</td>\n",
       "      <td>0.849206</td>\n",
       "      <td>00:01</td>\n",
       "    </tr>\n",
       "    <tr>\n",
       "      <td>59</td>\n",
       "      <td>0.062795</td>\n",
       "      <td>0.469282</td>\n",
       "      <td>0.847884</td>\n",
       "      <td>00:01</td>\n",
       "    </tr>\n",
       "    <tr>\n",
       "      <td>60</td>\n",
       "      <td>0.060630</td>\n",
       "      <td>0.455976</td>\n",
       "      <td>0.850529</td>\n",
       "      <td>00:01</td>\n",
       "    </tr>\n",
       "    <tr>\n",
       "      <td>61</td>\n",
       "      <td>0.058761</td>\n",
       "      <td>0.463312</td>\n",
       "      <td>0.853175</td>\n",
       "      <td>00:01</td>\n",
       "    </tr>\n",
       "    <tr>\n",
       "      <td>62</td>\n",
       "      <td>0.056835</td>\n",
       "      <td>0.463718</td>\n",
       "      <td>0.855820</td>\n",
       "      <td>00:01</td>\n",
       "    </tr>\n",
       "    <tr>\n",
       "      <td>63</td>\n",
       "      <td>0.055151</td>\n",
       "      <td>0.461610</td>\n",
       "      <td>0.854497</td>\n",
       "      <td>00:01</td>\n",
       "    </tr>\n",
       "    <tr>\n",
       "      <td>64</td>\n",
       "      <td>0.053888</td>\n",
       "      <td>0.449248</td>\n",
       "      <td>0.858466</td>\n",
       "      <td>00:01</td>\n",
       "    </tr>\n",
       "    <tr>\n",
       "      <td>65</td>\n",
       "      <td>0.052948</td>\n",
       "      <td>0.461828</td>\n",
       "      <td>0.854497</td>\n",
       "      <td>00:01</td>\n",
       "    </tr>\n",
       "    <tr>\n",
       "      <td>66</td>\n",
       "      <td>0.051537</td>\n",
       "      <td>0.467276</td>\n",
       "      <td>0.855820</td>\n",
       "      <td>00:01</td>\n",
       "    </tr>\n",
       "    <tr>\n",
       "      <td>67</td>\n",
       "      <td>0.050388</td>\n",
       "      <td>0.473499</td>\n",
       "      <td>0.851852</td>\n",
       "      <td>00:01</td>\n",
       "    </tr>\n",
       "    <tr>\n",
       "      <td>68</td>\n",
       "      <td>0.049104</td>\n",
       "      <td>0.457224</td>\n",
       "      <td>0.857143</td>\n",
       "      <td>00:01</td>\n",
       "    </tr>\n",
       "    <tr>\n",
       "      <td>69</td>\n",
       "      <td>0.048302</td>\n",
       "      <td>0.466139</td>\n",
       "      <td>0.859788</td>\n",
       "      <td>00:01</td>\n",
       "    </tr>\n",
       "    <tr>\n",
       "      <td>70</td>\n",
       "      <td>0.047252</td>\n",
       "      <td>0.479660</td>\n",
       "      <td>0.854497</td>\n",
       "      <td>00:01</td>\n",
       "    </tr>\n",
       "    <tr>\n",
       "      <td>71</td>\n",
       "      <td>0.046181</td>\n",
       "      <td>0.472236</td>\n",
       "      <td>0.853175</td>\n",
       "      <td>00:01</td>\n",
       "    </tr>\n",
       "    <tr>\n",
       "      <td>72</td>\n",
       "      <td>0.045173</td>\n",
       "      <td>0.470600</td>\n",
       "      <td>0.857143</td>\n",
       "      <td>00:01</td>\n",
       "    </tr>\n",
       "    <tr>\n",
       "      <td>73</td>\n",
       "      <td>0.044212</td>\n",
       "      <td>0.470577</td>\n",
       "      <td>0.855820</td>\n",
       "      <td>00:01</td>\n",
       "    </tr>\n",
       "    <tr>\n",
       "      <td>74</td>\n",
       "      <td>0.043797</td>\n",
       "      <td>0.471592</td>\n",
       "      <td>0.855820</td>\n",
       "      <td>00:01</td>\n",
       "    </tr>\n",
       "    <tr>\n",
       "      <td>75</td>\n",
       "      <td>0.043103</td>\n",
       "      <td>0.470094</td>\n",
       "      <td>0.851852</td>\n",
       "      <td>00:01</td>\n",
       "    </tr>\n",
       "    <tr>\n",
       "      <td>76</td>\n",
       "      <td>0.042628</td>\n",
       "      <td>0.471940</td>\n",
       "      <td>0.847884</td>\n",
       "      <td>00:01</td>\n",
       "    </tr>\n",
       "    <tr>\n",
       "      <td>77</td>\n",
       "      <td>0.042172</td>\n",
       "      <td>0.480500</td>\n",
       "      <td>0.854497</td>\n",
       "      <td>00:01</td>\n",
       "    </tr>\n",
       "    <tr>\n",
       "      <td>78</td>\n",
       "      <td>0.041823</td>\n",
       "      <td>0.486447</td>\n",
       "      <td>0.853175</td>\n",
       "      <td>00:01</td>\n",
       "    </tr>\n",
       "    <tr>\n",
       "      <td>79</td>\n",
       "      <td>0.041093</td>\n",
       "      <td>0.484315</td>\n",
       "      <td>0.853175</td>\n",
       "      <td>00:01</td>\n",
       "    </tr>\n",
       "    <tr>\n",
       "      <td>80</td>\n",
       "      <td>0.040830</td>\n",
       "      <td>0.480417</td>\n",
       "      <td>0.855820</td>\n",
       "      <td>00:01</td>\n",
       "    </tr>\n",
       "    <tr>\n",
       "      <td>81</td>\n",
       "      <td>0.040229</td>\n",
       "      <td>0.487850</td>\n",
       "      <td>0.854497</td>\n",
       "      <td>00:01</td>\n",
       "    </tr>\n",
       "    <tr>\n",
       "      <td>82</td>\n",
       "      <td>0.039960</td>\n",
       "      <td>0.490202</td>\n",
       "      <td>0.847884</td>\n",
       "      <td>00:01</td>\n",
       "    </tr>\n",
       "    <tr>\n",
       "      <td>83</td>\n",
       "      <td>0.039239</td>\n",
       "      <td>0.487303</td>\n",
       "      <td>0.853175</td>\n",
       "      <td>00:01</td>\n",
       "    </tr>\n",
       "    <tr>\n",
       "      <td>84</td>\n",
       "      <td>0.038506</td>\n",
       "      <td>0.481755</td>\n",
       "      <td>0.850529</td>\n",
       "      <td>00:01</td>\n",
       "    </tr>\n",
       "    <tr>\n",
       "      <td>85</td>\n",
       "      <td>0.038097</td>\n",
       "      <td>0.483094</td>\n",
       "      <td>0.855820</td>\n",
       "      <td>00:01</td>\n",
       "    </tr>\n",
       "    <tr>\n",
       "      <td>86</td>\n",
       "      <td>0.037791</td>\n",
       "      <td>0.484410</td>\n",
       "      <td>0.854497</td>\n",
       "      <td>00:01</td>\n",
       "    </tr>\n",
       "    <tr>\n",
       "      <td>87</td>\n",
       "      <td>0.038163</td>\n",
       "      <td>0.484808</td>\n",
       "      <td>0.855820</td>\n",
       "      <td>00:01</td>\n",
       "    </tr>\n",
       "    <tr>\n",
       "      <td>88</td>\n",
       "      <td>0.037876</td>\n",
       "      <td>0.482417</td>\n",
       "      <td>0.858466</td>\n",
       "      <td>00:01</td>\n",
       "    </tr>\n",
       "    <tr>\n",
       "      <td>89</td>\n",
       "      <td>0.037713</td>\n",
       "      <td>0.484932</td>\n",
       "      <td>0.854497</td>\n",
       "      <td>00:01</td>\n",
       "    </tr>\n",
       "    <tr>\n",
       "      <td>90</td>\n",
       "      <td>0.037352</td>\n",
       "      <td>0.483008</td>\n",
       "      <td>0.855820</td>\n",
       "      <td>00:01</td>\n",
       "    </tr>\n",
       "    <tr>\n",
       "      <td>91</td>\n",
       "      <td>0.036997</td>\n",
       "      <td>0.480353</td>\n",
       "      <td>0.855820</td>\n",
       "      <td>00:01</td>\n",
       "    </tr>\n",
       "    <tr>\n",
       "      <td>92</td>\n",
       "      <td>0.036775</td>\n",
       "      <td>0.484361</td>\n",
       "      <td>0.851852</td>\n",
       "      <td>00:01</td>\n",
       "    </tr>\n",
       "    <tr>\n",
       "      <td>93</td>\n",
       "      <td>0.036433</td>\n",
       "      <td>0.487103</td>\n",
       "      <td>0.851852</td>\n",
       "      <td>00:01</td>\n",
       "    </tr>\n",
       "    <tr>\n",
       "      <td>94</td>\n",
       "      <td>0.036238</td>\n",
       "      <td>0.484327</td>\n",
       "      <td>0.851852</td>\n",
       "      <td>00:01</td>\n",
       "    </tr>\n",
       "    <tr>\n",
       "      <td>95</td>\n",
       "      <td>0.035725</td>\n",
       "      <td>0.488368</td>\n",
       "      <td>0.851852</td>\n",
       "      <td>00:01</td>\n",
       "    </tr>\n",
       "    <tr>\n",
       "      <td>96</td>\n",
       "      <td>0.035250</td>\n",
       "      <td>0.486097</td>\n",
       "      <td>0.855820</td>\n",
       "      <td>00:01</td>\n",
       "    </tr>\n",
       "    <tr>\n",
       "      <td>97</td>\n",
       "      <td>0.035380</td>\n",
       "      <td>0.486879</td>\n",
       "      <td>0.851852</td>\n",
       "      <td>00:01</td>\n",
       "    </tr>\n",
       "    <tr>\n",
       "      <td>98</td>\n",
       "      <td>0.035341</td>\n",
       "      <td>0.482346</td>\n",
       "      <td>0.855820</td>\n",
       "      <td>00:01</td>\n",
       "    </tr>\n",
       "    <tr>\n",
       "      <td>99</td>\n",
       "      <td>0.035089</td>\n",
       "      <td>0.480198</td>\n",
       "      <td>0.853175</td>\n",
       "      <td>00:01</td>\n",
       "    </tr>\n",
       "  </tbody>\n",
       "</table>"
      ],
      "text/plain": [
       "<IPython.core.display.HTML object>"
      ]
     },
     "metadata": {},
     "output_type": "display_data"
    }
   ],
   "source": [
    "learn_clf.unfreeze()\n",
    "learn_clf.fit_one_cycle(\n",
    "    100, \n",
    "    slice(1e-3/(2.6**4), learn_clf_lr),\n",
    "    #1e-3,\n",
    "    cbs=[\n",
    "        EarlyStoppingCallback(\n",
    "            monitor='accuracy_multi', \n",
    "            min_delta=0.0001, \n",
    "            patience=100\n",
    "        )\n",
    "#        ReduceLROnPlateau(\n",
    "#            monitor='valid_loss', \n",
    "#            comp=None, \n",
    "#            min_delta=0.01, \n",
    "#            patience=2, \n",
    "#            factor=10.0, \n",
    "#            min_lr=0, \n",
    "#            reset_on_fit=True\n",
    "#        )\n",
    "    ]\n",
    ")"
   ]
  },
  {
   "cell_type": "code",
   "execution_count": null,
   "id": "34c669a2-8de7-4198-b610-60399796af2c",
   "metadata": {
    "tags": []
   },
   "outputs": [],
   "source": []
  },
  {
   "cell_type": "code",
   "execution_count": 32,
   "id": "2065b363-8c05-4807-8259-f74ed0a58f43",
   "metadata": {
    "execution": {
     "iopub.execute_input": "2022-03-11T08:50:28.162346Z",
     "iopub.status.busy": "2022-03-11T08:50:28.162195Z",
     "iopub.status.idle": "2022-03-11T08:50:28.472136Z",
     "shell.execute_reply": "2022-03-11T08:50:28.471668Z",
     "shell.execute_reply.started": "2022-03-11T08:50:28.162330Z"
    },
    "tags": []
   },
   "outputs": [
    {
     "data": {
      "text/plain": [
       "Path('models/classifier.v5.pth')"
      ]
     },
     "execution_count": 32,
     "metadata": {},
     "output_type": "execute_result"
    }
   ],
   "source": [
    "learn_clf.save('classifier.v5')"
   ]
  },
  {
   "cell_type": "code",
   "execution_count": 33,
   "id": "06057dc6-a76a-4265-9569-f29b05eda5f3",
   "metadata": {
    "execution": {
     "iopub.execute_input": "2022-03-11T08:50:28.473136Z",
     "iopub.status.busy": "2022-03-11T08:50:28.472907Z",
     "iopub.status.idle": "2022-03-11T08:50:28.549272Z",
     "shell.execute_reply": "2022-03-11T08:50:28.548766Z",
     "shell.execute_reply.started": "2022-03-11T08:50:28.473117Z"
    },
    "tags": []
   },
   "outputs": [],
   "source": [
    "learn_clf = learn_clf.load('classifier.v5')"
   ]
  },
  {
   "cell_type": "code",
   "execution_count": 34,
   "id": "09225638-5c46-475b-8fb3-0bea69134d24",
   "metadata": {
    "execution": {
     "iopub.execute_input": "2022-03-11T08:50:28.550091Z",
     "iopub.status.busy": "2022-03-11T08:50:28.549953Z",
     "iopub.status.idle": "2022-03-11T08:50:30.543217Z",
     "shell.execute_reply": "2022-03-11T08:50:30.542719Z",
     "shell.execute_reply.started": "2022-03-11T08:50:28.550073Z"
    },
    "tags": []
   },
   "outputs": [
    {
     "data": {
      "text/html": [],
      "text/plain": [
       "<IPython.core.display.HTML object>"
      ]
     },
     "metadata": {},
     "output_type": "display_data"
    },
    {
     "data": {
      "text/html": [],
      "text/plain": [
       "<IPython.core.display.HTML object>"
      ]
     },
     "metadata": {},
     "output_type": "display_data"
    }
   ],
   "source": [
    "tok_inf_df = tokenize_df(test_df1, 'revcontent')\n",
    "inf_dl = learn_clf.dls.test_dl(tok_inf_df[0])\n",
    "\n",
    "# Predict probabilities for all the classes \n",
    "all_predictions = learn_clf.get_preds(dl = inf_dl, reorder = False)\n",
    "probs = all_predictions[0].numpy()"
   ]
  },
  {
   "cell_type": "code",
   "execution_count": 35,
   "id": "60c23ae4-6d84-41be-a7a0-9fb93b9223e5",
   "metadata": {
    "execution": {
     "iopub.execute_input": "2022-03-11T08:50:30.544460Z",
     "iopub.status.busy": "2022-03-11T08:50:30.544344Z",
     "iopub.status.idle": "2022-03-11T08:50:30.547217Z",
     "shell.execute_reply": "2022-03-11T08:50:30.546633Z",
     "shell.execute_reply.started": "2022-03-11T08:50:30.544443Z"
    },
    "tags": []
   },
   "outputs": [],
   "source": [
    "class_list = list(test_df1.columns[2:-1])"
   ]
  },
  {
   "cell_type": "code",
   "execution_count": 36,
   "id": "431cce7a-2767-455e-a3a2-20abc2649fc8",
   "metadata": {
    "execution": {
     "iopub.execute_input": "2022-03-11T08:50:30.547972Z",
     "iopub.status.busy": "2022-03-11T08:50:30.547833Z",
     "iopub.status.idle": "2022-03-11T08:50:30.557112Z",
     "shell.execute_reply": "2022-03-11T08:50:30.556606Z",
     "shell.execute_reply.started": "2022-03-11T08:50:30.547958Z"
    },
    "tags": []
   },
   "outputs": [],
   "source": [
    "indices = inf_dl.get_idxs()\n",
    "predictions = pd.DataFrame(all_predictions[0].numpy(), columns = learn_clf.dls.vocab[1])\n",
    "predictions['index'] = indices\n",
    "predictions = pd.merge(predictions, test_df[['index', 'revcontent']], on='index')[test_df1.columns[1:-1]]\n",
    "predictions = predictions.sort_values(by = ['index'])\n",
    "predictions = predictions.reset_index(drop = True)\n",
    "predictions = predictions.drop(['index'], axis = 1)"
   ]
  },
  {
   "cell_type": "code",
   "execution_count": 37,
   "id": "601aff83-bdfe-45f6-ba68-ca471712256d",
   "metadata": {
    "execution": {
     "iopub.execute_input": "2022-03-11T08:50:30.557709Z",
     "iopub.status.busy": "2022-03-11T08:50:30.557590Z",
     "iopub.status.idle": "2022-03-11T08:50:30.568640Z",
     "shell.execute_reply": "2022-03-11T08:50:30.568362Z",
     "shell.execute_reply.started": "2022-03-11T08:50:30.557695Z"
    },
    "tags": []
   },
   "outputs": [
    {
     "data": {
      "text/html": [
       "<div>\n",
       "<style scoped>\n",
       "    .dataframe tbody tr th:only-of-type {\n",
       "        vertical-align: middle;\n",
       "    }\n",
       "\n",
       "    .dataframe tbody tr th {\n",
       "        vertical-align: top;\n",
       "    }\n",
       "\n",
       "    .dataframe thead th {\n",
       "        text-align: right;\n",
       "    }\n",
       "</style>\n",
       "<table border=\"1\" class=\"dataframe\">\n",
       "  <thead>\n",
       "    <tr style=\"text-align: right;\">\n",
       "      <th></th>\n",
       "      <th>revcontent</th>\n",
       "      <th>service</th>\n",
       "      <th>pricing</th>\n",
       "      <th>ride</th>\n",
       "      <th>maintenance</th>\n",
       "      <th>app</th>\n",
       "      <th>general</th>\n",
       "      <th>customercare</th>\n",
       "      <th>bike</th>\n",
       "      <th>payments</th>\n",
       "    </tr>\n",
       "  </thead>\n",
       "  <tbody>\n",
       "    <tr>\n",
       "      <th>0</th>\n",
       "      <td>the best bicycle service in bangalore</td>\n",
       "      <td>0.360714</td>\n",
       "      <td>0.025712</td>\n",
       "      <td>0.004944</td>\n",
       "      <td>0.267217</td>\n",
       "      <td>0.039343</td>\n",
       "      <td>0.113580</td>\n",
       "      <td>0.007636</td>\n",
       "      <td>0.080213</td>\n",
       "      <td>0.040389</td>\n",
       "    </tr>\n",
       "    <tr>\n",
       "      <th>1</th>\n",
       "      <td>worst experience</td>\n",
       "      <td>0.010653</td>\n",
       "      <td>0.013480</td>\n",
       "      <td>0.170784</td>\n",
       "      <td>0.003722</td>\n",
       "      <td>0.187728</td>\n",
       "      <td>0.272411</td>\n",
       "      <td>0.016277</td>\n",
       "      <td>0.029036</td>\n",
       "      <td>0.031321</td>\n",
       "    </tr>\n",
       "    <tr>\n",
       "      <th>2</th>\n",
       "      <td>no option to search bike station</td>\n",
       "      <td>0.098947</td>\n",
       "      <td>0.004118</td>\n",
       "      <td>0.001341</td>\n",
       "      <td>0.003664</td>\n",
       "      <td>0.016091</td>\n",
       "      <td>0.012970</td>\n",
       "      <td>0.001216</td>\n",
       "      <td>0.455168</td>\n",
       "      <td>0.107437</td>\n",
       "    </tr>\n",
       "    <tr>\n",
       "      <th>3</th>\n",
       "      <td>very helpful shot during lockdown and shot period this service look like a saviour</td>\n",
       "      <td>0.999982</td>\n",
       "      <td>0.003337</td>\n",
       "      <td>0.000490</td>\n",
       "      <td>0.000478</td>\n",
       "      <td>0.003052</td>\n",
       "      <td>0.000534</td>\n",
       "      <td>0.001919</td>\n",
       "      <td>0.001245</td>\n",
       "      <td>0.000669</td>\n",
       "    </tr>\n",
       "    <tr>\n",
       "      <th>4</th>\n",
       "      <td>great experience it easy to drive pollution free i just love to drive</td>\n",
       "      <td>0.068164</td>\n",
       "      <td>0.018229</td>\n",
       "      <td>0.054099</td>\n",
       "      <td>0.001853</td>\n",
       "      <td>0.004774</td>\n",
       "      <td>0.745769</td>\n",
       "      <td>0.001721</td>\n",
       "      <td>0.002360</td>\n",
       "      <td>0.001394</td>\n",
       "    </tr>\n",
       "    <tr>\n",
       "      <th>...</th>\n",
       "      <td>...</td>\n",
       "      <td>...</td>\n",
       "      <td>...</td>\n",
       "      <td>...</td>\n",
       "      <td>...</td>\n",
       "      <td>...</td>\n",
       "      <td>...</td>\n",
       "      <td>...</td>\n",
       "      <td>...</td>\n",
       "      <td>...</td>\n",
       "    </tr>\n",
       "    <tr>\n",
       "      <th>1019</th>\n",
       "      <td>yulu maintained well at the launch and continuing the when you have good you should improve it by providing good</td>\n",
       "      <td>0.139631</td>\n",
       "      <td>0.001942</td>\n",
       "      <td>0.006074</td>\n",
       "      <td>0.973795</td>\n",
       "      <td>0.012289</td>\n",
       "      <td>0.011553</td>\n",
       "      <td>0.010570</td>\n",
       "      <td>0.042245</td>\n",
       "      <td>0.004417</td>\n",
       "    </tr>\n",
       "    <tr>\n",
       "      <th>1020</th>\n",
       "      <td>service is bad but maintenance is okay</td>\n",
       "      <td>0.999849</td>\n",
       "      <td>0.002683</td>\n",
       "      <td>0.014227</td>\n",
       "      <td>0.998740</td>\n",
       "      <td>0.001610</td>\n",
       "      <td>0.003324</td>\n",
       "      <td>0.004867</td>\n",
       "      <td>0.015604</td>\n",
       "      <td>0.006539</td>\n",
       "    </tr>\n",
       "    <tr>\n",
       "      <th>1021</th>\n",
       "      <td>maintenance at yulu zones</td>\n",
       "      <td>0.256832</td>\n",
       "      <td>0.008188</td>\n",
       "      <td>0.015425</td>\n",
       "      <td>0.151781</td>\n",
       "      <td>0.005080</td>\n",
       "      <td>0.020293</td>\n",
       "      <td>0.010818</td>\n",
       "      <td>0.078219</td>\n",
       "      <td>0.019494</td>\n",
       "    </tr>\n",
       "    <tr>\n",
       "      <th>1022</th>\n",
       "      <td>maintenance is upto the mark</td>\n",
       "      <td>0.001032</td>\n",
       "      <td>0.000444</td>\n",
       "      <td>0.002856</td>\n",
       "      <td>0.999994</td>\n",
       "      <td>0.000715</td>\n",
       "      <td>0.001543</td>\n",
       "      <td>0.002217</td>\n",
       "      <td>0.003197</td>\n",
       "      <td>0.003552</td>\n",
       "    </tr>\n",
       "    <tr>\n",
       "      <th>1023</th>\n",
       "      <td>proper topped from are quick from your team</td>\n",
       "      <td>0.000639</td>\n",
       "      <td>0.000651</td>\n",
       "      <td>0.001073</td>\n",
       "      <td>0.999976</td>\n",
       "      <td>0.002463</td>\n",
       "      <td>0.000368</td>\n",
       "      <td>0.999961</td>\n",
       "      <td>0.005555</td>\n",
       "      <td>0.003260</td>\n",
       "    </tr>\n",
       "  </tbody>\n",
       "</table>\n",
       "<p>1024 rows × 10 columns</p>\n",
       "</div>"
      ],
      "text/plain": [
       "                                                                                                            revcontent  \\\n",
       "0                                                                                the best bicycle service in bangalore   \n",
       "1                                                                                                     worst experience   \n",
       "2                                                                                     no option to search bike station   \n",
       "3                                   very helpful shot during lockdown and shot period this service look like a saviour   \n",
       "4                                                great experience it easy to drive pollution free i just love to drive   \n",
       "...                                                                                                                ...   \n",
       "1019  yulu maintained well at the launch and continuing the when you have good you should improve it by providing good   \n",
       "1020                                                                            service is bad but maintenance is okay   \n",
       "1021                                                                                         maintenance at yulu zones   \n",
       "1022                                                                                      maintenance is upto the mark   \n",
       "1023                                                                       proper topped from are quick from your team   \n",
       "\n",
       "       service   pricing      ride  maintenance       app   general  \\\n",
       "0     0.360714  0.025712  0.004944     0.267217  0.039343  0.113580   \n",
       "1     0.010653  0.013480  0.170784     0.003722  0.187728  0.272411   \n",
       "2     0.098947  0.004118  0.001341     0.003664  0.016091  0.012970   \n",
       "3     0.999982  0.003337  0.000490     0.000478  0.003052  0.000534   \n",
       "4     0.068164  0.018229  0.054099     0.001853  0.004774  0.745769   \n",
       "...        ...       ...       ...          ...       ...       ...   \n",
       "1019  0.139631  0.001942  0.006074     0.973795  0.012289  0.011553   \n",
       "1020  0.999849  0.002683  0.014227     0.998740  0.001610  0.003324   \n",
       "1021  0.256832  0.008188  0.015425     0.151781  0.005080  0.020293   \n",
       "1022  0.001032  0.000444  0.002856     0.999994  0.000715  0.001543   \n",
       "1023  0.000639  0.000651  0.001073     0.999976  0.002463  0.000368   \n",
       "\n",
       "      customercare      bike  payments  \n",
       "0         0.007636  0.080213  0.040389  \n",
       "1         0.016277  0.029036  0.031321  \n",
       "2         0.001216  0.455168  0.107437  \n",
       "3         0.001919  0.001245  0.000669  \n",
       "4         0.001721  0.002360  0.001394  \n",
       "...            ...       ...       ...  \n",
       "1019      0.010570  0.042245  0.004417  \n",
       "1020      0.004867  0.015604  0.006539  \n",
       "1021      0.010818  0.078219  0.019494  \n",
       "1022      0.002217  0.003197  0.003552  \n",
       "1023      0.999961  0.005555  0.003260  \n",
       "\n",
       "[1024 rows x 10 columns]"
      ]
     },
     "execution_count": 37,
     "metadata": {},
     "output_type": "execute_result"
    }
   ],
   "source": [
    "predictions"
   ]
  },
  {
   "cell_type": "code",
   "execution_count": 38,
   "id": "5a54d6f7-6e2c-49bb-ba76-b04a4d17944d",
   "metadata": {
    "execution": {
     "iopub.execute_input": "2022-03-11T08:50:30.569248Z",
     "iopub.status.busy": "2022-03-11T08:50:30.569147Z",
     "iopub.status.idle": "2022-03-11T08:50:30.573636Z",
     "shell.execute_reply": "2022-03-11T08:50:30.573251Z",
     "shell.execute_reply.started": "2022-03-11T08:50:30.569234Z"
    },
    "tags": []
   },
   "outputs": [],
   "source": [
    "assessment_list = []\n",
    "for col in train_df.columns[2:-1]:\n",
    "    assessment_list.extend(list(predictions[col]))\n",
    "    \n",
    "truth_list = []\n",
    "for col in train_df.columns[2:-1]:\n",
    "    truth_list.extend(list(test_df[col]))"
   ]
  },
  {
   "cell_type": "code",
   "execution_count": 39,
   "id": "e2e9d810-1adf-44bf-8f7f-e67e964e28ef",
   "metadata": {
    "execution": {
     "iopub.execute_input": "2022-03-11T08:50:30.574218Z",
     "iopub.status.busy": "2022-03-11T08:50:30.574099Z",
     "iopub.status.idle": "2022-03-11T08:50:30.587094Z",
     "shell.execute_reply": "2022-03-11T08:50:30.586623Z",
     "shell.execute_reply.started": "2022-03-11T08:50:30.574204Z"
    },
    "tags": []
   },
   "outputs": [],
   "source": [
    "from matplotlib import pyplot as plt\n",
    "from sklearn.model_selection import train_test_split\n",
    "from sklearn.datasets import load_iris\n",
    "from sklearn.tree import DecisionTreeClassifier\n",
    "from sklearn import tree"
   ]
  },
  {
   "cell_type": "code",
   "execution_count": 40,
   "id": "dfe0ef93-36fb-4173-a2a9-84c001bd4a15",
   "metadata": {
    "execution": {
     "iopub.execute_input": "2022-03-11T08:50:30.587685Z",
     "iopub.status.busy": "2022-03-11T08:50:30.587584Z",
     "iopub.status.idle": "2022-03-11T08:50:30.591711Z",
     "shell.execute_reply": "2022-03-11T08:50:30.591331Z",
     "shell.execute_reply.started": "2022-03-11T08:50:30.587671Z"
    },
    "tags": []
   },
   "outputs": [],
   "source": [
    "X = np.array(assessment_list).reshape(-1, 1)\n",
    "\n",
    "y = np.array(truth_list).reshape(-1, 1)"
   ]
  },
  {
   "cell_type": "code",
   "execution_count": 41,
   "id": "155e4f34-c526-4b18-896a-69bdb656c870",
   "metadata": {
    "execution": {
     "iopub.execute_input": "2022-03-11T08:50:30.592442Z",
     "iopub.status.busy": "2022-03-11T08:50:30.592277Z",
     "iopub.status.idle": "2022-03-11T08:50:30.595724Z",
     "shell.execute_reply": "2022-03-11T08:50:30.595335Z",
     "shell.execute_reply.started": "2022-03-11T08:50:30.592423Z"
    },
    "tags": []
   },
   "outputs": [],
   "source": [
    "X_train, X_test, y_train, y_test = train_test_split(X, y, random_state=0)"
   ]
  },
  {
   "cell_type": "code",
   "execution_count": 42,
   "id": "52e2295e-37bf-40c3-bb2b-b0baca992251",
   "metadata": {
    "execution": {
     "iopub.execute_input": "2022-03-11T08:50:30.596341Z",
     "iopub.status.busy": "2022-03-11T08:50:30.596213Z",
     "iopub.status.idle": "2022-03-11T08:50:30.622703Z",
     "shell.execute_reply": "2022-03-11T08:50:30.622113Z",
     "shell.execute_reply.started": "2022-03-11T08:50:30.596327Z"
    },
    "tags": []
   },
   "outputs": [
    {
     "data": {
      "text/plain": [
       "DecisionTreeClassifier(max_depth=50, max_leaf_nodes=10000, min_samples_leaf=10)"
      ]
     },
     "execution_count": 42,
     "metadata": {},
     "output_type": "execute_result"
    }
   ],
   "source": [
    "clf = DecisionTreeClassifier(\n",
    "    max_leaf_nodes=10000, \n",
    "    #random_state=0, \n",
    "    max_depth=50, \n",
    "    min_samples_leaf=10, \n",
    "    #min_impurity_decrease=0.001\n",
    ")\n",
    "clf.fit(X, y)"
   ]
  },
  {
   "cell_type": "code",
   "execution_count": 43,
   "id": "9883c380-0ef3-4e9c-8f9e-199893b3befe",
   "metadata": {
    "execution": {
     "iopub.execute_input": "2022-03-11T08:50:30.623815Z",
     "iopub.status.busy": "2022-03-11T08:50:30.623455Z",
     "iopub.status.idle": "2022-03-11T08:51:06.261716Z",
     "shell.execute_reply": "2022-03-11T08:51:06.261331Z",
     "shell.execute_reply.started": "2022-03-11T08:50:30.623787Z"
    },
    "tags": []
   },
   "outputs": [
    {
     "data": {
      "image/png": "[encoded data removed]",
      "text/plain": [
       "<Figure size 1440x720 with 1 Axes>"
      ]
     },
     "metadata": {
      "needs_background": "light"
     },
     "output_type": "display_data"
    }
   ],
   "source": [
    "plt.figure(figsize=(20,10))\n",
    "tree.plot_tree(clf)\n",
    "plt.savefig('ruleset_posneg.pdf', dpi=320, format='pdf')\n",
    "plt.show()"
   ]
  },
  {
   "cell_type": "code",
   "execution_count": 44,
   "id": "f2040f29-0d33-40fb-8c85-dac50f4e3bb8",
   "metadata": {
    "execution": {
     "iopub.execute_input": "2022-03-11T08:51:06.262406Z",
     "iopub.status.busy": "2022-03-11T08:51:06.262308Z",
     "iopub.status.idle": "2022-03-11T08:51:07.240319Z",
     "shell.execute_reply": "2022-03-11T08:51:07.239921Z",
     "shell.execute_reply.started": "2022-03-11T08:51:06.262392Z"
    },
    "tags": []
   },
   "outputs": [
    {
     "data": {
      "application/vnd.jupyter.widget-view+json": {
       "model_id": "583faf5593d14927a578094f84ea20d7",
       "version_major": 2,
       "version_minor": 0
      },
      "text/plain": [
       "Pandas Apply:   0%|          | 0/1024 [00:00<?, ?it/s]"
      ]
     },
     "metadata": {},
     "output_type": "display_data"
    },
    {
     "data": {
      "application/vnd.jupyter.widget-view+json": {
       "model_id": "6738abe313b74bd08f9355223e5ea3e6",
       "version_major": 2,
       "version_minor": 0
      },
      "text/plain": [
       "Pandas Apply:   0%|          | 0/1024 [00:00<?, ?it/s]"
      ]
     },
     "metadata": {},
     "output_type": "display_data"
    },
    {
     "data": {
      "application/vnd.jupyter.widget-view+json": {
       "model_id": "ae2b4b36ee054919b1378a71e27ccf53",
       "version_major": 2,
       "version_minor": 0
      },
      "text/plain": [
       "Pandas Apply:   0%|          | 0/1024 [00:00<?, ?it/s]"
      ]
     },
     "metadata": {},
     "output_type": "display_data"
    },
    {
     "data": {
      "application/vnd.jupyter.widget-view+json": {
       "model_id": "8489353d6a6646cb8e1363b7891a2081",
       "version_major": 2,
       "version_minor": 0
      },
      "text/plain": [
       "Pandas Apply:   0%|          | 0/1024 [00:00<?, ?it/s]"
      ]
     },
     "metadata": {},
     "output_type": "display_data"
    },
    {
     "data": {
      "application/vnd.jupyter.widget-view+json": {
       "model_id": "333caf9ca73e42c3b6ef86198b5399ba",
       "version_major": 2,
       "version_minor": 0
      },
      "text/plain": [
       "Pandas Apply:   0%|          | 0/1024 [00:00<?, ?it/s]"
      ]
     },
     "metadata": {},
     "output_type": "display_data"
    },
    {
     "data": {
      "application/vnd.jupyter.widget-view+json": {
       "model_id": "a074f4be7bb949de9f859139fe82a698",
       "version_major": 2,
       "version_minor": 0
      },
      "text/plain": [
       "Pandas Apply:   0%|          | 0/1024 [00:00<?, ?it/s]"
      ]
     },
     "metadata": {},
     "output_type": "display_data"
    },
    {
     "data": {
      "application/vnd.jupyter.widget-view+json": {
       "model_id": "4702ddc6eb584942993888f442d2baec",
       "version_major": 2,
       "version_minor": 0
      },
      "text/plain": [
       "Pandas Apply:   0%|          | 0/1024 [00:00<?, ?it/s]"
      ]
     },
     "metadata": {},
     "output_type": "display_data"
    },
    {
     "data": {
      "application/vnd.jupyter.widget-view+json": {
       "model_id": "ff81c547d7a54a9aa24dc823c4c920b2",
       "version_major": 2,
       "version_minor": 0
      },
      "text/plain": [
       "Pandas Apply:   0%|          | 0/1024 [00:00<?, ?it/s]"
      ]
     },
     "metadata": {},
     "output_type": "display_data"
    },
    {
     "data": {
      "application/vnd.jupyter.widget-view+json": {
       "model_id": "dd8c82ef0bd74ec6a03cbb9f562faef3",
       "version_major": 2,
       "version_minor": 0
      },
      "text/plain": [
       "Pandas Apply:   0%|          | 0/1024 [00:00<?, ?it/s]"
      ]
     },
     "metadata": {},
     "output_type": "display_data"
    }
   ],
   "source": [
    "for col in predictions.columns[1:]:\n",
    "    predictions[col] = predictions[col].swifter.apply(lambda x: np.round(100.*clf.predict_proba(np.array([x]).reshape(-1, 1))[0][1], 1))"
   ]
  },
  {
   "cell_type": "code",
   "execution_count": 45,
   "id": "f983cd6b-c108-494e-aab9-00eed8a385b7",
   "metadata": {
    "execution": {
     "iopub.execute_input": "2022-03-11T08:51:07.241055Z",
     "iopub.status.busy": "2022-03-11T08:51:07.240920Z",
     "iopub.status.idle": "2022-03-11T08:51:07.376368Z",
     "shell.execute_reply": "2022-03-11T08:51:07.375915Z",
     "shell.execute_reply.started": "2022-03-11T08:51:07.241040Z"
    },
    "tags": []
   },
   "outputs": [],
   "source": [
    "predictions.to_excel('output.xlsx')"
   ]
  },
  {
   "cell_type": "code",
   "execution_count": 46,
   "id": "84b13fa2-e778-41e2-bb6a-fe8f3a05ae80",
   "metadata": {
    "execution": {
     "iopub.execute_input": "2022-03-11T08:51:07.377073Z",
     "iopub.status.busy": "2022-03-11T08:51:07.376970Z",
     "iopub.status.idle": "2022-03-11T08:51:07.389469Z",
     "shell.execute_reply": "2022-03-11T08:51:07.389086Z",
     "shell.execute_reply.started": "2022-03-11T08:51:07.377059Z"
    },
    "tags": []
   },
   "outputs": [
    {
     "data": {
      "text/html": [
       "<div>\n",
       "<style scoped>\n",
       "    .dataframe tbody tr th:only-of-type {\n",
       "        vertical-align: middle;\n",
       "    }\n",
       "\n",
       "    .dataframe tbody tr th {\n",
       "        vertical-align: top;\n",
       "    }\n",
       "\n",
       "    .dataframe thead th {\n",
       "        text-align: right;\n",
       "    }\n",
       "</style>\n",
       "<table border=\"1\" class=\"dataframe\">\n",
       "  <thead>\n",
       "    <tr style=\"text-align: right;\">\n",
       "      <th></th>\n",
       "      <th>revcontent</th>\n",
       "      <th>service</th>\n",
       "      <th>pricing</th>\n",
       "      <th>ride</th>\n",
       "      <th>maintenance</th>\n",
       "      <th>app</th>\n",
       "      <th>general</th>\n",
       "      <th>customercare</th>\n",
       "      <th>bike</th>\n",
       "      <th>payments</th>\n",
       "    </tr>\n",
       "  </thead>\n",
       "  <tbody>\n",
       "    <tr>\n",
       "      <th>0</th>\n",
       "      <td>the best bicycle service in bangalore</td>\n",
       "      <td>70.0</td>\n",
       "      <td>0.0</td>\n",
       "      <td>0.0</td>\n",
       "      <td>46.7</td>\n",
       "      <td>0.0</td>\n",
       "      <td>40.0</td>\n",
       "      <td>9.5</td>\n",
       "      <td>60.0</td>\n",
       "      <td>27.3</td>\n",
       "    </tr>\n",
       "    <tr>\n",
       "      <th>1</th>\n",
       "      <td>worst experience</td>\n",
       "      <td>0.0</td>\n",
       "      <td>25.0</td>\n",
       "      <td>23.5</td>\n",
       "      <td>0.0</td>\n",
       "      <td>54.5</td>\n",
       "      <td>54.5</td>\n",
       "      <td>17.6</td>\n",
       "      <td>33.3</td>\n",
       "      <td>0.0</td>\n",
       "    </tr>\n",
       "    <tr>\n",
       "      <th>2</th>\n",
       "      <td>no option to search bike station</td>\n",
       "      <td>50.0</td>\n",
       "      <td>0.0</td>\n",
       "      <td>7.1</td>\n",
       "      <td>8.3</td>\n",
       "      <td>35.7</td>\n",
       "      <td>9.1</td>\n",
       "      <td>0.0</td>\n",
       "      <td>50.0</td>\n",
       "      <td>27.3</td>\n",
       "    </tr>\n",
       "    <tr>\n",
       "      <th>3</th>\n",
       "      <td>very helpful shot during lockdown and shot period this service look like a saviour</td>\n",
       "      <td>100.0</td>\n",
       "      <td>23.1</td>\n",
       "      <td>9.1</td>\n",
       "      <td>0.0</td>\n",
       "      <td>7.7</td>\n",
       "      <td>16.7</td>\n",
       "      <td>6.2</td>\n",
       "      <td>0.0</td>\n",
       "      <td>5.0</td>\n",
       "    </tr>\n",
       "    <tr>\n",
       "      <th>4</th>\n",
       "      <td>great experience it easy to drive pollution free i just love to drive</td>\n",
       "      <td>33.3</td>\n",
       "      <td>5.0</td>\n",
       "      <td>45.5</td>\n",
       "      <td>3.8</td>\n",
       "      <td>18.8</td>\n",
       "      <td>50.0</td>\n",
       "      <td>0.0</td>\n",
       "      <td>0.0</td>\n",
       "      <td>0.0</td>\n",
       "    </tr>\n",
       "    <tr>\n",
       "      <th>...</th>\n",
       "      <td>...</td>\n",
       "      <td>...</td>\n",
       "      <td>...</td>\n",
       "      <td>...</td>\n",
       "      <td>...</td>\n",
       "      <td>...</td>\n",
       "      <td>...</td>\n",
       "      <td>...</td>\n",
       "      <td>...</td>\n",
       "      <td>...</td>\n",
       "    </tr>\n",
       "    <tr>\n",
       "      <th>1019</th>\n",
       "      <td>yulu maintained well at the launch and continuing the when you have good you should improve it by providing good</td>\n",
       "      <td>10.0</td>\n",
       "      <td>4.0</td>\n",
       "      <td>5.9</td>\n",
       "      <td>90.0</td>\n",
       "      <td>7.7</td>\n",
       "      <td>18.2</td>\n",
       "      <td>8.3</td>\n",
       "      <td>41.7</td>\n",
       "      <td>8.3</td>\n",
       "    </tr>\n",
       "    <tr>\n",
       "      <th>1020</th>\n",
       "      <td>service is bad but maintenance is okay</td>\n",
       "      <td>100.0</td>\n",
       "      <td>4.8</td>\n",
       "      <td>30.0</td>\n",
       "      <td>100.0</td>\n",
       "      <td>20.0</td>\n",
       "      <td>0.0</td>\n",
       "      <td>7.7</td>\n",
       "      <td>17.6</td>\n",
       "      <td>0.0</td>\n",
       "    </tr>\n",
       "    <tr>\n",
       "      <th>1021</th>\n",
       "      <td>maintenance at yulu zones</td>\n",
       "      <td>75.0</td>\n",
       "      <td>7.1</td>\n",
       "      <td>0.0</td>\n",
       "      <td>50.0</td>\n",
       "      <td>0.0</td>\n",
       "      <td>0.0</td>\n",
       "      <td>0.0</td>\n",
       "      <td>14.3</td>\n",
       "      <td>0.0</td>\n",
       "    </tr>\n",
       "    <tr>\n",
       "      <th>1022</th>\n",
       "      <td>maintenance is upto the mark</td>\n",
       "      <td>0.0</td>\n",
       "      <td>0.0</td>\n",
       "      <td>4.2</td>\n",
       "      <td>100.0</td>\n",
       "      <td>9.1</td>\n",
       "      <td>0.0</td>\n",
       "      <td>0.0</td>\n",
       "      <td>15.8</td>\n",
       "      <td>0.0</td>\n",
       "    </tr>\n",
       "    <tr>\n",
       "      <th>1023</th>\n",
       "      <td>proper topped from are quick from your team</td>\n",
       "      <td>16.7</td>\n",
       "      <td>0.0</td>\n",
       "      <td>0.0</td>\n",
       "      <td>100.0</td>\n",
       "      <td>0.0</td>\n",
       "      <td>0.0</td>\n",
       "      <td>100.0</td>\n",
       "      <td>0.0</td>\n",
       "      <td>0.0</td>\n",
       "    </tr>\n",
       "  </tbody>\n",
       "</table>\n",
       "<p>1024 rows × 10 columns</p>\n",
       "</div>"
      ],
      "text/plain": [
       "                                                                                                            revcontent  \\\n",
       "0                                                                                the best bicycle service in bangalore   \n",
       "1                                                                                                     worst experience   \n",
       "2                                                                                     no option to search bike station   \n",
       "3                                   very helpful shot during lockdown and shot period this service look like a saviour   \n",
       "4                                                great experience it easy to drive pollution free i just love to drive   \n",
       "...                                                                                                                ...   \n",
       "1019  yulu maintained well at the launch and continuing the when you have good you should improve it by providing good   \n",
       "1020                                                                            service is bad but maintenance is okay   \n",
       "1021                                                                                         maintenance at yulu zones   \n",
       "1022                                                                                      maintenance is upto the mark   \n",
       "1023                                                                       proper topped from are quick from your team   \n",
       "\n",
       "      service  pricing  ride  maintenance   app  general  customercare  bike  \\\n",
       "0        70.0      0.0   0.0         46.7   0.0     40.0           9.5  60.0   \n",
       "1         0.0     25.0  23.5          0.0  54.5     54.5          17.6  33.3   \n",
       "2        50.0      0.0   7.1          8.3  35.7      9.1           0.0  50.0   \n",
       "3       100.0     23.1   9.1          0.0   7.7     16.7           6.2   0.0   \n",
       "4        33.3      5.0  45.5          3.8  18.8     50.0           0.0   0.0   \n",
       "...       ...      ...   ...          ...   ...      ...           ...   ...   \n",
       "1019     10.0      4.0   5.9         90.0   7.7     18.2           8.3  41.7   \n",
       "1020    100.0      4.8  30.0        100.0  20.0      0.0           7.7  17.6   \n",
       "1021     75.0      7.1   0.0         50.0   0.0      0.0           0.0  14.3   \n",
       "1022      0.0      0.0   4.2        100.0   9.1      0.0           0.0  15.8   \n",
       "1023     16.7      0.0   0.0        100.0   0.0      0.0         100.0   0.0   \n",
       "\n",
       "      payments  \n",
       "0         27.3  \n",
       "1          0.0  \n",
       "2         27.3  \n",
       "3          5.0  \n",
       "4          0.0  \n",
       "...        ...  \n",
       "1019       8.3  \n",
       "1020       0.0  \n",
       "1021       0.0  \n",
       "1022       0.0  \n",
       "1023       0.0  \n",
       "\n",
       "[1024 rows x 10 columns]"
      ]
     },
     "execution_count": 46,
     "metadata": {},
     "output_type": "execute_result"
    }
   ],
   "source": [
    "predictions"
   ]
  },
  {
   "cell_type": "code",
   "execution_count": null,
   "id": "7ad49841-7bb4-4da2-98f9-1d5ca05723a2",
   "metadata": {},
   "outputs": [],
   "source": []
  }
 ],
 "metadata": {
  "kernelspec": {
   "display_name": "Python 3 (ipykernel)",
   "language": "python",
   "name": "python3"
  },
  "language_info": {
   "codemirror_mode": {
    "name": "ipython",
    "version": 3
   },
   "file_extension": ".py",
   "mimetype": "text/x-python",
   "name": "python",
   "nbconvert_exporter": "python",
   "pygments_lexer": "ipython3",
   "version": "3.8.12"
  }
 },
 "nbformat": 4,
 "nbformat_minor": 5
}
