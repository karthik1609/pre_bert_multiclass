{
 "cells": [
  {
   "cell_type": "code",
   "execution_count": 45,
   "metadata": {},
   "outputs": [
    {
     "name": "stderr",
     "output_type": "stream",
     "text": [
      "Warning : `load_model` does not return WordVectorModel or SupervisedModel any more, but a `FastText` object which is very similar.\n"
     ]
    }
   ],
   "source": [
    "%config Completer.use_jedi = False\n",
    "\n",
    "import preprocess\n",
    "import fasttext.util\n",
    "import numpy as np\n",
    "fasttext.util.download_model('en', if_exists='ignore')\n",
    "d2vmodel = fasttext.load_model('cc.en.300.bin')"
   ]
  },
  {
   "cell_type": "code",
   "execution_count": 86,
   "metadata": {},
   "outputs": [
    {
     "name": "stderr",
     "output_type": "stream",
     "text": [
      "2022-02-14 12:58:35 INFO: Loading these models for language: en (English):\n",
      "============================\n",
      "| Processor    | Package   |\n",
      "----------------------------\n",
      "| tokenize     | combined  |\n",
      "| pos          | combined  |\n",
      "| lemma        | combined  |\n",
      "| depparse     | combined  |\n",
      "| sentiment    | sstplus   |\n",
      "| constituency | wsj       |\n",
      "| ner          | ontonotes |\n",
      "============================\n",
      "\n",
      "2022-02-14 12:58:35 INFO: Use device: cpu\n",
      "2022-02-14 12:58:35 INFO: Loading: tokenize\n",
      "2022-02-14 12:58:35 INFO: Loading: pos\n",
      "2022-02-14 12:58:35 INFO: Loading: lemma\n",
      "2022-02-14 12:58:35 INFO: Loading: depparse\n",
      "2022-02-14 12:58:36 INFO: Loading: sentiment\n",
      "2022-02-14 12:58:36 INFO: Loading: constituency\n",
      "2022-02-14 12:58:36 INFO: Loading: ner\n",
      "2022-02-14 12:58:36 INFO: Done loading processors!\n"
     ]
    }
   ],
   "source": [
    "prep = preprocess.preprocess('Amar is good, akbar is better but antony is the best.')"
   ]
  },
  {
   "cell_type": "code",
   "execution_count": 100,
   "metadata": {},
   "outputs": [],
   "source": [
    "vec = []\n",
    "for phrase in prep.phrase_extract():\n",
    "    for word, order in zip(phrase.split(' '), range(len(phrase.split(' ')))):\n",
    "        if not order:\n",
    "            vec.append(d2vmodel.get_word_vector(word))\n",
    "        else:\n",
    "            vec[-1] = np.vstack((vec[-1], d2vmodel.get_word_vector(word)))\n",
    "        if len(phrase.split(' ')) == order + 1:\n",
    "            vec[-1] = np.expand_dims(vec[-1], axis=0)\n",
    "            \n",
    "plarray = np.concatenate(vec, axis=0)"
   ]
  },
  {
   "cell_type": "code",
   "execution_count": 5,
   "metadata": {},
   "outputs": [],
   "source": [
    "%config Completer.use_jedi = False\n",
    "import vectorize"
   ]
  },
  {
   "cell_type": "code",
   "execution_count": 7,
   "metadata": {},
   "outputs": [
    {
     "name": "stderr",
     "output_type": "stream",
     "text": [
      "2022-02-14 13:18:37 INFO: Loading these models for language: en (English):\n",
      "============================\n",
      "| Processor    | Package   |\n",
      "----------------------------\n",
      "| tokenize     | combined  |\n",
      "| pos          | combined  |\n",
      "| lemma        | combined  |\n",
      "| depparse     | combined  |\n",
      "| sentiment    | sstplus   |\n",
      "| constituency | wsj       |\n",
      "| ner          | ontonotes |\n",
      "============================\n",
      "\n",
      "2022-02-14 13:18:37 INFO: Use device: cpu\n",
      "2022-02-14 13:18:37 INFO: Loading: tokenize\n",
      "2022-02-14 13:18:37 INFO: Loading: pos\n",
      "2022-02-14 13:18:37 INFO: Loading: lemma\n",
      "2022-02-14 13:18:37 INFO: Loading: depparse\n",
      "2022-02-14 13:18:37 INFO: Loading: sentiment\n",
      "2022-02-14 13:18:37 INFO: Loading: constituency\n",
      "2022-02-14 13:18:38 INFO: Loading: ner\n",
      "2022-02-14 13:18:38 INFO: Done loading processors!\n"
     ]
    }
   ],
   "source": [
    "array = vectorize.vectorize('Amar is good, akbar is better but antony is the best.')"
   ]
  },
  {
   "cell_type": "code",
   "execution_count": 12,
   "metadata": {},
   "outputs": [
    {
     "name": "stdout",
     "output_type": "stream",
     "text": [
      "CPU times: user 1.63 s, sys: 1.22 s, total: 2.85 s\n",
      "Wall time: 2.85 s\n"
     ]
    },
    {
     "name": "stderr",
     "output_type": "stream",
     "text": [
      "Warning : `load_model` does not return WordVectorModel or SupervisedModel any more, but a `FastText` object which is very similar.\n"
     ]
    },
    {
     "data": {
      "text/plain": [
       "(3, 2, 300)"
      ]
     },
     "execution_count": 12,
     "metadata": {},
     "output_type": "execute_result"
    }
   ],
   "source": [
    "%%time\n",
    "array.array().shape"
   ]
  },
  {
   "cell_type": "code",
   "execution_count": null,
   "metadata": {},
   "outputs": [],
   "source": []
  }
 ],
 "metadata": {
  "kernelspec": {
   "display_name": "Python 3 (ipykernel)",
   "language": "python",
   "name": "python3"
  },
  "language_info": {
   "codemirror_mode": {
    "name": "ipython",
    "version": 3
   },
   "file_extension": ".py",
   "mimetype": "text/x-python",
   "name": "python",
   "nbconvert_exporter": "python",
   "pygments_lexer": "ipython3",
   "version": "3.8.12"
  }
 },
 "nbformat": 4,
 "nbformat_minor": 4
}
