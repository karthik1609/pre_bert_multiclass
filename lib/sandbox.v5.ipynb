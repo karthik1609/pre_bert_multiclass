{
 "cells": [
  {
   "cell_type": "code",
   "execution_count": 1,
   "id": "f457fe5f-fde4-4b1f-85b6-6dcd4e2a40c0",
   "metadata": {
    "execution": {
     "iopub.execute_input": "2022-03-09T13:52:36.149215Z",
     "iopub.status.busy": "2022-03-09T13:52:36.148996Z",
     "iopub.status.idle": "2022-03-09T13:52:44.958797Z",
     "shell.execute_reply": "2022-03-09T13:52:44.958331Z",
     "shell.execute_reply.started": "2022-03-09T13:52:36.149140Z"
    },
    "tags": []
   },
   "outputs": [
    {
     "name": "stderr",
     "output_type": "stream",
     "text": [
      "2022-03-09 19:22:41 INFO: Loading these models for language: en (English):\n",
      "============================\n",
      "| Processor    | Package   |\n",
      "----------------------------\n",
      "| tokenize     | combined  |\n",
      "| pos          | combined  |\n",
      "| lemma        | combined  |\n",
      "| depparse     | combined  |\n",
      "| sentiment    | sstplus   |\n",
      "| constituency | wsj       |\n",
      "| ner          | ontonotes |\n",
      "============================\n",
      "\n",
      "2022-03-09 19:22:41 INFO: Use device: cpu\n",
      "2022-03-09 19:22:41 INFO: Loading: tokenize\n",
      "2022-03-09 19:22:41 INFO: Loading: pos\n",
      "2022-03-09 19:22:41 INFO: Loading: lemma\n",
      "2022-03-09 19:22:41 INFO: Loading: depparse\n",
      "2022-03-09 19:22:42 INFO: Loading: sentiment\n",
      "2022-03-09 19:22:43 INFO: Loading: constituency\n",
      "2022-03-09 19:22:43 INFO: Loading: ner\n",
      "2022-03-09 19:22:44 INFO: Done loading processors!\n"
     ]
    }
   ],
   "source": [
    "%config Completer.use_jedi = False\n",
    "\n",
    "import pandas as pd\n",
    "import matplotlib.pyplot as plt\n",
    "import numpy as np\n",
    "from tqdm import tqdm\n",
    "import warnings\n",
    "import preprocess\n",
    "import fasttext.util\n",
    "import spacy_stanza\n",
    "from spacytextblob.spacytextblob import SpacyTextBlob\n",
    "import re\n",
    "from nltk.corpus import stopwords \n",
    "import swifter\n",
    "\n",
    "nlp = spacy_stanza.load_pipeline(\"en\", use_gpu=False)\n",
    "fasttext.util.download_model('en', if_exists='ignore')\n",
    "warnings.filterwarnings(\"ignore\")\n",
    "stop_words = stopwords.words('english')\n",
    "\n",
    "from fastai.text import *\n",
    "from fastai.text.all import *"
   ]
  },
  {
   "cell_type": "code",
   "execution_count": 2,
   "id": "f6669c17-7e1f-4ee0-a30f-dc846f100f34",
   "metadata": {
    "execution": {
     "iopub.execute_input": "2022-03-09T13:52:44.959901Z",
     "iopub.status.busy": "2022-03-09T13:52:44.959683Z",
     "iopub.status.idle": "2022-03-09T13:52:46.000314Z",
     "shell.execute_reply": "2022-03-09T13:52:45.999755Z",
     "shell.execute_reply.started": "2022-03-09T13:52:44.959874Z"
    },
    "tags": []
   },
   "outputs": [],
   "source": [
    "train_df = pd.read_excel('yulu_analysis_selected.xlsx').fillna('').drop(['Unnamed: 0'], axis = 1)\n",
    "test_df = pd.read_excel('Yulu_dataanalysis.xlsx').rename(columns = {'Unnamed: 0': 'index'}).fillna('')\n",
    "\n",
    "tqdm.pandas()\n",
    "\n",
    "class_list = list(train_df.columns)[2:]\n",
    "#class_list.pop(0)\n",
    "#class_list.pop(0)\n",
    "df_orig = test_df.copy()"
   ]
  },
  {
   "cell_type": "code",
   "execution_count": 3,
   "id": "fd222958-0a1e-4b64-bbaa-21d78f2e5a2c",
   "metadata": {
    "execution": {
     "iopub.execute_input": "2022-03-09T13:52:46.000865Z",
     "iopub.status.busy": "2022-03-09T13:52:46.000718Z",
     "iopub.status.idle": "2022-03-09T13:52:46.004639Z",
     "shell.execute_reply": "2022-03-09T13:52:46.004260Z",
     "shell.execute_reply.started": "2022-03-09T13:52:46.000834Z"
    },
    "tags": []
   },
   "outputs": [],
   "source": [
    "def column_regularize(df):\n",
    "    for col in df.columns:\n",
    "        df.rename(columns = {col:''.join(col.strip().lower().split(' '))}, inplace = True)\n",
    "        df.rename(columns = {col:''.join(col.strip().lower().split('_'))}, inplace = True)\n",
    "    return df\n",
    "\n",
    "def phraser(x):\n",
    "    phrase_list = preprocess.preprocess(x, True, nlp).phrase_extract()\n",
    "    return phrase_list\n",
    "\n",
    "def func(x):\n",
    "    if not x:\n",
    "        return ['xxxxx xxxxx']\n",
    "    else:\n",
    "        return x\n",
    "    \n",
    "def joiner(x):\n",
    "    return '. '.join(x)"
   ]
  },
  {
   "cell_type": "code",
   "execution_count": 4,
   "id": "1f3f9a14-10b2-4b4d-aa22-0ef2a60d1c43",
   "metadata": {
    "execution": {
     "iopub.execute_input": "2022-03-09T13:52:46.730149Z",
     "iopub.status.busy": "2022-03-09T13:52:46.729989Z",
     "iopub.status.idle": "2022-03-09T13:53:41.934015Z",
     "shell.execute_reply": "2022-03-09T13:53:41.933185Z",
     "shell.execute_reply.started": "2022-03-09T13:52:46.730134Z"
    },
    "tags": []
   },
   "outputs": [
    {
     "data": {
      "application/vnd.jupyter.widget-view+json": {
       "model_id": "24056aa69bae4d4abfe35c36d348d707",
       "version_major": 2,
       "version_minor": 0
      },
      "text/plain": [
       "Pandas Apply:   0%|          | 0/420 [00:00<?, ?it/s]"
      ]
     },
     "metadata": {},
     "output_type": "display_data"
    },
    {
     "ename": "KeyboardInterrupt",
     "evalue": "",
     "output_type": "error",
     "traceback": [
      "\u001b[0;31m---------------------------------------------------------------------------\u001b[0m",
      "\u001b[0;31mTypeError\u001b[0m                                 Traceback (most recent call last)",
      "\u001b[0;32m~/anaconda3/envs/nlp/lib/python3.8/site-packages/swifter/swifter.py\u001b[0m in \u001b[0;36mapply\u001b[0;34m(self, func, convert_dtype, args, **kwds)\u001b[0m\n\u001b[1;32m    251\u001b[0m             \u001b[0;32mwith\u001b[0m \u001b[0msuppress_stdout_stderr_logging\u001b[0m\u001b[0;34m(\u001b[0m\u001b[0;34m)\u001b[0m\u001b[0;34m:\u001b[0m\u001b[0;34m\u001b[0m\u001b[0;34m\u001b[0m\u001b[0m\n\u001b[0;32m--> 252\u001b[0;31m                 \u001b[0mtmp_df\u001b[0m \u001b[0;34m=\u001b[0m \u001b[0mfunc\u001b[0m\u001b[0;34m(\u001b[0m\u001b[0msample\u001b[0m\u001b[0;34m,\u001b[0m \u001b[0;34m*\u001b[0m\u001b[0margs\u001b[0m\u001b[0;34m,\u001b[0m \u001b[0;34m**\u001b[0m\u001b[0mkwds\u001b[0m\u001b[0;34m)\u001b[0m\u001b[0;34m\u001b[0m\u001b[0;34m\u001b[0m\u001b[0m\n\u001b[0m\u001b[1;32m    253\u001b[0m                 sample_df = sample.apply(\n",
      "\u001b[0;32m/tmp/ipykernel_60517/2272531851.py\u001b[0m in \u001b[0;36m<lambda>\u001b[0;34m(x)\u001b[0m\n\u001b[1;32m      3\u001b[0m \u001b[0;34m\u001b[0m\u001b[0m\n\u001b[0;32m----> 4\u001b[0;31m \u001b[0mtrain_df\u001b[0m\u001b[0;34m[\u001b[0m\u001b[0;34m'phraselist'\u001b[0m\u001b[0;34m]\u001b[0m \u001b[0;34m=\u001b[0m \u001b[0mtrain_df\u001b[0m\u001b[0;34m.\u001b[0m\u001b[0mrevcontent\u001b[0m\u001b[0;34m.\u001b[0m\u001b[0mswifter\u001b[0m\u001b[0;34m.\u001b[0m\u001b[0mapply\u001b[0m\u001b[0;34m(\u001b[0m\u001b[0;32mlambda\u001b[0m \u001b[0mx\u001b[0m\u001b[0;34m:\u001b[0m \u001b[0mphraser\u001b[0m\u001b[0;34m(\u001b[0m\u001b[0mx\u001b[0m\u001b[0;34m)\u001b[0m\u001b[0;34m)\u001b[0m\u001b[0;34m\u001b[0m\u001b[0;34m\u001b[0m\u001b[0m\n\u001b[0m\u001b[1;32m      5\u001b[0m \u001b[0mtest_df\u001b[0m\u001b[0;34m[\u001b[0m\u001b[0;34m'phraselist'\u001b[0m\u001b[0;34m]\u001b[0m \u001b[0;34m=\u001b[0m \u001b[0mtest_df\u001b[0m\u001b[0;34m.\u001b[0m\u001b[0mrevcontent\u001b[0m\u001b[0;34m.\u001b[0m\u001b[0mswifter\u001b[0m\u001b[0;34m.\u001b[0m\u001b[0mapply\u001b[0m\u001b[0;34m(\u001b[0m\u001b[0;32mlambda\u001b[0m \u001b[0mx\u001b[0m\u001b[0;34m:\u001b[0m \u001b[0mphraser\u001b[0m\u001b[0;34m(\u001b[0m\u001b[0mx\u001b[0m\u001b[0;34m)\u001b[0m\u001b[0;34m)\u001b[0m\u001b[0;34m\u001b[0m\u001b[0;34m\u001b[0m\u001b[0m\n",
      "\u001b[0;32m/tmp/ipykernel_60517/1656422414.py\u001b[0m in \u001b[0;36mphraser\u001b[0;34m(x)\u001b[0m\n\u001b[1;32m      7\u001b[0m \u001b[0;32mdef\u001b[0m \u001b[0mphraser\u001b[0m\u001b[0;34m(\u001b[0m\u001b[0mx\u001b[0m\u001b[0;34m)\u001b[0m\u001b[0;34m:\u001b[0m\u001b[0;34m\u001b[0m\u001b[0;34m\u001b[0m\u001b[0m\n\u001b[0;32m----> 8\u001b[0;31m     \u001b[0mphrase_list\u001b[0m \u001b[0;34m=\u001b[0m \u001b[0mpreprocess\u001b[0m\u001b[0;34m.\u001b[0m\u001b[0mpreprocess\u001b[0m\u001b[0;34m(\u001b[0m\u001b[0mx\u001b[0m\u001b[0;34m,\u001b[0m \u001b[0;32mTrue\u001b[0m\u001b[0;34m,\u001b[0m \u001b[0mnlp\u001b[0m\u001b[0;34m)\u001b[0m\u001b[0;34m.\u001b[0m\u001b[0mphrase_extract\u001b[0m\u001b[0;34m(\u001b[0m\u001b[0;34m)\u001b[0m\u001b[0;34m\u001b[0m\u001b[0;34m\u001b[0m\u001b[0m\n\u001b[0m\u001b[1;32m      9\u001b[0m     \u001b[0;32mreturn\u001b[0m \u001b[0mphrase_list\u001b[0m\u001b[0;34m\u001b[0m\u001b[0;34m\u001b[0m\u001b[0m\n",
      "\u001b[0;32m~/notebooks/opinion_mining/codes/dev/opinion-mining/git/lib/preprocess.py\u001b[0m in \u001b[0;36m__init__\u001b[0;34m(self, sentence, ext_nlp, nlp)\u001b[0m\n\u001b[1;32m     38\u001b[0m             \u001b[0mself\u001b[0m\u001b[0;34m.\u001b[0m\u001b[0mnlp\u001b[0m \u001b[0;34m=\u001b[0m \u001b[0mspacy_stanza\u001b[0m\u001b[0;34m.\u001b[0m\u001b[0mload_pipeline\u001b[0m\u001b[0;34m(\u001b[0m\u001b[0;34m\"en\"\u001b[0m\u001b[0;34m,\u001b[0m \u001b[0muse_gpu\u001b[0m\u001b[0;34m=\u001b[0m\u001b[0;32mFalse\u001b[0m\u001b[0;34m)\u001b[0m\u001b[0;34m\u001b[0m\u001b[0;34m\u001b[0m\u001b[0m\n\u001b[0;32m---> 39\u001b[0;31m         \u001b[0mself\u001b[0m\u001b[0;34m.\u001b[0m\u001b[0mtext\u001b[0m \u001b[0;34m=\u001b[0m \u001b[0mself\u001b[0m\u001b[0;34m.\u001b[0m\u001b[0mdeEmojify\u001b[0m\u001b[0;34m(\u001b[0m\u001b[0;34m)\u001b[0m\u001b[0;34m\u001b[0m\u001b[0;34m\u001b[0m\u001b[0m\n\u001b[0m\u001b[1;32m     40\u001b[0m \u001b[0;34m\u001b[0m\u001b[0m\n",
      "\u001b[0;32m~/notebooks/opinion_mining/codes/dev/opinion-mining/git/lib/preprocess.py\u001b[0m in \u001b[0;36mdeEmojify\u001b[0;34m(self)\u001b[0m\n\u001b[1;32m    138\u001b[0m                                \"]+\", flags = re.UNICODE)\n\u001b[0;32m--> 139\u001b[0;31m         \u001b[0;32mreturn\u001b[0m \u001b[0mregrex_pattern\u001b[0m\u001b[0;34m.\u001b[0m\u001b[0msub\u001b[0m\u001b[0;34m(\u001b[0m\u001b[0;34mr''\u001b[0m\u001b[0;34m,\u001b[0m\u001b[0mself\u001b[0m\u001b[0;34m.\u001b[0m\u001b[0msentence\u001b[0m\u001b[0;34m)\u001b[0m\u001b[0;34m\u001b[0m\u001b[0;34m\u001b[0m\u001b[0m\n\u001b[0m\u001b[1;32m    140\u001b[0m \u001b[0;34m\u001b[0m\u001b[0m\n",
      "\u001b[0;31mTypeError\u001b[0m: expected string or bytes-like object",
      "\nDuring handling of the above exception, another exception occurred:\n",
      "\u001b[0;31mKeyboardInterrupt\u001b[0m                         Traceback (most recent call last)",
      "\u001b[0;32m/tmp/ipykernel_60517/2272531851.py\u001b[0m in \u001b[0;36m<module>\u001b[0;34m\u001b[0m\n\u001b[1;32m      2\u001b[0m \u001b[0mtest_df\u001b[0m \u001b[0;34m=\u001b[0m \u001b[0mcolumn_regularize\u001b[0m\u001b[0;34m(\u001b[0m\u001b[0mtest_df\u001b[0m\u001b[0;34m)\u001b[0m\u001b[0;34m\u001b[0m\u001b[0;34m\u001b[0m\u001b[0m\n\u001b[1;32m      3\u001b[0m \u001b[0;34m\u001b[0m\u001b[0m\n\u001b[0;32m----> 4\u001b[0;31m \u001b[0mtrain_df\u001b[0m\u001b[0;34m[\u001b[0m\u001b[0;34m'phraselist'\u001b[0m\u001b[0;34m]\u001b[0m \u001b[0;34m=\u001b[0m \u001b[0mtrain_df\u001b[0m\u001b[0;34m.\u001b[0m\u001b[0mrevcontent\u001b[0m\u001b[0;34m.\u001b[0m\u001b[0mswifter\u001b[0m\u001b[0;34m.\u001b[0m\u001b[0mapply\u001b[0m\u001b[0;34m(\u001b[0m\u001b[0;32mlambda\u001b[0m \u001b[0mx\u001b[0m\u001b[0;34m:\u001b[0m \u001b[0mphraser\u001b[0m\u001b[0;34m(\u001b[0m\u001b[0mx\u001b[0m\u001b[0;34m)\u001b[0m\u001b[0;34m)\u001b[0m\u001b[0;34m\u001b[0m\u001b[0;34m\u001b[0m\u001b[0m\n\u001b[0m\u001b[1;32m      5\u001b[0m \u001b[0mtest_df\u001b[0m\u001b[0;34m[\u001b[0m\u001b[0;34m'phraselist'\u001b[0m\u001b[0;34m]\u001b[0m \u001b[0;34m=\u001b[0m \u001b[0mtest_df\u001b[0m\u001b[0;34m.\u001b[0m\u001b[0mrevcontent\u001b[0m\u001b[0;34m.\u001b[0m\u001b[0mswifter\u001b[0m\u001b[0;34m.\u001b[0m\u001b[0mapply\u001b[0m\u001b[0;34m(\u001b[0m\u001b[0;32mlambda\u001b[0m \u001b[0mx\u001b[0m\u001b[0;34m:\u001b[0m \u001b[0mphraser\u001b[0m\u001b[0;34m(\u001b[0m\u001b[0mx\u001b[0m\u001b[0;34m)\u001b[0m\u001b[0;34m)\u001b[0m\u001b[0;34m\u001b[0m\u001b[0;34m\u001b[0m\u001b[0m\n\u001b[1;32m      6\u001b[0m \u001b[0;34m\u001b[0m\u001b[0m\n",
      "\u001b[0;32m~/anaconda3/envs/nlp/lib/python3.8/site-packages/swifter/swifter.py\u001b[0m in \u001b[0;36mapply\u001b[0;34m(self, func, convert_dtype, args, **kwds)\u001b[0m\n\u001b[1;32m    279\u001b[0m                 \u001b[0;32mif\u001b[0m \u001b[0mself\u001b[0m\u001b[0;34m.\u001b[0m\u001b[0m_progress_bar\u001b[0m\u001b[0;34m:\u001b[0m\u001b[0;34m\u001b[0m\u001b[0;34m\u001b[0m\u001b[0m\n\u001b[1;32m    280\u001b[0m                     \u001b[0mtqdm\u001b[0m\u001b[0;34m.\u001b[0m\u001b[0mpandas\u001b[0m\u001b[0;34m(\u001b[0m\u001b[0mdesc\u001b[0m\u001b[0;34m=\u001b[0m\u001b[0mself\u001b[0m\u001b[0;34m.\u001b[0m\u001b[0m_progress_bar_desc\u001b[0m \u001b[0;32mor\u001b[0m \u001b[0;34m\"Pandas Apply\"\u001b[0m\u001b[0;34m)\u001b[0m\u001b[0;34m\u001b[0m\u001b[0;34m\u001b[0m\u001b[0m\n\u001b[0;32m--> 281\u001b[0;31m                     return self._obj.progress_apply(\n\u001b[0m\u001b[1;32m    282\u001b[0m                         \u001b[0mfunc\u001b[0m\u001b[0;34m,\u001b[0m \u001b[0mconvert_dtype\u001b[0m\u001b[0;34m=\u001b[0m\u001b[0mconvert_dtype\u001b[0m\u001b[0;34m,\u001b[0m \u001b[0margs\u001b[0m\u001b[0;34m=\u001b[0m\u001b[0margs\u001b[0m\u001b[0;34m,\u001b[0m \u001b[0;34m**\u001b[0m\u001b[0mkwds\u001b[0m\u001b[0;34m\u001b[0m\u001b[0;34m\u001b[0m\u001b[0m\n\u001b[1;32m    283\u001b[0m                     )\n",
      "\u001b[0;32m~/anaconda3/envs/nlp/lib/python3.8/site-packages/tqdm/std.py\u001b[0m in \u001b[0;36minner\u001b[0;34m(df, func, *args, **kwargs)\u001b[0m\n\u001b[1;32m    812\u001b[0m                 \u001b[0;31m# on the df using our wrapper (which provides bar updating)\u001b[0m\u001b[0;34m\u001b[0m\u001b[0;34m\u001b[0m\u001b[0;34m\u001b[0m\u001b[0m\n\u001b[1;32m    813\u001b[0m                 \u001b[0;32mtry\u001b[0m\u001b[0;34m:\u001b[0m\u001b[0;34m\u001b[0m\u001b[0;34m\u001b[0m\u001b[0m\n\u001b[0;32m--> 814\u001b[0;31m                     \u001b[0;32mreturn\u001b[0m \u001b[0mgetattr\u001b[0m\u001b[0;34m(\u001b[0m\u001b[0mdf\u001b[0m\u001b[0;34m,\u001b[0m \u001b[0mdf_function\u001b[0m\u001b[0;34m)\u001b[0m\u001b[0;34m(\u001b[0m\u001b[0mwrapper\u001b[0m\u001b[0;34m,\u001b[0m \u001b[0;34m**\u001b[0m\u001b[0mkwargs\u001b[0m\u001b[0;34m)\u001b[0m\u001b[0;34m\u001b[0m\u001b[0;34m\u001b[0m\u001b[0m\n\u001b[0m\u001b[1;32m    815\u001b[0m                 \u001b[0;32mfinally\u001b[0m\u001b[0;34m:\u001b[0m\u001b[0;34m\u001b[0m\u001b[0;34m\u001b[0m\u001b[0m\n\u001b[1;32m    816\u001b[0m                     \u001b[0mt\u001b[0m\u001b[0;34m.\u001b[0m\u001b[0mclose\u001b[0m\u001b[0;34m(\u001b[0m\u001b[0;34m)\u001b[0m\u001b[0;34m\u001b[0m\u001b[0;34m\u001b[0m\u001b[0m\n",
      "\u001b[0;32m~/anaconda3/envs/nlp/lib/python3.8/site-packages/pandas/core/series.py\u001b[0m in \u001b[0;36mapply\u001b[0;34m(self, func, convert_dtype, args, **kwargs)\u001b[0m\n\u001b[1;32m   4428\u001b[0m         \u001b[0mdtype\u001b[0m\u001b[0;34m:\u001b[0m \u001b[0mfloat64\u001b[0m\u001b[0;34m\u001b[0m\u001b[0;34m\u001b[0m\u001b[0m\n\u001b[1;32m   4429\u001b[0m         \"\"\"\n\u001b[0;32m-> 4430\u001b[0;31m         \u001b[0;32mreturn\u001b[0m \u001b[0mSeriesApply\u001b[0m\u001b[0;34m(\u001b[0m\u001b[0mself\u001b[0m\u001b[0;34m,\u001b[0m \u001b[0mfunc\u001b[0m\u001b[0;34m,\u001b[0m \u001b[0mconvert_dtype\u001b[0m\u001b[0;34m,\u001b[0m \u001b[0margs\u001b[0m\u001b[0;34m,\u001b[0m \u001b[0mkwargs\u001b[0m\u001b[0;34m)\u001b[0m\u001b[0;34m.\u001b[0m\u001b[0mapply\u001b[0m\u001b[0;34m(\u001b[0m\u001b[0;34m)\u001b[0m\u001b[0;34m\u001b[0m\u001b[0;34m\u001b[0m\u001b[0m\n\u001b[0m\u001b[1;32m   4431\u001b[0m \u001b[0;34m\u001b[0m\u001b[0m\n\u001b[1;32m   4432\u001b[0m     def _reduce(\n",
      "\u001b[0;32m~/anaconda3/envs/nlp/lib/python3.8/site-packages/pandas/core/apply.py\u001b[0m in \u001b[0;36mapply\u001b[0;34m(self)\u001b[0m\n\u001b[1;32m   1080\u001b[0m             \u001b[0;32mreturn\u001b[0m \u001b[0mself\u001b[0m\u001b[0;34m.\u001b[0m\u001b[0mapply_str\u001b[0m\u001b[0;34m(\u001b[0m\u001b[0;34m)\u001b[0m\u001b[0;34m\u001b[0m\u001b[0;34m\u001b[0m\u001b[0m\n\u001b[1;32m   1081\u001b[0m \u001b[0;34m\u001b[0m\u001b[0m\n\u001b[0;32m-> 1082\u001b[0;31m         \u001b[0;32mreturn\u001b[0m \u001b[0mself\u001b[0m\u001b[0;34m.\u001b[0m\u001b[0mapply_standard\u001b[0m\u001b[0;34m(\u001b[0m\u001b[0;34m)\u001b[0m\u001b[0;34m\u001b[0m\u001b[0;34m\u001b[0m\u001b[0m\n\u001b[0m\u001b[1;32m   1083\u001b[0m \u001b[0;34m\u001b[0m\u001b[0m\n\u001b[1;32m   1084\u001b[0m     \u001b[0;32mdef\u001b[0m \u001b[0magg\u001b[0m\u001b[0;34m(\u001b[0m\u001b[0mself\u001b[0m\u001b[0;34m)\u001b[0m\u001b[0;34m:\u001b[0m\u001b[0;34m\u001b[0m\u001b[0;34m\u001b[0m\u001b[0m\n",
      "\u001b[0;32m~/anaconda3/envs/nlp/lib/python3.8/site-packages/pandas/core/apply.py\u001b[0m in \u001b[0;36mapply_standard\u001b[0;34m(self)\u001b[0m\n\u001b[1;32m   1135\u001b[0m                 \u001b[0;31m# List[Union[Callable[..., Any], str]]]]]\"; expected\u001b[0m\u001b[0;34m\u001b[0m\u001b[0;34m\u001b[0m\u001b[0;34m\u001b[0m\u001b[0m\n\u001b[1;32m   1136\u001b[0m                 \u001b[0;31m# \"Callable[[Any], Any]\"\u001b[0m\u001b[0;34m\u001b[0m\u001b[0;34m\u001b[0m\u001b[0;34m\u001b[0m\u001b[0m\n\u001b[0;32m-> 1137\u001b[0;31m                 mapped = lib.map_infer(\n\u001b[0m\u001b[1;32m   1138\u001b[0m                     \u001b[0mvalues\u001b[0m\u001b[0;34m,\u001b[0m\u001b[0;34m\u001b[0m\u001b[0;34m\u001b[0m\u001b[0m\n\u001b[1;32m   1139\u001b[0m                     \u001b[0mf\u001b[0m\u001b[0;34m,\u001b[0m  \u001b[0;31m# type: ignore[arg-type]\u001b[0m\u001b[0;34m\u001b[0m\u001b[0;34m\u001b[0m\u001b[0m\n",
      "\u001b[0;32m~/anaconda3/envs/nlp/lib/python3.8/site-packages/pandas/_libs/lib.pyx\u001b[0m in \u001b[0;36mpandas._libs.lib.map_infer\u001b[0;34m()\u001b[0m\n",
      "\u001b[0;32m~/anaconda3/envs/nlp/lib/python3.8/site-packages/tqdm/std.py\u001b[0m in \u001b[0;36mwrapper\u001b[0;34m(*args, **kwargs)\u001b[0m\n\u001b[1;32m    807\u001b[0m                     \u001b[0;31m# take a fast or slow code path; so stop when t.total==t.n\u001b[0m\u001b[0;34m\u001b[0m\u001b[0;34m\u001b[0m\u001b[0;34m\u001b[0m\u001b[0m\n\u001b[1;32m    808\u001b[0m                     \u001b[0mt\u001b[0m\u001b[0;34m.\u001b[0m\u001b[0mupdate\u001b[0m\u001b[0;34m(\u001b[0m\u001b[0mn\u001b[0m\u001b[0;34m=\u001b[0m\u001b[0;36m1\u001b[0m \u001b[0;32mif\u001b[0m \u001b[0;32mnot\u001b[0m \u001b[0mt\u001b[0m\u001b[0;34m.\u001b[0m\u001b[0mtotal\u001b[0m \u001b[0;32mor\u001b[0m \u001b[0mt\u001b[0m\u001b[0;34m.\u001b[0m\u001b[0mn\u001b[0m \u001b[0;34m<\u001b[0m \u001b[0mt\u001b[0m\u001b[0;34m.\u001b[0m\u001b[0mtotal\u001b[0m \u001b[0;32melse\u001b[0m \u001b[0;36m0\u001b[0m\u001b[0;34m)\u001b[0m\u001b[0;34m\u001b[0m\u001b[0;34m\u001b[0m\u001b[0m\n\u001b[0;32m--> 809\u001b[0;31m                     \u001b[0;32mreturn\u001b[0m \u001b[0mfunc\u001b[0m\u001b[0;34m(\u001b[0m\u001b[0;34m*\u001b[0m\u001b[0margs\u001b[0m\u001b[0;34m,\u001b[0m \u001b[0;34m**\u001b[0m\u001b[0mkwargs\u001b[0m\u001b[0;34m)\u001b[0m\u001b[0;34m\u001b[0m\u001b[0;34m\u001b[0m\u001b[0m\n\u001b[0m\u001b[1;32m    810\u001b[0m \u001b[0;34m\u001b[0m\u001b[0m\n\u001b[1;32m    811\u001b[0m                 \u001b[0;31m# Apply the provided function (in **kwargs)\u001b[0m\u001b[0;34m\u001b[0m\u001b[0;34m\u001b[0m\u001b[0;34m\u001b[0m\u001b[0m\n",
      "\u001b[0;32m/tmp/ipykernel_60517/2272531851.py\u001b[0m in \u001b[0;36m<lambda>\u001b[0;34m(x)\u001b[0m\n\u001b[1;32m      2\u001b[0m \u001b[0mtest_df\u001b[0m \u001b[0;34m=\u001b[0m \u001b[0mcolumn_regularize\u001b[0m\u001b[0;34m(\u001b[0m\u001b[0mtest_df\u001b[0m\u001b[0;34m)\u001b[0m\u001b[0;34m\u001b[0m\u001b[0;34m\u001b[0m\u001b[0m\n\u001b[1;32m      3\u001b[0m \u001b[0;34m\u001b[0m\u001b[0m\n\u001b[0;32m----> 4\u001b[0;31m \u001b[0mtrain_df\u001b[0m\u001b[0;34m[\u001b[0m\u001b[0;34m'phraselist'\u001b[0m\u001b[0;34m]\u001b[0m \u001b[0;34m=\u001b[0m \u001b[0mtrain_df\u001b[0m\u001b[0;34m.\u001b[0m\u001b[0mrevcontent\u001b[0m\u001b[0;34m.\u001b[0m\u001b[0mswifter\u001b[0m\u001b[0;34m.\u001b[0m\u001b[0mapply\u001b[0m\u001b[0;34m(\u001b[0m\u001b[0;32mlambda\u001b[0m \u001b[0mx\u001b[0m\u001b[0;34m:\u001b[0m \u001b[0mphraser\u001b[0m\u001b[0;34m(\u001b[0m\u001b[0mx\u001b[0m\u001b[0;34m)\u001b[0m\u001b[0;34m)\u001b[0m\u001b[0;34m\u001b[0m\u001b[0;34m\u001b[0m\u001b[0m\n\u001b[0m\u001b[1;32m      5\u001b[0m \u001b[0mtest_df\u001b[0m\u001b[0;34m[\u001b[0m\u001b[0;34m'phraselist'\u001b[0m\u001b[0;34m]\u001b[0m \u001b[0;34m=\u001b[0m \u001b[0mtest_df\u001b[0m\u001b[0;34m.\u001b[0m\u001b[0mrevcontent\u001b[0m\u001b[0;34m.\u001b[0m\u001b[0mswifter\u001b[0m\u001b[0;34m.\u001b[0m\u001b[0mapply\u001b[0m\u001b[0;34m(\u001b[0m\u001b[0;32mlambda\u001b[0m \u001b[0mx\u001b[0m\u001b[0;34m:\u001b[0m \u001b[0mphraser\u001b[0m\u001b[0;34m(\u001b[0m\u001b[0mx\u001b[0m\u001b[0;34m)\u001b[0m\u001b[0;34m)\u001b[0m\u001b[0;34m\u001b[0m\u001b[0;34m\u001b[0m\u001b[0m\n\u001b[1;32m      6\u001b[0m \u001b[0;34m\u001b[0m\u001b[0m\n",
      "\u001b[0;32m/tmp/ipykernel_60517/1656422414.py\u001b[0m in \u001b[0;36mphraser\u001b[0;34m(x)\u001b[0m\n\u001b[1;32m      6\u001b[0m \u001b[0;34m\u001b[0m\u001b[0m\n\u001b[1;32m      7\u001b[0m \u001b[0;32mdef\u001b[0m \u001b[0mphraser\u001b[0m\u001b[0;34m(\u001b[0m\u001b[0mx\u001b[0m\u001b[0;34m)\u001b[0m\u001b[0;34m:\u001b[0m\u001b[0;34m\u001b[0m\u001b[0;34m\u001b[0m\u001b[0m\n\u001b[0;32m----> 8\u001b[0;31m     \u001b[0mphrase_list\u001b[0m \u001b[0;34m=\u001b[0m \u001b[0mpreprocess\u001b[0m\u001b[0;34m.\u001b[0m\u001b[0mpreprocess\u001b[0m\u001b[0;34m(\u001b[0m\u001b[0mx\u001b[0m\u001b[0;34m,\u001b[0m \u001b[0;32mTrue\u001b[0m\u001b[0;34m,\u001b[0m \u001b[0mnlp\u001b[0m\u001b[0;34m)\u001b[0m\u001b[0;34m.\u001b[0m\u001b[0mphrase_extract\u001b[0m\u001b[0;34m(\u001b[0m\u001b[0;34m)\u001b[0m\u001b[0;34m\u001b[0m\u001b[0;34m\u001b[0m\u001b[0m\n\u001b[0m\u001b[1;32m      9\u001b[0m     \u001b[0;32mreturn\u001b[0m \u001b[0mphrase_list\u001b[0m\u001b[0;34m\u001b[0m\u001b[0;34m\u001b[0m\u001b[0m\n\u001b[1;32m     10\u001b[0m \u001b[0;34m\u001b[0m\u001b[0m\n",
      "\u001b[0;32m~/notebooks/opinion_mining/codes/dev/opinion-mining/git/lib/preprocess.py\u001b[0m in \u001b[0;36mphrase_extract\u001b[0;34m(self)\u001b[0m\n\u001b[1;32m     41\u001b[0m     \u001b[0;32mdef\u001b[0m \u001b[0mphrase_extract\u001b[0m\u001b[0;34m(\u001b[0m\u001b[0mself\u001b[0m\u001b[0;34m)\u001b[0m\u001b[0;34m:\u001b[0m\u001b[0;34m\u001b[0m\u001b[0;34m\u001b[0m\u001b[0m\n\u001b[1;32m     42\u001b[0m         \u001b[0;32mwith\u001b[0m \u001b[0msuppress_output\u001b[0m\u001b[0;34m(\u001b[0m\u001b[0msuppress_stdout\u001b[0m\u001b[0;34m=\u001b[0m\u001b[0;32mTrue\u001b[0m\u001b[0;34m,\u001b[0m \u001b[0msuppress_stderr\u001b[0m\u001b[0;34m=\u001b[0m\u001b[0;32mTrue\u001b[0m\u001b[0;34m)\u001b[0m\u001b[0;34m:\u001b[0m\u001b[0;34m\u001b[0m\u001b[0;34m\u001b[0m\u001b[0m\n\u001b[0;32m---> 43\u001b[0;31m             \u001b[0mresult\u001b[0m \u001b[0;34m=\u001b[0m \u001b[0mself\u001b[0m\u001b[0;34m.\u001b[0m\u001b[0mextract_aspects\u001b[0m\u001b[0;34m(\u001b[0m\u001b[0;34m)\u001b[0m\u001b[0;34m\u001b[0m\u001b[0;34m\u001b[0m\u001b[0m\n\u001b[0m\u001b[1;32m     44\u001b[0m         \u001b[0mvalues\u001b[0m \u001b[0;34m=\u001b[0m \u001b[0mpd\u001b[0m\u001b[0;34m.\u001b[0m\u001b[0mDataFrame\u001b[0m\u001b[0;34m(\u001b[0m\u001b[0mresult\u001b[0m\u001b[0;34m.\u001b[0m\u001b[0mvalues\u001b[0m\u001b[0;34m(\u001b[0m\u001b[0;34m)\u001b[0m\u001b[0;34m)\u001b[0m\u001b[0;34m\u001b[0m\u001b[0;34m\u001b[0m\u001b[0m\n\u001b[1;32m     45\u001b[0m         \u001b[0;32mif\u001b[0m \u001b[0mlen\u001b[0m\u001b[0;34m(\u001b[0m\u001b[0mvalues\u001b[0m\u001b[0;34m)\u001b[0m\u001b[0;34m:\u001b[0m\u001b[0;34m\u001b[0m\u001b[0;34m\u001b[0m\u001b[0m\n",
      "\u001b[0;32m~/notebooks/opinion_mining/codes/dev/opinion-mining/git/lib/preprocess.py\u001b[0m in \u001b[0;36mextract_aspects\u001b[0;34m(self)\u001b[0m\n\u001b[1;32m     79\u001b[0m     \u001b[0;32mdef\u001b[0m \u001b[0mextract_aspects\u001b[0m\u001b[0;34m(\u001b[0m\u001b[0mself\u001b[0m\u001b[0;34m)\u001b[0m\u001b[0;34m:\u001b[0m\u001b[0;34m\u001b[0m\u001b[0;34m\u001b[0m\u001b[0m\n\u001b[1;32m     80\u001b[0m         \u001b[0;32mwith\u001b[0m \u001b[0msuppress_output\u001b[0m\u001b[0;34m(\u001b[0m\u001b[0msuppress_stdout\u001b[0m\u001b[0;34m=\u001b[0m\u001b[0;32mTrue\u001b[0m\u001b[0;34m,\u001b[0m \u001b[0msuppress_stderr\u001b[0m\u001b[0;34m=\u001b[0m\u001b[0;32mTrue\u001b[0m\u001b[0;34m)\u001b[0m\u001b[0;34m:\u001b[0m\u001b[0;34m\u001b[0m\u001b[0;34m\u001b[0m\u001b[0m\n\u001b[0;32m---> 81\u001b[0;31m             \u001b[0mwords\u001b[0m\u001b[0;34m,\u001b[0m \u001b[0mtargets\u001b[0m\u001b[0;34m,\u001b[0m \u001b[0medges\u001b[0m \u001b[0;34m=\u001b[0m \u001b[0mself\u001b[0m\u001b[0;34m.\u001b[0m\u001b[0mprocess_spacy\u001b[0m\u001b[0;34m(\u001b[0m\u001b[0;34m)\u001b[0m\u001b[0;34m\u001b[0m\u001b[0;34m\u001b[0m\u001b[0m\n\u001b[0m\u001b[1;32m     82\u001b[0m \u001b[0;34m\u001b[0m\u001b[0m\n\u001b[1;32m     83\u001b[0m         \u001b[0msentiment_terms\u001b[0m \u001b[0;34m=\u001b[0m \u001b[0;34m{\u001b[0m\u001b[0;34m}\u001b[0m\u001b[0;34m\u001b[0m\u001b[0;34m\u001b[0m\u001b[0m\n",
      "\u001b[0;32m~/notebooks/opinion_mining/codes/dev/opinion-mining/git/lib/preprocess.py\u001b[0m in \u001b[0;36mprocess_spacy\u001b[0;34m(self)\u001b[0m\n\u001b[1;32m     58\u001b[0m \u001b[0;34m\u001b[0m\u001b[0m\n\u001b[1;32m     59\u001b[0m     \u001b[0;32mdef\u001b[0m \u001b[0mprocess_spacy\u001b[0m\u001b[0;34m(\u001b[0m\u001b[0mself\u001b[0m\u001b[0;34m)\u001b[0m\u001b[0;34m:\u001b[0m\u001b[0;34m\u001b[0m\u001b[0;34m\u001b[0m\u001b[0m\n\u001b[0;32m---> 60\u001b[0;31m         \u001b[0mself\u001b[0m\u001b[0;34m.\u001b[0m\u001b[0mdoc\u001b[0m \u001b[0;34m=\u001b[0m \u001b[0mself\u001b[0m\u001b[0;34m.\u001b[0m\u001b[0mnlp\u001b[0m\u001b[0;34m(\u001b[0m\u001b[0mself\u001b[0m\u001b[0;34m.\u001b[0m\u001b[0mtext\u001b[0m\u001b[0;34m)\u001b[0m\u001b[0;34m\u001b[0m\u001b[0;34m\u001b[0m\u001b[0m\n\u001b[0m\u001b[1;32m     61\u001b[0m         \u001b[0mwords\u001b[0m\u001b[0;34m,\u001b[0m \u001b[0mtargets\u001b[0m\u001b[0;34m,\u001b[0m \u001b[0mall_targets\u001b[0m \u001b[0;34m=\u001b[0m \u001b[0;34m[\u001b[0m\u001b[0;34m]\u001b[0m\u001b[0;34m,\u001b[0m \u001b[0;34m{\u001b[0m\u001b[0;34m}\u001b[0m\u001b[0;34m,\u001b[0m \u001b[0;34m[\u001b[0m\u001b[0;34m]\u001b[0m\u001b[0;34m\u001b[0m\u001b[0;34m\u001b[0m\u001b[0m\n\u001b[1;32m     62\u001b[0m         \u001b[0;32mfor\u001b[0m \u001b[0mword\u001b[0m \u001b[0;32min\u001b[0m \u001b[0mself\u001b[0m\u001b[0;34m.\u001b[0m\u001b[0mdoc\u001b[0m\u001b[0;34m:\u001b[0m\u001b[0;34m\u001b[0m\u001b[0;34m\u001b[0m\u001b[0m\n",
      "\u001b[0;32m~/anaconda3/envs/nlp/lib/python3.8/site-packages/spacy/language.py\u001b[0m in \u001b[0;36m__call__\u001b[0;34m(self, text, disable, component_cfg)\u001b[0m\n\u001b[1;32m   1000\u001b[0m         \u001b[0mDOCS\u001b[0m\u001b[0;34m:\u001b[0m \u001b[0mhttps\u001b[0m\u001b[0;34m:\u001b[0m\u001b[0;34m//\u001b[0m\u001b[0mspacy\u001b[0m\u001b[0;34m.\u001b[0m\u001b[0mio\u001b[0m\u001b[0;34m/\u001b[0m\u001b[0mapi\u001b[0m\u001b[0;34m/\u001b[0m\u001b[0mlanguage\u001b[0m\u001b[0;31m#call\u001b[0m\u001b[0;34m\u001b[0m\u001b[0;34m\u001b[0m\u001b[0m\n\u001b[1;32m   1001\u001b[0m         \"\"\"\n\u001b[0;32m-> 1002\u001b[0;31m         \u001b[0mdoc\u001b[0m \u001b[0;34m=\u001b[0m \u001b[0mself\u001b[0m\u001b[0;34m.\u001b[0m\u001b[0m_ensure_doc\u001b[0m\u001b[0;34m(\u001b[0m\u001b[0mtext\u001b[0m\u001b[0;34m)\u001b[0m\u001b[0;34m\u001b[0m\u001b[0;34m\u001b[0m\u001b[0m\n\u001b[0m\u001b[1;32m   1003\u001b[0m         \u001b[0;32mif\u001b[0m \u001b[0mcomponent_cfg\u001b[0m \u001b[0;32mis\u001b[0m \u001b[0;32mNone\u001b[0m\u001b[0;34m:\u001b[0m\u001b[0;34m\u001b[0m\u001b[0;34m\u001b[0m\u001b[0m\n\u001b[1;32m   1004\u001b[0m             \u001b[0mcomponent_cfg\u001b[0m \u001b[0;34m=\u001b[0m \u001b[0;34m{\u001b[0m\u001b[0;34m}\u001b[0m\u001b[0;34m\u001b[0m\u001b[0;34m\u001b[0m\u001b[0m\n",
      "\u001b[0;32m~/anaconda3/envs/nlp/lib/python3.8/site-packages/spacy/language.py\u001b[0m in \u001b[0;36m_ensure_doc\u001b[0;34m(self, doc_like)\u001b[0m\n\u001b[1;32m   1090\u001b[0m             \u001b[0;32mreturn\u001b[0m \u001b[0mdoc_like\u001b[0m\u001b[0;34m\u001b[0m\u001b[0;34m\u001b[0m\u001b[0m\n\u001b[1;32m   1091\u001b[0m         \u001b[0;32mif\u001b[0m \u001b[0misinstance\u001b[0m\u001b[0;34m(\u001b[0m\u001b[0mdoc_like\u001b[0m\u001b[0;34m,\u001b[0m \u001b[0mstr\u001b[0m\u001b[0;34m)\u001b[0m\u001b[0;34m:\u001b[0m\u001b[0;34m\u001b[0m\u001b[0;34m\u001b[0m\u001b[0m\n\u001b[0;32m-> 1092\u001b[0;31m             \u001b[0;32mreturn\u001b[0m \u001b[0mself\u001b[0m\u001b[0;34m.\u001b[0m\u001b[0mmake_doc\u001b[0m\u001b[0;34m(\u001b[0m\u001b[0mdoc_like\u001b[0m\u001b[0;34m)\u001b[0m\u001b[0;34m\u001b[0m\u001b[0;34m\u001b[0m\u001b[0m\n\u001b[0m\u001b[1;32m   1093\u001b[0m         \u001b[0;32mraise\u001b[0m \u001b[0mValueError\u001b[0m\u001b[0;34m(\u001b[0m\u001b[0mErrors\u001b[0m\u001b[0;34m.\u001b[0m\u001b[0mE866\u001b[0m\u001b[0;34m.\u001b[0m\u001b[0mformat\u001b[0m\u001b[0;34m(\u001b[0m\u001b[0mtype\u001b[0m\u001b[0;34m=\u001b[0m\u001b[0mtype\u001b[0m\u001b[0;34m(\u001b[0m\u001b[0mdoc_like\u001b[0m\u001b[0;34m)\u001b[0m\u001b[0;34m)\u001b[0m\u001b[0;34m)\u001b[0m\u001b[0;34m\u001b[0m\u001b[0;34m\u001b[0m\u001b[0m\n\u001b[1;32m   1094\u001b[0m \u001b[0;34m\u001b[0m\u001b[0m\n",
      "\u001b[0;32m~/anaconda3/envs/nlp/lib/python3.8/site-packages/spacy/language.py\u001b[0m in \u001b[0;36mmake_doc\u001b[0;34m(self, text)\u001b[0m\n\u001b[1;32m   1083\u001b[0m                 \u001b[0mErrors\u001b[0m\u001b[0;34m.\u001b[0m\u001b[0mE088\u001b[0m\u001b[0;34m.\u001b[0m\u001b[0mformat\u001b[0m\u001b[0;34m(\u001b[0m\u001b[0mlength\u001b[0m\u001b[0;34m=\u001b[0m\u001b[0mlen\u001b[0m\u001b[0;34m(\u001b[0m\u001b[0mtext\u001b[0m\u001b[0;34m)\u001b[0m\u001b[0;34m,\u001b[0m \u001b[0mmax_length\u001b[0m\u001b[0;34m=\u001b[0m\u001b[0mself\u001b[0m\u001b[0;34m.\u001b[0m\u001b[0mmax_length\u001b[0m\u001b[0;34m)\u001b[0m\u001b[0;34m\u001b[0m\u001b[0;34m\u001b[0m\u001b[0m\n\u001b[1;32m   1084\u001b[0m             )\n\u001b[0;32m-> 1085\u001b[0;31m         \u001b[0;32mreturn\u001b[0m \u001b[0mself\u001b[0m\u001b[0;34m.\u001b[0m\u001b[0mtokenizer\u001b[0m\u001b[0;34m(\u001b[0m\u001b[0mtext\u001b[0m\u001b[0;34m)\u001b[0m\u001b[0;34m\u001b[0m\u001b[0;34m\u001b[0m\u001b[0m\n\u001b[0m\u001b[1;32m   1086\u001b[0m \u001b[0;34m\u001b[0m\u001b[0m\n\u001b[1;32m   1087\u001b[0m     \u001b[0;32mdef\u001b[0m \u001b[0m_ensure_doc\u001b[0m\u001b[0;34m(\u001b[0m\u001b[0mself\u001b[0m\u001b[0;34m,\u001b[0m \u001b[0mdoc_like\u001b[0m\u001b[0;34m:\u001b[0m \u001b[0mUnion\u001b[0m\u001b[0;34m[\u001b[0m\u001b[0mstr\u001b[0m\u001b[0;34m,\u001b[0m \u001b[0mDoc\u001b[0m\u001b[0;34m]\u001b[0m\u001b[0;34m)\u001b[0m \u001b[0;34m->\u001b[0m \u001b[0mDoc\u001b[0m\u001b[0;34m:\u001b[0m\u001b[0;34m\u001b[0m\u001b[0;34m\u001b[0m\u001b[0m\n",
      "\u001b[0;32m~/anaconda3/envs/nlp/lib/python3.8/site-packages/spacy_stanza/tokenizer.py\u001b[0m in \u001b[0;36m__call__\u001b[0;34m(self, text)\u001b[0m\n\u001b[1;32m     81\u001b[0m             \u001b[0;32mreturn\u001b[0m \u001b[0mDoc\u001b[0m\u001b[0;34m(\u001b[0m\u001b[0mself\u001b[0m\u001b[0;34m.\u001b[0m\u001b[0mvocab\u001b[0m\u001b[0;34m,\u001b[0m \u001b[0mwords\u001b[0m\u001b[0;34m=\u001b[0m\u001b[0;34m[\u001b[0m\u001b[0mtext\u001b[0m\u001b[0;34m]\u001b[0m\u001b[0;34m,\u001b[0m \u001b[0mspaces\u001b[0m\u001b[0;34m=\u001b[0m\u001b[0;34m[\u001b[0m\u001b[0;32mFalse\u001b[0m\u001b[0;34m]\u001b[0m\u001b[0;34m)\u001b[0m\u001b[0;34m\u001b[0m\u001b[0;34m\u001b[0m\u001b[0m\n\u001b[1;32m     82\u001b[0m \u001b[0;34m\u001b[0m\u001b[0m\n\u001b[0;32m---> 83\u001b[0;31m         \u001b[0msnlp_doc\u001b[0m \u001b[0;34m=\u001b[0m \u001b[0mself\u001b[0m\u001b[0;34m.\u001b[0m\u001b[0msnlp\u001b[0m\u001b[0;34m(\u001b[0m\u001b[0mtext\u001b[0m\u001b[0;34m)\u001b[0m\u001b[0;34m\u001b[0m\u001b[0;34m\u001b[0m\u001b[0m\n\u001b[0m\u001b[1;32m     84\u001b[0m         \u001b[0mtext\u001b[0m \u001b[0;34m=\u001b[0m \u001b[0msnlp_doc\u001b[0m\u001b[0;34m.\u001b[0m\u001b[0mtext\u001b[0m\u001b[0;34m\u001b[0m\u001b[0;34m\u001b[0m\u001b[0m\n\u001b[1;32m     85\u001b[0m         \u001b[0msnlp_tokens\u001b[0m\u001b[0;34m,\u001b[0m \u001b[0msnlp_heads\u001b[0m \u001b[0;34m=\u001b[0m \u001b[0mself\u001b[0m\u001b[0;34m.\u001b[0m\u001b[0mget_tokens_with_heads\u001b[0m\u001b[0;34m(\u001b[0m\u001b[0msnlp_doc\u001b[0m\u001b[0;34m)\u001b[0m\u001b[0;34m\u001b[0m\u001b[0;34m\u001b[0m\u001b[0m\n",
      "\u001b[0;32m~/anaconda3/envs/nlp/lib/python3.8/site-packages/stanza/pipeline/core.py\u001b[0m in \u001b[0;36m__call__\u001b[0;34m(self, doc)\u001b[0m\n\u001b[1;32m    229\u001b[0m         assert any([isinstance(doc, str), isinstance(doc, list),\n\u001b[1;32m    230\u001b[0m                     isinstance(doc, Document)]), 'input should be either str, list or Document'\n\u001b[0;32m--> 231\u001b[0;31m         \u001b[0mdoc\u001b[0m \u001b[0;34m=\u001b[0m \u001b[0mself\u001b[0m\u001b[0;34m.\u001b[0m\u001b[0mprocess\u001b[0m\u001b[0;34m(\u001b[0m\u001b[0mdoc\u001b[0m\u001b[0;34m)\u001b[0m\u001b[0;34m\u001b[0m\u001b[0;34m\u001b[0m\u001b[0m\n\u001b[0m\u001b[1;32m    232\u001b[0m         \u001b[0;32mreturn\u001b[0m \u001b[0mdoc\u001b[0m\u001b[0;34m\u001b[0m\u001b[0;34m\u001b[0m\u001b[0m\n\u001b[1;32m    233\u001b[0m \u001b[0;34m\u001b[0m\u001b[0m\n",
      "\u001b[0;32m~/anaconda3/envs/nlp/lib/python3.8/site-packages/stanza/pipeline/core.py\u001b[0m in \u001b[0;36mprocess\u001b[0;34m(self, doc)\u001b[0m\n\u001b[1;32m    223\u001b[0m             \u001b[0;32mif\u001b[0m \u001b[0mself\u001b[0m\u001b[0;34m.\u001b[0m\u001b[0mprocessors\u001b[0m\u001b[0;34m.\u001b[0m\u001b[0mget\u001b[0m\u001b[0;34m(\u001b[0m\u001b[0mprocessor_name\u001b[0m\u001b[0;34m)\u001b[0m\u001b[0;34m:\u001b[0m\u001b[0;34m\u001b[0m\u001b[0;34m\u001b[0m\u001b[0m\n\u001b[1;32m    224\u001b[0m                 \u001b[0mprocess\u001b[0m \u001b[0;34m=\u001b[0m \u001b[0mself\u001b[0m\u001b[0;34m.\u001b[0m\u001b[0mprocessors\u001b[0m\u001b[0;34m[\u001b[0m\u001b[0mprocessor_name\u001b[0m\u001b[0;34m]\u001b[0m\u001b[0;34m.\u001b[0m\u001b[0mbulk_process\u001b[0m \u001b[0;32mif\u001b[0m \u001b[0mbulk\u001b[0m \u001b[0;32melse\u001b[0m \u001b[0mself\u001b[0m\u001b[0;34m.\u001b[0m\u001b[0mprocessors\u001b[0m\u001b[0;34m[\u001b[0m\u001b[0mprocessor_name\u001b[0m\u001b[0;34m]\u001b[0m\u001b[0;34m.\u001b[0m\u001b[0mprocess\u001b[0m\u001b[0;34m\u001b[0m\u001b[0;34m\u001b[0m\u001b[0m\n\u001b[0;32m--> 225\u001b[0;31m                 \u001b[0mdoc\u001b[0m \u001b[0;34m=\u001b[0m \u001b[0mprocess\u001b[0m\u001b[0;34m(\u001b[0m\u001b[0mdoc\u001b[0m\u001b[0;34m)\u001b[0m\u001b[0;34m\u001b[0m\u001b[0;34m\u001b[0m\u001b[0m\n\u001b[0m\u001b[1;32m    226\u001b[0m         \u001b[0;32mreturn\u001b[0m \u001b[0mdoc\u001b[0m\u001b[0;34m\u001b[0m\u001b[0;34m\u001b[0m\u001b[0m\n\u001b[1;32m    227\u001b[0m \u001b[0;34m\u001b[0m\u001b[0m\n",
      "\u001b[0;32m~/anaconda3/envs/nlp/lib/python3.8/site-packages/stanza/pipeline/ner_processor.py\u001b[0m in \u001b[0;36mprocess\u001b[0;34m(self, document)\u001b[0m\n\u001b[1;32m     33\u001b[0m         \u001b[0mpreds\u001b[0m \u001b[0;34m=\u001b[0m \u001b[0;34m[\u001b[0m\u001b[0;34m]\u001b[0m\u001b[0;34m\u001b[0m\u001b[0;34m\u001b[0m\u001b[0m\n\u001b[1;32m     34\u001b[0m         \u001b[0;32mfor\u001b[0m \u001b[0mi\u001b[0m\u001b[0;34m,\u001b[0m \u001b[0mb\u001b[0m \u001b[0;32min\u001b[0m \u001b[0menumerate\u001b[0m\u001b[0;34m(\u001b[0m\u001b[0mbatch\u001b[0m\u001b[0;34m)\u001b[0m\u001b[0;34m:\u001b[0m\u001b[0;34m\u001b[0m\u001b[0;34m\u001b[0m\u001b[0m\n\u001b[0;32m---> 35\u001b[0;31m             \u001b[0mpreds\u001b[0m \u001b[0;34m+=\u001b[0m \u001b[0mself\u001b[0m\u001b[0;34m.\u001b[0m\u001b[0mtrainer\u001b[0m\u001b[0;34m.\u001b[0m\u001b[0mpredict\u001b[0m\u001b[0;34m(\u001b[0m\u001b[0mb\u001b[0m\u001b[0;34m)\u001b[0m\u001b[0;34m\u001b[0m\u001b[0;34m\u001b[0m\u001b[0m\n\u001b[0m\u001b[1;32m     36\u001b[0m         \u001b[0mbatch\u001b[0m\u001b[0;34m.\u001b[0m\u001b[0mdoc\u001b[0m\u001b[0;34m.\u001b[0m\u001b[0mset\u001b[0m\u001b[0;34m(\u001b[0m\u001b[0;34m[\u001b[0m\u001b[0mdoc\u001b[0m\u001b[0;34m.\u001b[0m\u001b[0mNER\u001b[0m\u001b[0;34m]\u001b[0m\u001b[0;34m,\u001b[0m \u001b[0;34m[\u001b[0m\u001b[0my\u001b[0m \u001b[0;32mfor\u001b[0m \u001b[0mx\u001b[0m \u001b[0;32min\u001b[0m \u001b[0mpreds\u001b[0m \u001b[0;32mfor\u001b[0m \u001b[0my\u001b[0m \u001b[0;32min\u001b[0m \u001b[0mx\u001b[0m\u001b[0;34m]\u001b[0m\u001b[0;34m,\u001b[0m \u001b[0mto_token\u001b[0m\u001b[0;34m=\u001b[0m\u001b[0;32mTrue\u001b[0m\u001b[0;34m)\u001b[0m\u001b[0;34m\u001b[0m\u001b[0;34m\u001b[0m\u001b[0m\n\u001b[1;32m     37\u001b[0m         \u001b[0;31m# collect entities into document attribute\u001b[0m\u001b[0;34m\u001b[0m\u001b[0;34m\u001b[0m\u001b[0;34m\u001b[0m\u001b[0m\n",
      "\u001b[0;32m~/anaconda3/envs/nlp/lib/python3.8/site-packages/stanza/models/ner/trainer.py\u001b[0m in \u001b[0;36mpredict\u001b[0;34m(self, batch, unsort)\u001b[0m\n\u001b[1;32m     96\u001b[0m         \u001b[0mself\u001b[0m\u001b[0;34m.\u001b[0m\u001b[0mmodel\u001b[0m\u001b[0;34m.\u001b[0m\u001b[0meval\u001b[0m\u001b[0;34m(\u001b[0m\u001b[0;34m)\u001b[0m\u001b[0;34m\u001b[0m\u001b[0;34m\u001b[0m\u001b[0m\n\u001b[1;32m     97\u001b[0m         \u001b[0mbatch_size\u001b[0m \u001b[0;34m=\u001b[0m \u001b[0mword\u001b[0m\u001b[0;34m.\u001b[0m\u001b[0msize\u001b[0m\u001b[0;34m(\u001b[0m\u001b[0;36m0\u001b[0m\u001b[0;34m)\u001b[0m\u001b[0;34m\u001b[0m\u001b[0;34m\u001b[0m\u001b[0m\n\u001b[0;32m---> 98\u001b[0;31m         \u001b[0m_\u001b[0m\u001b[0;34m,\u001b[0m \u001b[0mlogits\u001b[0m\u001b[0;34m,\u001b[0m \u001b[0mtrans\u001b[0m \u001b[0;34m=\u001b[0m \u001b[0mself\u001b[0m\u001b[0;34m.\u001b[0m\u001b[0mmodel\u001b[0m\u001b[0;34m(\u001b[0m\u001b[0mword\u001b[0m\u001b[0;34m,\u001b[0m \u001b[0mword_mask\u001b[0m\u001b[0;34m,\u001b[0m \u001b[0mwordchars\u001b[0m\u001b[0;34m,\u001b[0m \u001b[0mwordchars_mask\u001b[0m\u001b[0;34m,\u001b[0m \u001b[0mtags\u001b[0m\u001b[0;34m,\u001b[0m \u001b[0mword_orig_idx\u001b[0m\u001b[0;34m,\u001b[0m \u001b[0msentlens\u001b[0m\u001b[0;34m,\u001b[0m \u001b[0mwordlens\u001b[0m\u001b[0;34m,\u001b[0m \u001b[0mchars\u001b[0m\u001b[0;34m,\u001b[0m \u001b[0mcharoffsets\u001b[0m\u001b[0;34m,\u001b[0m \u001b[0mcharlens\u001b[0m\u001b[0;34m,\u001b[0m \u001b[0mchar_orig_idx\u001b[0m\u001b[0;34m)\u001b[0m\u001b[0;34m\u001b[0m\u001b[0;34m\u001b[0m\u001b[0m\n\u001b[0m\u001b[1;32m     99\u001b[0m \u001b[0;34m\u001b[0m\u001b[0m\n\u001b[1;32m    100\u001b[0m         \u001b[0;31m# decode\u001b[0m\u001b[0;34m\u001b[0m\u001b[0;34m\u001b[0m\u001b[0;34m\u001b[0m\u001b[0m\n",
      "\u001b[0;32m~/anaconda3/envs/nlp/lib/python3.8/site-packages/torch/nn/modules/module.py\u001b[0m in \u001b[0;36m_call_impl\u001b[0;34m(self, *input, **kwargs)\u001b[0m\n\u001b[1;32m   1100\u001b[0m         if not (self._backward_hooks or self._forward_hooks or self._forward_pre_hooks or _global_backward_hooks\n\u001b[1;32m   1101\u001b[0m                 or _global_forward_hooks or _global_forward_pre_hooks):\n\u001b[0;32m-> 1102\u001b[0;31m             \u001b[0;32mreturn\u001b[0m \u001b[0mforward_call\u001b[0m\u001b[0;34m(\u001b[0m\u001b[0;34m*\u001b[0m\u001b[0minput\u001b[0m\u001b[0;34m,\u001b[0m \u001b[0;34m**\u001b[0m\u001b[0mkwargs\u001b[0m\u001b[0;34m)\u001b[0m\u001b[0;34m\u001b[0m\u001b[0;34m\u001b[0m\u001b[0m\n\u001b[0m\u001b[1;32m   1103\u001b[0m         \u001b[0;31m# Do not call functions when jit is used\u001b[0m\u001b[0;34m\u001b[0m\u001b[0;34m\u001b[0m\u001b[0;34m\u001b[0m\u001b[0m\n\u001b[1;32m   1104\u001b[0m         \u001b[0mfull_backward_hooks\u001b[0m\u001b[0;34m,\u001b[0m \u001b[0mnon_full_backward_hooks\u001b[0m \u001b[0;34m=\u001b[0m \u001b[0;34m[\u001b[0m\u001b[0;34m]\u001b[0m\u001b[0;34m,\u001b[0m \u001b[0;34m[\u001b[0m\u001b[0;34m]\u001b[0m\u001b[0;34m\u001b[0m\u001b[0;34m\u001b[0m\u001b[0m\n",
      "\u001b[0;32m~/anaconda3/envs/nlp/lib/python3.8/site-packages/stanza/models/ner/model.py\u001b[0m in \u001b[0;36mforward\u001b[0;34m(self, word, word_mask, wordchars, wordchars_mask, tags, word_orig_idx, sentlens, wordlens, chars, charoffsets, charlens, char_orig_idx)\u001b[0m\n\u001b[1;32m     99\u001b[0m         \u001b[0;32mif\u001b[0m \u001b[0mself\u001b[0m\u001b[0;34m.\u001b[0m\u001b[0margs\u001b[0m\u001b[0;34m[\u001b[0m\u001b[0;34m'char'\u001b[0m\u001b[0;34m]\u001b[0m \u001b[0;32mand\u001b[0m \u001b[0mself\u001b[0m\u001b[0;34m.\u001b[0m\u001b[0margs\u001b[0m\u001b[0;34m[\u001b[0m\u001b[0;34m'char_emb_dim'\u001b[0m\u001b[0;34m]\u001b[0m \u001b[0;34m>\u001b[0m \u001b[0;36m0\u001b[0m\u001b[0;34m:\u001b[0m\u001b[0;34m\u001b[0m\u001b[0;34m\u001b[0m\u001b[0m\n\u001b[1;32m    100\u001b[0m             \u001b[0;32mif\u001b[0m \u001b[0mself\u001b[0m\u001b[0;34m.\u001b[0m\u001b[0margs\u001b[0m\u001b[0;34m.\u001b[0m\u001b[0mget\u001b[0m\u001b[0;34m(\u001b[0m\u001b[0;34m'charlm'\u001b[0m\u001b[0;34m,\u001b[0m \u001b[0;32mNone\u001b[0m\u001b[0;34m)\u001b[0m\u001b[0;34m:\u001b[0m\u001b[0;34m\u001b[0m\u001b[0;34m\u001b[0m\u001b[0m\n\u001b[0;32m--> 101\u001b[0;31m                 \u001b[0mchar_reps_forward\u001b[0m \u001b[0;34m=\u001b[0m \u001b[0mself\u001b[0m\u001b[0;34m.\u001b[0m\u001b[0mcharmodel_forward\u001b[0m\u001b[0;34m.\u001b[0m\u001b[0mget_representation\u001b[0m\u001b[0;34m(\u001b[0m\u001b[0mchars\u001b[0m\u001b[0;34m[\u001b[0m\u001b[0;36m0\u001b[0m\u001b[0;34m]\u001b[0m\u001b[0;34m,\u001b[0m \u001b[0mcharoffsets\u001b[0m\u001b[0;34m[\u001b[0m\u001b[0;36m0\u001b[0m\u001b[0;34m]\u001b[0m\u001b[0;34m,\u001b[0m \u001b[0mcharlens\u001b[0m\u001b[0;34m,\u001b[0m \u001b[0mchar_orig_idx\u001b[0m\u001b[0;34m)\u001b[0m\u001b[0;34m\u001b[0m\u001b[0;34m\u001b[0m\u001b[0m\n\u001b[0m\u001b[1;32m    102\u001b[0m                 \u001b[0mchar_reps_forward\u001b[0m \u001b[0;34m=\u001b[0m \u001b[0mPackedSequence\u001b[0m\u001b[0;34m(\u001b[0m\u001b[0mchar_reps_forward\u001b[0m\u001b[0;34m.\u001b[0m\u001b[0mdata\u001b[0m\u001b[0;34m,\u001b[0m \u001b[0mchar_reps_forward\u001b[0m\u001b[0;34m.\u001b[0m\u001b[0mbatch_sizes\u001b[0m\u001b[0;34m)\u001b[0m\u001b[0;34m\u001b[0m\u001b[0;34m\u001b[0m\u001b[0m\n\u001b[1;32m    103\u001b[0m                 \u001b[0mchar_reps_backward\u001b[0m \u001b[0;34m=\u001b[0m \u001b[0mself\u001b[0m\u001b[0;34m.\u001b[0m\u001b[0mcharmodel_backward\u001b[0m\u001b[0;34m.\u001b[0m\u001b[0mget_representation\u001b[0m\u001b[0;34m(\u001b[0m\u001b[0mchars\u001b[0m\u001b[0;34m[\u001b[0m\u001b[0;36m1\u001b[0m\u001b[0;34m]\u001b[0m\u001b[0;34m,\u001b[0m \u001b[0mcharoffsets\u001b[0m\u001b[0;34m[\u001b[0m\u001b[0;36m1\u001b[0m\u001b[0;34m]\u001b[0m\u001b[0;34m,\u001b[0m \u001b[0mcharlens\u001b[0m\u001b[0;34m,\u001b[0m \u001b[0mchar_orig_idx\u001b[0m\u001b[0;34m)\u001b[0m\u001b[0;34m\u001b[0m\u001b[0;34m\u001b[0m\u001b[0m\n",
      "\u001b[0;32m~/anaconda3/envs/nlp/lib/python3.8/site-packages/stanza/models/common/char_model.py\u001b[0m in \u001b[0;36mget_representation\u001b[0;34m(self, chars, charoffsets, charlens, char_orig_idx)\u001b[0m\n\u001b[1;32m     96\u001b[0m     \u001b[0;32mdef\u001b[0m \u001b[0mget_representation\u001b[0m\u001b[0;34m(\u001b[0m\u001b[0mself\u001b[0m\u001b[0;34m,\u001b[0m \u001b[0mchars\u001b[0m\u001b[0;34m,\u001b[0m \u001b[0mcharoffsets\u001b[0m\u001b[0;34m,\u001b[0m \u001b[0mcharlens\u001b[0m\u001b[0;34m,\u001b[0m \u001b[0mchar_orig_idx\u001b[0m\u001b[0;34m)\u001b[0m\u001b[0;34m:\u001b[0m\u001b[0;34m\u001b[0m\u001b[0;34m\u001b[0m\u001b[0m\n\u001b[1;32m     97\u001b[0m         \u001b[0;32mwith\u001b[0m \u001b[0mtorch\u001b[0m\u001b[0;34m.\u001b[0m\u001b[0mno_grad\u001b[0m\u001b[0;34m(\u001b[0m\u001b[0;34m)\u001b[0m\u001b[0;34m:\u001b[0m\u001b[0;34m\u001b[0m\u001b[0;34m\u001b[0m\u001b[0m\n\u001b[0;32m---> 98\u001b[0;31m             \u001b[0moutput\u001b[0m\u001b[0;34m,\u001b[0m \u001b[0m_\u001b[0m\u001b[0;34m,\u001b[0m \u001b[0m_\u001b[0m \u001b[0;34m=\u001b[0m \u001b[0mself\u001b[0m\u001b[0;34m.\u001b[0m\u001b[0mforward\u001b[0m\u001b[0;34m(\u001b[0m\u001b[0mchars\u001b[0m\u001b[0;34m,\u001b[0m \u001b[0mcharlens\u001b[0m\u001b[0;34m)\u001b[0m\u001b[0;34m\u001b[0m\u001b[0;34m\u001b[0m\u001b[0m\n\u001b[0m\u001b[1;32m     99\u001b[0m             \u001b[0mres\u001b[0m \u001b[0;34m=\u001b[0m \u001b[0;34m[\u001b[0m\u001b[0moutput\u001b[0m\u001b[0;34m[\u001b[0m\u001b[0mi\u001b[0m\u001b[0;34m,\u001b[0m \u001b[0moffsets\u001b[0m\u001b[0;34m]\u001b[0m \u001b[0;32mfor\u001b[0m \u001b[0mi\u001b[0m\u001b[0;34m,\u001b[0m \u001b[0moffsets\u001b[0m \u001b[0;32min\u001b[0m \u001b[0menumerate\u001b[0m\u001b[0;34m(\u001b[0m\u001b[0mcharoffsets\u001b[0m\u001b[0;34m)\u001b[0m\u001b[0;34m]\u001b[0m\u001b[0;34m\u001b[0m\u001b[0;34m\u001b[0m\u001b[0m\n\u001b[1;32m    100\u001b[0m             \u001b[0mres\u001b[0m \u001b[0;34m=\u001b[0m \u001b[0munsort\u001b[0m\u001b[0;34m(\u001b[0m\u001b[0mres\u001b[0m\u001b[0;34m,\u001b[0m \u001b[0mchar_orig_idx\u001b[0m\u001b[0;34m)\u001b[0m\u001b[0;34m\u001b[0m\u001b[0;34m\u001b[0m\u001b[0m\n",
      "\u001b[0;32m~/anaconda3/envs/nlp/lib/python3.8/site-packages/stanza/models/common/char_model.py\u001b[0m in \u001b[0;36mforward\u001b[0;34m(self, chars, charlens, hidden)\u001b[0m\n\u001b[1;32m     89\u001b[0m             hidden = (self.charlstm_h_init.expand(self.args['char_num_layers'], batch_size, self.args['char_hidden_dim']).contiguous(),\n\u001b[1;32m     90\u001b[0m                       self.charlstm_c_init.expand(self.args['char_num_layers'], batch_size, self.args['char_hidden_dim']).contiguous())\n\u001b[0;32m---> 91\u001b[0;31m         \u001b[0moutput\u001b[0m\u001b[0;34m,\u001b[0m \u001b[0mhidden\u001b[0m \u001b[0;34m=\u001b[0m \u001b[0mself\u001b[0m\u001b[0;34m.\u001b[0m\u001b[0mcharlstm\u001b[0m\u001b[0;34m(\u001b[0m\u001b[0membs\u001b[0m\u001b[0;34m,\u001b[0m \u001b[0mcharlens\u001b[0m\u001b[0;34m,\u001b[0m \u001b[0mhx\u001b[0m\u001b[0;34m=\u001b[0m\u001b[0mhidden\u001b[0m\u001b[0;34m)\u001b[0m\u001b[0;34m\u001b[0m\u001b[0;34m\u001b[0m\u001b[0m\n\u001b[0m\u001b[1;32m     92\u001b[0m         \u001b[0moutput\u001b[0m \u001b[0;34m=\u001b[0m \u001b[0mself\u001b[0m\u001b[0;34m.\u001b[0m\u001b[0mdropout\u001b[0m\u001b[0;34m(\u001b[0m\u001b[0mpad_packed_sequence\u001b[0m\u001b[0;34m(\u001b[0m\u001b[0moutput\u001b[0m\u001b[0;34m,\u001b[0m \u001b[0mbatch_first\u001b[0m\u001b[0;34m=\u001b[0m\u001b[0;32mTrue\u001b[0m\u001b[0;34m)\u001b[0m\u001b[0;34m[\u001b[0m\u001b[0;36m0\u001b[0m\u001b[0;34m]\u001b[0m\u001b[0;34m)\u001b[0m\u001b[0;34m\u001b[0m\u001b[0;34m\u001b[0m\u001b[0m\n\u001b[1;32m     93\u001b[0m         \u001b[0mdecoded\u001b[0m \u001b[0;34m=\u001b[0m \u001b[0mself\u001b[0m\u001b[0;34m.\u001b[0m\u001b[0mdecoder\u001b[0m\u001b[0;34m(\u001b[0m\u001b[0moutput\u001b[0m\u001b[0;34m)\u001b[0m\u001b[0;34m\u001b[0m\u001b[0;34m\u001b[0m\u001b[0m\n",
      "\u001b[0;32m~/anaconda3/envs/nlp/lib/python3.8/site-packages/torch/nn/modules/module.py\u001b[0m in \u001b[0;36m_call_impl\u001b[0;34m(self, *input, **kwargs)\u001b[0m\n\u001b[1;32m   1100\u001b[0m         if not (self._backward_hooks or self._forward_hooks or self._forward_pre_hooks or _global_backward_hooks\n\u001b[1;32m   1101\u001b[0m                 or _global_forward_hooks or _global_forward_pre_hooks):\n\u001b[0;32m-> 1102\u001b[0;31m             \u001b[0;32mreturn\u001b[0m \u001b[0mforward_call\u001b[0m\u001b[0;34m(\u001b[0m\u001b[0;34m*\u001b[0m\u001b[0minput\u001b[0m\u001b[0;34m,\u001b[0m \u001b[0;34m**\u001b[0m\u001b[0mkwargs\u001b[0m\u001b[0;34m)\u001b[0m\u001b[0;34m\u001b[0m\u001b[0;34m\u001b[0m\u001b[0m\n\u001b[0m\u001b[1;32m   1103\u001b[0m         \u001b[0;31m# Do not call functions when jit is used\u001b[0m\u001b[0;34m\u001b[0m\u001b[0;34m\u001b[0m\u001b[0;34m\u001b[0m\u001b[0m\n\u001b[1;32m   1104\u001b[0m         \u001b[0mfull_backward_hooks\u001b[0m\u001b[0;34m,\u001b[0m \u001b[0mnon_full_backward_hooks\u001b[0m \u001b[0;34m=\u001b[0m \u001b[0;34m[\u001b[0m\u001b[0;34m]\u001b[0m\u001b[0;34m,\u001b[0m \u001b[0;34m[\u001b[0m\u001b[0;34m]\u001b[0m\u001b[0;34m\u001b[0m\u001b[0;34m\u001b[0m\u001b[0m\n",
      "\u001b[0;32m~/anaconda3/envs/nlp/lib/python3.8/site-packages/stanza/models/common/packed_lstm.py\u001b[0m in \u001b[0;36mforward\u001b[0;34m(self, input, lengths, hx)\u001b[0m\n\u001b[1;32m     20\u001b[0m             \u001b[0minput\u001b[0m \u001b[0;34m=\u001b[0m \u001b[0mpack_padded_sequence\u001b[0m\u001b[0;34m(\u001b[0m\u001b[0minput\u001b[0m\u001b[0;34m,\u001b[0m \u001b[0mlengths\u001b[0m\u001b[0;34m,\u001b[0m \u001b[0mbatch_first\u001b[0m\u001b[0;34m=\u001b[0m\u001b[0mself\u001b[0m\u001b[0;34m.\u001b[0m\u001b[0mbatch_first\u001b[0m\u001b[0;34m)\u001b[0m\u001b[0;34m\u001b[0m\u001b[0;34m\u001b[0m\u001b[0m\n\u001b[1;32m     21\u001b[0m \u001b[0;34m\u001b[0m\u001b[0m\n\u001b[0;32m---> 22\u001b[0;31m         \u001b[0mres\u001b[0m \u001b[0;34m=\u001b[0m \u001b[0mself\u001b[0m\u001b[0;34m.\u001b[0m\u001b[0mlstm\u001b[0m\u001b[0;34m(\u001b[0m\u001b[0minput\u001b[0m\u001b[0;34m,\u001b[0m \u001b[0mhx\u001b[0m\u001b[0;34m)\u001b[0m\u001b[0;34m\u001b[0m\u001b[0;34m\u001b[0m\u001b[0m\n\u001b[0m\u001b[1;32m     23\u001b[0m         \u001b[0;32mif\u001b[0m \u001b[0mself\u001b[0m\u001b[0;34m.\u001b[0m\u001b[0mpad\u001b[0m\u001b[0;34m:\u001b[0m\u001b[0;34m\u001b[0m\u001b[0;34m\u001b[0m\u001b[0m\n\u001b[1;32m     24\u001b[0m             \u001b[0mres\u001b[0m \u001b[0;34m=\u001b[0m \u001b[0;34m(\u001b[0m\u001b[0mpad_packed_sequence\u001b[0m\u001b[0;34m(\u001b[0m\u001b[0mres\u001b[0m\u001b[0;34m[\u001b[0m\u001b[0;36m0\u001b[0m\u001b[0;34m]\u001b[0m\u001b[0;34m,\u001b[0m \u001b[0mbatch_first\u001b[0m\u001b[0;34m=\u001b[0m\u001b[0mself\u001b[0m\u001b[0;34m.\u001b[0m\u001b[0mbatch_first\u001b[0m\u001b[0;34m)\u001b[0m\u001b[0;34m[\u001b[0m\u001b[0;36m0\u001b[0m\u001b[0;34m]\u001b[0m\u001b[0;34m,\u001b[0m \u001b[0mres\u001b[0m\u001b[0;34m[\u001b[0m\u001b[0;36m1\u001b[0m\u001b[0;34m]\u001b[0m\u001b[0;34m)\u001b[0m\u001b[0;34m\u001b[0m\u001b[0;34m\u001b[0m\u001b[0m\n",
      "\u001b[0;32m~/anaconda3/envs/nlp/lib/python3.8/site-packages/torch/nn/modules/module.py\u001b[0m in \u001b[0;36m_call_impl\u001b[0;34m(self, *input, **kwargs)\u001b[0m\n\u001b[1;32m   1100\u001b[0m         if not (self._backward_hooks or self._forward_hooks or self._forward_pre_hooks or _global_backward_hooks\n\u001b[1;32m   1101\u001b[0m                 or _global_forward_hooks or _global_forward_pre_hooks):\n\u001b[0;32m-> 1102\u001b[0;31m             \u001b[0;32mreturn\u001b[0m \u001b[0mforward_call\u001b[0m\u001b[0;34m(\u001b[0m\u001b[0;34m*\u001b[0m\u001b[0minput\u001b[0m\u001b[0;34m,\u001b[0m \u001b[0;34m**\u001b[0m\u001b[0mkwargs\u001b[0m\u001b[0;34m)\u001b[0m\u001b[0;34m\u001b[0m\u001b[0;34m\u001b[0m\u001b[0m\n\u001b[0m\u001b[1;32m   1103\u001b[0m         \u001b[0;31m# Do not call functions when jit is used\u001b[0m\u001b[0;34m\u001b[0m\u001b[0;34m\u001b[0m\u001b[0;34m\u001b[0m\u001b[0m\n\u001b[1;32m   1104\u001b[0m         \u001b[0mfull_backward_hooks\u001b[0m\u001b[0;34m,\u001b[0m \u001b[0mnon_full_backward_hooks\u001b[0m \u001b[0;34m=\u001b[0m \u001b[0;34m[\u001b[0m\u001b[0;34m]\u001b[0m\u001b[0;34m,\u001b[0m \u001b[0;34m[\u001b[0m\u001b[0;34m]\u001b[0m\u001b[0;34m\u001b[0m\u001b[0;34m\u001b[0m\u001b[0m\n",
      "\u001b[0;32m~/anaconda3/envs/nlp/lib/python3.8/site-packages/torch/nn/modules/rnn.py\u001b[0m in \u001b[0;36mforward\u001b[0;34m(self, input, hx)\u001b[0m\n\u001b[1;32m    692\u001b[0m                               self.dropout, self.training, self.bidirectional, self.batch_first)\n\u001b[1;32m    693\u001b[0m         \u001b[0;32melse\u001b[0m\u001b[0;34m:\u001b[0m\u001b[0;34m\u001b[0m\u001b[0;34m\u001b[0m\u001b[0m\n\u001b[0;32m--> 694\u001b[0;31m             result = _VF.lstm(input, batch_sizes, hx, self._flat_weights, self.bias,\n\u001b[0m\u001b[1;32m    695\u001b[0m                               self.num_layers, self.dropout, self.training, self.bidirectional)\n\u001b[1;32m    696\u001b[0m         \u001b[0moutput\u001b[0m \u001b[0;34m=\u001b[0m \u001b[0mresult\u001b[0m\u001b[0;34m[\u001b[0m\u001b[0;36m0\u001b[0m\u001b[0;34m]\u001b[0m\u001b[0;34m\u001b[0m\u001b[0;34m\u001b[0m\u001b[0m\n",
      "\u001b[0;31mKeyboardInterrupt\u001b[0m: "
     ]
    }
   ],
   "source": [
    "train_df = column_regularize(train_df)\n",
    "test_df = column_regularize(test_df)\n",
    "\n",
    "train_df['phraselist'] = train_df.revcontent.swifter.apply(lambda x: phraser(x))\n",
    "test_df['phraselist'] = test_df.revcontent.swifter.apply(lambda x: phraser(x))\n",
    "\n",
    "#train_df['phraselist'] = train_df.phraselist.swifter.apply(lambda x: [x_[1:-1] for x_ in x.strip('][').split(', ')])\n",
    "#test_df['phraselist'] = test_df.phraselist.swifter.apply(lambda x: [x_[1:-1] for x_ in x.strip('][').split(', ')])\n",
    "\n",
    "train_df['phraselist'] = train_df.phraselist.swifter.apply(lambda x: [x_ for x_ in x if len(x_.strip().split(' ')) == 2])\n",
    "test_df['phraselist'] = test_df.phraselist.swifter.apply(lambda x: [x_ for x_ in x if len(x_.strip().split(' ')) == 2])\n",
    "\n",
    "train_df['phraselist'] = train_df.phraselist.swifter.apply(lambda x: func(x))\n",
    "test_df['phraselist'] = test_df.phraselist.swifter.apply(lambda x: func(x))\n",
    "\n",
    "train_df['phraselist'] = train_df.phraselist.swifter.apply(lambda x: joiner(x))\n",
    "test_df['phraselist'] = test_df.phraselist.swifter.apply(lambda x: joiner(x))\n",
    "\n",
    "train_df = train_df.reset_index()\n",
    "test_df = test_df.reset_index()"
   ]
  },
  {
   "cell_type": "code",
   "execution_count": 5,
   "id": "7a54f9a1-02f2-4e38-8412-c149e902add1",
   "metadata": {
    "execution": {
     "iopub.execute_input": "2022-03-01T11:51:26.413874Z",
     "iopub.status.busy": "2022-03-01T11:51:26.413700Z",
     "iopub.status.idle": "2022-03-01T11:51:26.546624Z",
     "shell.execute_reply": "2022-03-01T11:51:26.546098Z",
     "shell.execute_reply.started": "2022-03-01T11:51:26.413855Z"
    },
    "tags": []
   },
   "outputs": [],
   "source": [
    "def text_builder(df):\n",
    "    df = df.rename(columns = {'content': 'rev_content'})\n",
    "    return df\n",
    "df = pd.read_json('yulu.gplay.json').reset_index()\n",
    "df = text_builder(df)[['index', 'rev_content']]"
   ]
  },
  {
   "cell_type": "code",
   "execution_count": 6,
   "id": "60eed98d-448a-4842-a047-afbc2a290024",
   "metadata": {
    "execution": {
     "iopub.execute_input": "2022-03-01T11:51:26.547475Z",
     "iopub.status.busy": "2022-03-01T11:51:26.547331Z",
     "iopub.status.idle": "2022-03-01T11:51:26.571656Z",
     "shell.execute_reply": "2022-03-01T11:51:26.571185Z",
     "shell.execute_reply.started": "2022-03-01T11:51:26.547459Z"
    },
    "tags": []
   },
   "outputs": [],
   "source": [
    "df1 = pd.read_csv('train.csv').rename(columns = {'Id': 'index', 'Review': 'rev_content'})[['index', 'rev_content']]\n",
    "df2 = pd.read_csv('test.csv').rename(columns = {'Id': 'index', 'Review': 'rev_content'})[['index', 'rev_content']]"
   ]
  },
  {
   "cell_type": "code",
   "execution_count": 7,
   "id": "1ca78101-065e-40f1-8bbd-b7f6b37ddfdd",
   "metadata": {
    "execution": {
     "iopub.execute_input": "2022-03-01T11:51:26.572331Z",
     "iopub.status.busy": "2022-03-01T11:51:26.572223Z",
     "iopub.status.idle": "2022-03-01T11:51:26.577313Z",
     "shell.execute_reply": "2022-03-01T11:51:26.576852Z",
     "shell.execute_reply.started": "2022-03-01T11:51:26.572312Z"
    },
    "tags": []
   },
   "outputs": [],
   "source": [
    "df = pd.concat([df, df1, df2], axis=0)\n",
    "df = column_regularize(df)"
   ]
  },
  {
   "cell_type": "code",
   "execution_count": 8,
   "id": "0b0da64f-f9e4-4b95-995f-30944c889147",
   "metadata": {
    "execution": {
     "iopub.execute_input": "2022-03-01T11:51:26.578215Z",
     "iopub.status.busy": "2022-03-01T11:51:26.578060Z",
     "iopub.status.idle": "2022-03-01T11:51:26.581711Z",
     "shell.execute_reply": "2022-03-01T11:51:26.581360Z",
     "shell.execute_reply.started": "2022-03-01T11:51:26.578201Z"
    },
    "tags": []
   },
   "outputs": [
    {
     "data": {
      "text/plain": [
       "Index(['index', 'revcontent'], dtype='object')"
      ]
     },
     "execution_count": 8,
     "metadata": {},
     "output_type": "execute_result"
    }
   ],
   "source": [
    "df.columns"
   ]
  },
  {
   "cell_type": "code",
   "execution_count": 9,
   "id": "2c7ccd96-3787-422e-b435-632a837f2fbf",
   "metadata": {
    "execution": {
     "iopub.execute_input": "2022-03-01T11:51:26.582224Z",
     "iopub.status.busy": "2022-03-01T11:51:26.582128Z",
     "iopub.status.idle": "2022-03-01T11:51:26.586488Z",
     "shell.execute_reply": "2022-03-01T11:51:26.586096Z",
     "shell.execute_reply.started": "2022-03-01T11:51:26.582211Z"
    },
    "tags": []
   },
   "outputs": [],
   "source": [
    "min_train = min(train_df['index'])\n",
    "train_df['index'] = train_df['index'].apply(lambda x: x - min_train)\n",
    "\n",
    "min_test = min(test_df['index'])\n",
    "test_df['index'] = test_df['index'].apply(lambda x: x - min_test)"
   ]
  },
  {
   "cell_type": "code",
   "execution_count": 10,
   "id": "ab31e37f-9a2f-4eab-b230-5a3a99325caf",
   "metadata": {
    "execution": {
     "iopub.execute_input": "2022-03-01T11:51:26.586982Z",
     "iopub.status.busy": "2022-03-01T11:51:26.586884Z",
     "iopub.status.idle": "2022-03-01T11:51:26.589620Z",
     "shell.execute_reply": "2022-03-01T11:51:26.589230Z",
     "shell.execute_reply.started": "2022-03-01T11:51:26.586968Z"
    },
    "tags": []
   },
   "outputs": [],
   "source": [
    "#train_df"
   ]
  },
  {
   "cell_type": "code",
   "execution_count": 11,
   "id": "40adeb9c-e02b-4dd3-8cfb-77bb365eddde",
   "metadata": {
    "execution": {
     "iopub.execute_input": "2022-03-01T11:51:26.590140Z",
     "iopub.status.busy": "2022-03-01T11:51:26.590035Z",
     "iopub.status.idle": "2022-03-01T11:51:26.602566Z",
     "shell.execute_reply": "2022-03-01T11:51:26.602091Z",
     "shell.execute_reply.started": "2022-03-01T11:51:26.590127Z"
    },
    "tags": []
   },
   "outputs": [],
   "source": [
    "def str2num(x):\n",
    "    if x:\n",
    "        return 1\n",
    "    else:\n",
    "        return 0\n",
    "\n",
    "for col in train_df.columns[2:-1]:\n",
    "    train_df[col] = train_df[col].apply(lambda x: str2num(x))\n",
    "    test_df[col] = test_df[col].apply(lambda x: str2num(x))"
   ]
  },
  {
   "cell_type": "code",
   "execution_count": 12,
   "id": "445489b1-452d-4eba-973b-8a1f1c8faed1",
   "metadata": {
    "execution": {
     "iopub.execute_input": "2022-03-01T11:51:26.604113Z",
     "iopub.status.busy": "2022-03-01T11:51:26.603996Z",
     "iopub.status.idle": "2022-03-01T11:51:38.990052Z",
     "shell.execute_reply": "2022-03-01T11:51:38.989547Z",
     "shell.execute_reply.started": "2022-03-01T11:51:26.604098Z"
    },
    "tags": []
   },
   "outputs": [
    {
     "data": {
      "text/html": [],
      "text/plain": [
       "<IPython.core.display.HTML object>"
      ]
     },
     "metadata": {},
     "output_type": "display_data"
    },
    {
     "data": {
      "text/plain": [
       "6088"
      ]
     },
     "execution_count": 12,
     "metadata": {},
     "output_type": "execute_result"
    }
   ],
   "source": [
    "dls_lm = TextDataLoaders.from_df(\n",
    "    df,\n",
    "    text_col = 'revcontent',\n",
    "    valid_pct = .2,\n",
    "    is_lm = True,\n",
    "    seq_len = 72,\n",
    "    bs = 64\n",
    ")\n",
    "dls_blk = DataBlock(\n",
    "    blocks = (\n",
    "        TextBlock.from_df(\n",
    "            text_cols = 'revcontent', \n",
    "            seq_len = 128, \n",
    "            vocab = dls_lm.vocab\n",
    "        ),\n",
    "        MultiCategoryBlock\n",
    "    ),\n",
    "    get_x = ColReader(\n",
    "        cols = 'text'\n",
    "    ),\n",
    "    get_y = ColReader(\n",
    "        cols = 'Labels', \n",
    "        label_delim = \";\"\n",
    "    ),\n",
    "    splitter = TrainTestSplitter(\n",
    "        test_size = 0.2, \n",
    "        random_state = 42\n",
    "    )\n",
    ")\n",
    "\n",
    "len(dls_lm.vocab)"
   ]
  },
  {
   "cell_type": "code",
   "execution_count": 13,
   "id": "17691b9c-e673-4e03-a18e-19070bbac8bb",
   "metadata": {
    "execution": {
     "iopub.execute_input": "2022-03-01T11:51:38.990790Z",
     "iopub.status.busy": "2022-03-01T11:51:38.990659Z",
     "iopub.status.idle": "2022-03-01T11:51:39.239672Z",
     "shell.execute_reply": "2022-03-01T11:51:39.239344Z",
     "shell.execute_reply.started": "2022-03-01T11:51:38.990764Z"
    },
    "tags": []
   },
   "outputs": [],
   "source": [
    "learn = language_model_learner(\n",
    "    dls_lm, \n",
    "    AWD_LSTM,\n",
    "    drop_mult = .3,\n",
    "    metrics = [\n",
    "        accuracy, \n",
    "        #accuracy_multi,\n",
    "        Perplexity()\n",
    "    ]\n",
    ").to_fp16()"
   ]
  },
  {
   "cell_type": "code",
   "execution_count": 14,
   "id": "820ad5db-dbb4-40bc-a61d-9e19fe295992",
   "metadata": {
    "execution": {
     "iopub.execute_input": "2022-03-01T11:51:39.240554Z",
     "iopub.status.busy": "2022-03-01T11:51:39.240241Z",
     "iopub.status.idle": "2022-03-01T11:51:54.232420Z",
     "shell.execute_reply": "2022-03-01T11:51:54.232048Z",
     "shell.execute_reply.started": "2022-03-01T11:51:39.240533Z"
    },
    "tags": []
   },
   "outputs": [
    {
     "data": {
      "text/html": [],
      "text/plain": [
       "<IPython.core.display.HTML object>"
      ]
     },
     "metadata": {},
     "output_type": "display_data"
    },
    {
     "data": {
      "image/png": "[encoded data removed]",
      "text/plain": [
       "<Figure size 432x288 with 1 Axes>"
      ]
     },
     "metadata": {
      "needs_background": "light"
     },
     "output_type": "display_data"
    }
   ],
   "source": [
    "learn_lr = learn.lr_find().valley"
   ]
  },
  {
   "cell_type": "code",
   "execution_count": 15,
   "id": "34484ffe-d978-44a0-980c-038b5a38f2a6",
   "metadata": {
    "execution": {
     "iopub.execute_input": "2022-03-01T11:51:54.233224Z",
     "iopub.status.busy": "2022-03-01T11:51:54.233105Z",
     "iopub.status.idle": "2022-03-01T11:52:14.855620Z",
     "shell.execute_reply": "2022-03-01T11:52:14.855146Z",
     "shell.execute_reply.started": "2022-03-01T11:51:54.233211Z"
    },
    "tags": []
   },
   "outputs": [
    {
     "data": {
      "text/html": [
       "<table border=\"1\" class=\"dataframe\">\n",
       "  <thead>\n",
       "    <tr style=\"text-align: left;\">\n",
       "      <th>epoch</th>\n",
       "      <th>train_loss</th>\n",
       "      <th>valid_loss</th>\n",
       "      <th>accuracy</th>\n",
       "      <th>perplexity</th>\n",
       "      <th>time</th>\n",
       "    </tr>\n",
       "  </thead>\n",
       "  <tbody>\n",
       "    <tr>\n",
       "      <td>0</td>\n",
       "      <td>4.482480</td>\n",
       "      <td>4.238575</td>\n",
       "      <td>0.244693</td>\n",
       "      <td>69.309052</td>\n",
       "      <td>00:20</td>\n",
       "    </tr>\n",
       "  </tbody>\n",
       "</table>"
      ],
      "text/plain": [
       "<IPython.core.display.HTML object>"
      ]
     },
     "metadata": {},
     "output_type": "display_data"
    }
   ],
   "source": [
    "learn.fit_one_cycle(1, learn_lr)"
   ]
  },
  {
   "cell_type": "code",
   "execution_count": 16,
   "id": "df7062ba-44da-437e-add0-1234dc1353a5",
   "metadata": {
    "execution": {
     "iopub.execute_input": "2022-03-01T11:52:14.856393Z",
     "iopub.status.busy": "2022-03-01T11:52:14.856203Z",
     "iopub.status.idle": "2022-03-01T11:52:14.974587Z",
     "shell.execute_reply": "2022-03-01T11:52:14.974089Z",
     "shell.execute_reply.started": "2022-03-01T11:52:14.856358Z"
    },
    "tags": []
   },
   "outputs": [],
   "source": [
    "learn.save_encoder('encoder_v0')"
   ]
  },
  {
   "cell_type": "code",
   "execution_count": 17,
   "id": "afe6862c-d4c8-407e-b074-3797c0440b24",
   "metadata": {
    "execution": {
     "iopub.execute_input": "2022-03-01T11:52:14.975106Z",
     "iopub.status.busy": "2022-03-01T11:52:14.975011Z",
     "iopub.status.idle": "2022-03-01T11:55:17.983245Z",
     "shell.execute_reply": "2022-03-01T11:55:17.982885Z",
     "shell.execute_reply.started": "2022-03-01T11:52:14.975093Z"
    },
    "tags": []
   },
   "outputs": [
    {
     "data": {
      "text/html": [
       "<table border=\"1\" class=\"dataframe\">\n",
       "  <thead>\n",
       "    <tr style=\"text-align: left;\">\n",
       "      <th>epoch</th>\n",
       "      <th>train_loss</th>\n",
       "      <th>valid_loss</th>\n",
       "      <th>accuracy</th>\n",
       "      <th>perplexity</th>\n",
       "      <th>time</th>\n",
       "    </tr>\n",
       "  </thead>\n",
       "  <tbody>\n",
       "    <tr>\n",
       "      <td>0</td>\n",
       "      <td>4.023570</td>\n",
       "      <td>3.982139</td>\n",
       "      <td>0.269224</td>\n",
       "      <td>53.631622</td>\n",
       "      <td>00:22</td>\n",
       "    </tr>\n",
       "    <tr>\n",
       "      <td>1</td>\n",
       "      <td>3.902814</td>\n",
       "      <td>3.904398</td>\n",
       "      <td>0.278328</td>\n",
       "      <td>49.620186</td>\n",
       "      <td>00:23</td>\n",
       "    </tr>\n",
       "    <tr>\n",
       "      <td>2</td>\n",
       "      <td>3.789955</td>\n",
       "      <td>3.845906</td>\n",
       "      <td>0.284218</td>\n",
       "      <td>46.801067</td>\n",
       "      <td>00:22</td>\n",
       "    </tr>\n",
       "    <tr>\n",
       "      <td>3</td>\n",
       "      <td>3.689545</td>\n",
       "      <td>3.803205</td>\n",
       "      <td>0.287499</td>\n",
       "      <td>44.844662</td>\n",
       "      <td>00:23</td>\n",
       "    </tr>\n",
       "    <tr>\n",
       "      <td>4</td>\n",
       "      <td>3.583824</td>\n",
       "      <td>3.777351</td>\n",
       "      <td>0.289189</td>\n",
       "      <td>43.700142</td>\n",
       "      <td>00:22</td>\n",
       "    </tr>\n",
       "    <tr>\n",
       "      <td>5</td>\n",
       "      <td>3.460791</td>\n",
       "      <td>3.772207</td>\n",
       "      <td>0.289305</td>\n",
       "      <td>43.475910</td>\n",
       "      <td>00:22</td>\n",
       "    </tr>\n",
       "    <tr>\n",
       "      <td>6</td>\n",
       "      <td>3.321266</td>\n",
       "      <td>3.788089</td>\n",
       "      <td>0.288513</td>\n",
       "      <td>44.171909</td>\n",
       "      <td>00:22</td>\n",
       "    </tr>\n",
       "    <tr>\n",
       "      <td>7</td>\n",
       "      <td>3.169397</td>\n",
       "      <td>3.835902</td>\n",
       "      <td>0.285504</td>\n",
       "      <td>46.335190</td>\n",
       "      <td>00:22</td>\n",
       "    </tr>\n",
       "  </tbody>\n",
       "</table>"
      ],
      "text/plain": [
       "<IPython.core.display.HTML object>"
      ]
     },
     "metadata": {},
     "output_type": "display_data"
    },
    {
     "name": "stdout",
     "output_type": "stream",
     "text": [
      "Epoch 6: reducing lr to 0.0005605315073490473\n",
      "No improvement since epoch 5: early stopping\n"
     ]
    }
   ],
   "source": [
    "learn.unfreeze()\n",
    "learn.fit_one_cycle(\n",
    "    100, \n",
    "    learn_lr, \n",
    "    cbs=[\n",
    "        EarlyStoppingCallback(\n",
    "            monitor='accuracy', \n",
    "            min_delta=0, \n",
    "            patience=2\n",
    "        ), \n",
    "        ReduceLROnPlateau(\n",
    "            monitor='valid_loss', \n",
    "            comp=None, \n",
    "            min_delta=0.05, \n",
    "            patience=2, \n",
    "            factor=2.0, \n",
    "            min_lr=0, \n",
    "            reset_on_fit=True\n",
    "        )\n",
    "    ]\n",
    ")"
   ]
  },
  {
   "cell_type": "code",
   "execution_count": 18,
   "id": "7a5f4f9d-0c30-4b78-af45-cc1e952e9e4f",
   "metadata": {
    "execution": {
     "iopub.execute_input": "2022-03-01T11:55:17.983977Z",
     "iopub.status.busy": "2022-03-01T11:55:17.983819Z",
     "iopub.status.idle": "2022-03-01T11:55:18.092102Z",
     "shell.execute_reply": "2022-03-01T11:55:18.091668Z",
     "shell.execute_reply.started": "2022-03-01T11:55:17.983955Z"
    },
    "tags": []
   },
   "outputs": [],
   "source": [
    "learn.save_encoder('encoder_v1')"
   ]
  },
  {
   "cell_type": "code",
   "execution_count": 19,
   "id": "73dd5b4b-9902-4388-bd83-095cf0fee509",
   "metadata": {
    "execution": {
     "iopub.execute_input": "2022-03-01T11:55:18.092704Z",
     "iopub.status.busy": "2022-03-01T11:55:18.092604Z",
     "iopub.status.idle": "2022-03-01T11:55:18.138047Z",
     "shell.execute_reply": "2022-03-01T11:55:18.137656Z",
     "shell.execute_reply.started": "2022-03-01T11:55:18.092691Z"
    },
    "tags": []
   },
   "outputs": [
    {
     "data": {
      "text/html": [],
      "text/plain": [
       "<IPython.core.display.HTML object>"
      ]
     },
     "metadata": {},
     "output_type": "display_data"
    },
    {
     "data": {
      "text/plain": [
       "'ride is great . i was always'"
      ]
     },
     "execution_count": 19,
     "metadata": {},
     "output_type": "execute_result"
    }
   ],
   "source": [
    "learn.predict('ride is', n_words = 5)"
   ]
  },
  {
   "cell_type": "code",
   "execution_count": 80,
   "id": "a93037c8-7c75-4cb2-ac48-0ba04262b84d",
   "metadata": {
    "execution": {
     "iopub.execute_input": "2022-03-01T12:30:20.314792Z",
     "iopub.status.busy": "2022-03-01T12:30:20.314596Z",
     "iopub.status.idle": "2022-03-01T12:30:20.323069Z",
     "shell.execute_reply": "2022-03-01T12:30:20.322583Z",
     "shell.execute_reply.started": "2022-03-01T12:30:20.314763Z"
    },
    "tags": []
   },
   "outputs": [],
   "source": [
    "train_df1 = train_df.copy()\n",
    "test_df1 = test_df.copy()\n",
    "\n",
    "#train_df1.revcontent = train_df1.revcontent + '. ' + train_df1.phraselist\n",
    "#test_df1.revcontent = test_df1.revcontent + '. ' + test_df1.phraselist\n",
    "\n",
    "#train_df1.revcontent = train_df1.phraselist\n",
    "#test_df1.revcontent = test_df1.phraselist\n",
    "\n",
    "train_df1.revcontent = train_df1.phraselist + '. ' + train_df1.revcontent\n",
    "test_df1.revcontent = test_df1.phraselist + '. ' + test_df1.revcontent\n",
    "\n",
    "train_df1 = train_df1.drop(['phraselist'], axis = 1)\n",
    "test_df1 = test_df1.drop(['phraselist'], axis = 1)"
   ]
  },
  {
   "cell_type": "code",
   "execution_count": 81,
   "id": "f9e8d87d-2b53-44a0-97f2-c833e32097d9",
   "metadata": {
    "execution": {
     "iopub.execute_input": "2022-03-01T12:30:21.039858Z",
     "iopub.status.busy": "2022-03-01T12:30:21.039666Z",
     "iopub.status.idle": "2022-03-01T12:30:21.141130Z",
     "shell.execute_reply": "2022-03-01T12:30:21.140709Z",
     "shell.execute_reply.started": "2022-03-01T12:30:21.039830Z"
    },
    "tags": []
   },
   "outputs": [],
   "source": [
    "label_cols = list(train_df1.columns[2:])\n",
    "\n",
    "def get_labels(row):\n",
    "    #print(row)\n",
    "    indcs = np.where(row != 0)[0]\n",
    "    #print(indcs)\n",
    "    if len(indcs) == 0:\n",
    "        return \"bland\"\n",
    "    return \";\".join([label_cols[x] for x in indcs])\n",
    "    \n",
    "labels = train_df1[label_cols].apply(lambda row: get_labels(row), axis = 1)\n",
    "train_df1[\"Labels\"] = labels\n",
    "\n",
    "labels = test_df1[label_cols].apply(lambda row: get_labels(row), axis = 1)\n",
    "test_df1[\"Labels\"] = labels"
   ]
  },
  {
   "cell_type": "code",
   "execution_count": 82,
   "id": "67ca2b28-a510-46fd-8306-23c7e16b6491",
   "metadata": {
    "execution": {
     "iopub.execute_input": "2022-03-01T12:30:21.367743Z",
     "iopub.status.busy": "2022-03-01T12:30:21.367292Z",
     "iopub.status.idle": "2022-03-01T12:30:22.167287Z",
     "shell.execute_reply": "2022-03-01T12:30:22.166887Z",
     "shell.execute_reply.started": "2022-03-01T12:30:21.367724Z"
    },
    "tags": []
   },
   "outputs": [
    {
     "data": {
      "text/html": [],
      "text/plain": [
       "<IPython.core.display.HTML object>"
      ]
     },
     "metadata": {},
     "output_type": "display_data"
    }
   ],
   "source": [
    "dls_clf = dls_blk.dataloaders(train_df1,\n",
    "                              bs = 64,\n",
    "                              seed = 20)"
   ]
  },
  {
   "cell_type": "code",
   "execution_count": 83,
   "id": "1149c70d-c6bb-48e4-9d6f-dc77cfe4cec6",
   "metadata": {
    "execution": {
     "iopub.execute_input": "2022-03-01T12:30:22.168305Z",
     "iopub.status.busy": "2022-03-01T12:30:22.168164Z",
     "iopub.status.idle": "2022-03-01T12:30:22.429781Z",
     "shell.execute_reply": "2022-03-01T12:30:22.429411Z",
     "shell.execute_reply.started": "2022-03-01T12:30:22.168290Z"
    },
    "tags": []
   },
   "outputs": [],
   "source": [
    "learn_clf = text_classifier_learner(dls_clf, \n",
    "                                    AWD_LSTM, \n",
    "                                    drop_mult=0.5,\n",
    "                                    metrics = accuracy_multi).to_fp16()\n",
    "\n",
    "\n",
    "learn_clf = learn_clf.load_encoder('encoder_v1')"
   ]
  },
  {
   "cell_type": "code",
   "execution_count": 84,
   "id": "7f4b287c-9cd0-4ca1-ad8b-ac2b750d26c9",
   "metadata": {
    "execution": {
     "iopub.execute_input": "2022-03-01T12:30:22.430483Z",
     "iopub.status.busy": "2022-03-01T12:30:22.430336Z",
     "iopub.status.idle": "2022-03-01T12:30:37.432914Z",
     "shell.execute_reply": "2022-03-01T12:30:37.432412Z",
     "shell.execute_reply.started": "2022-03-01T12:30:22.430467Z"
    },
    "tags": []
   },
   "outputs": [
    {
     "data": {
      "text/html": [],
      "text/plain": [
       "<IPython.core.display.HTML object>"
      ]
     },
     "metadata": {},
     "output_type": "display_data"
    },
    {
     "data": {
      "image/png": "[encoded data removed]",
      "text/plain": [
       "<Figure size 432x288 with 1 Axes>"
      ]
     },
     "metadata": {
      "needs_background": "light"
     },
     "output_type": "display_data"
    }
   ],
   "source": [
    "learn_clf_lr = learn_clf.lr_find().valley"
   ]
  },
  {
   "cell_type": "code",
   "execution_count": 85,
   "id": "bbb6817f-0baa-42d2-9680-7c90108820df",
   "metadata": {
    "execution": {
     "iopub.execute_input": "2022-03-01T12:30:37.434112Z",
     "iopub.status.busy": "2022-03-01T12:30:37.433972Z",
     "iopub.status.idle": "2022-03-01T12:30:38.806236Z",
     "shell.execute_reply": "2022-03-01T12:30:38.805811Z",
     "shell.execute_reply.started": "2022-03-01T12:30:37.434097Z"
    },
    "tags": []
   },
   "outputs": [
    {
     "data": {
      "text/html": [
       "<table border=\"1\" class=\"dataframe\">\n",
       "  <thead>\n",
       "    <tr style=\"text-align: left;\">\n",
       "      <th>epoch</th>\n",
       "      <th>train_loss</th>\n",
       "      <th>valid_loss</th>\n",
       "      <th>accuracy_multi</th>\n",
       "      <th>time</th>\n",
       "    </tr>\n",
       "  </thead>\n",
       "  <tbody>\n",
       "    <tr>\n",
       "      <td>0</td>\n",
       "      <td>0.733000</td>\n",
       "      <td>0.695805</td>\n",
       "      <td>0.478836</td>\n",
       "      <td>00:01</td>\n",
       "    </tr>\n",
       "  </tbody>\n",
       "</table>"
      ],
      "text/plain": [
       "<IPython.core.display.HTML object>"
      ]
     },
     "metadata": {},
     "output_type": "display_data"
    }
   ],
   "source": [
    "learn_clf.fit_one_cycle(1, learn_clf_lr)"
   ]
  },
  {
   "cell_type": "code",
   "execution_count": 86,
   "id": "56aeeb98-0699-41e6-8cd2-4b5b2da09b72",
   "metadata": {
    "execution": {
     "iopub.execute_input": "2022-03-01T12:30:38.807084Z",
     "iopub.status.busy": "2022-03-01T12:30:38.806973Z",
     "iopub.status.idle": "2022-03-01T12:30:40.259000Z",
     "shell.execute_reply": "2022-03-01T12:30:40.258570Z",
     "shell.execute_reply.started": "2022-03-01T12:30:38.807069Z"
    },
    "tags": []
   },
   "outputs": [
    {
     "data": {
      "text/html": [
       "<table border=\"1\" class=\"dataframe\">\n",
       "  <thead>\n",
       "    <tr style=\"text-align: left;\">\n",
       "      <th>epoch</th>\n",
       "      <th>train_loss</th>\n",
       "      <th>valid_loss</th>\n",
       "      <th>accuracy_multi</th>\n",
       "      <th>time</th>\n",
       "    </tr>\n",
       "  </thead>\n",
       "  <tbody>\n",
       "    <tr>\n",
       "      <td>0</td>\n",
       "      <td>0.679106</td>\n",
       "      <td>0.651617</td>\n",
       "      <td>0.649471</td>\n",
       "      <td>00:01</td>\n",
       "    </tr>\n",
       "  </tbody>\n",
       "</table>"
      ],
      "text/plain": [
       "<IPython.core.display.HTML object>"
      ]
     },
     "metadata": {},
     "output_type": "display_data"
    }
   ],
   "source": [
    "learn_clf.freeze_to(-2)\n",
    "learn_clf.fit_one_cycle(1, slice(1e-2/(2.6**4), 1e-2))"
   ]
  },
  {
   "cell_type": "code",
   "execution_count": 87,
   "id": "321713f7-62d7-440e-9431-3e8831bf3f2e",
   "metadata": {
    "execution": {
     "iopub.execute_input": "2022-03-01T12:30:40.259936Z",
     "iopub.status.busy": "2022-03-01T12:30:40.259792Z",
     "iopub.status.idle": "2022-03-01T12:30:41.758162Z",
     "shell.execute_reply": "2022-03-01T12:30:41.757661Z",
     "shell.execute_reply.started": "2022-03-01T12:30:40.259886Z"
    },
    "tags": []
   },
   "outputs": [
    {
     "data": {
      "text/html": [
       "<table border=\"1\" class=\"dataframe\">\n",
       "  <thead>\n",
       "    <tr style=\"text-align: left;\">\n",
       "      <th>epoch</th>\n",
       "      <th>train_loss</th>\n",
       "      <th>valid_loss</th>\n",
       "      <th>accuracy_multi</th>\n",
       "      <th>time</th>\n",
       "    </tr>\n",
       "  </thead>\n",
       "  <tbody>\n",
       "    <tr>\n",
       "      <td>0</td>\n",
       "      <td>0.622594</td>\n",
       "      <td>0.652110</td>\n",
       "      <td>0.638889</td>\n",
       "      <td>00:01</td>\n",
       "    </tr>\n",
       "  </tbody>\n",
       "</table>"
      ],
      "text/plain": [
       "<IPython.core.display.HTML object>"
      ]
     },
     "metadata": {},
     "output_type": "display_data"
    }
   ],
   "source": [
    "learn_clf.freeze_to(-3)\n",
    "learn_clf.fit_one_cycle(1, slice(5e-3/(2.6**4), learn_clf_lr))"
   ]
  },
  {
   "cell_type": "code",
   "execution_count": 88,
   "id": "83c1f1ac-b56b-4ed4-ba9d-180bb3798dd3",
   "metadata": {
    "execution": {
     "iopub.execute_input": "2022-03-01T12:30:41.759552Z",
     "iopub.status.busy": "2022-03-01T12:30:41.759273Z",
     "iopub.status.idle": "2022-03-01T12:33:24.920170Z",
     "shell.execute_reply": "2022-03-01T12:33:24.919788Z",
     "shell.execute_reply.started": "2022-03-01T12:30:41.759532Z"
    },
    "tags": []
   },
   "outputs": [
    {
     "data": {
      "text/html": [
       "<table border=\"1\" class=\"dataframe\">\n",
       "  <thead>\n",
       "    <tr style=\"text-align: left;\">\n",
       "      <th>epoch</th>\n",
       "      <th>train_loss</th>\n",
       "      <th>valid_loss</th>\n",
       "      <th>accuracy_multi</th>\n",
       "      <th>time</th>\n",
       "    </tr>\n",
       "  </thead>\n",
       "  <tbody>\n",
       "    <tr>\n",
       "      <td>0</td>\n",
       "      <td>0.609386</td>\n",
       "      <td>0.650472</td>\n",
       "      <td>0.628307</td>\n",
       "      <td>00:01</td>\n",
       "    </tr>\n",
       "    <tr>\n",
       "      <td>1</td>\n",
       "      <td>0.607237</td>\n",
       "      <td>0.649240</td>\n",
       "      <td>0.625661</td>\n",
       "      <td>00:01</td>\n",
       "    </tr>\n",
       "    <tr>\n",
       "      <td>2</td>\n",
       "      <td>0.609529</td>\n",
       "      <td>0.648530</td>\n",
       "      <td>0.621693</td>\n",
       "      <td>00:01</td>\n",
       "    </tr>\n",
       "    <tr>\n",
       "      <td>3</td>\n",
       "      <td>0.608910</td>\n",
       "      <td>0.646555</td>\n",
       "      <td>0.625661</td>\n",
       "      <td>00:01</td>\n",
       "    </tr>\n",
       "    <tr>\n",
       "      <td>4</td>\n",
       "      <td>0.607351</td>\n",
       "      <td>0.646442</td>\n",
       "      <td>0.628307</td>\n",
       "      <td>00:01</td>\n",
       "    </tr>\n",
       "    <tr>\n",
       "      <td>5</td>\n",
       "      <td>0.607387</td>\n",
       "      <td>0.643786</td>\n",
       "      <td>0.634921</td>\n",
       "      <td>00:01</td>\n",
       "    </tr>\n",
       "    <tr>\n",
       "      <td>6</td>\n",
       "      <td>0.605813</td>\n",
       "      <td>0.644735</td>\n",
       "      <td>0.625661</td>\n",
       "      <td>00:01</td>\n",
       "    </tr>\n",
       "    <tr>\n",
       "      <td>7</td>\n",
       "      <td>0.602889</td>\n",
       "      <td>0.640350</td>\n",
       "      <td>0.634921</td>\n",
       "      <td>00:01</td>\n",
       "    </tr>\n",
       "    <tr>\n",
       "      <td>8</td>\n",
       "      <td>0.600885</td>\n",
       "      <td>0.639321</td>\n",
       "      <td>0.645503</td>\n",
       "      <td>00:01</td>\n",
       "    </tr>\n",
       "    <tr>\n",
       "      <td>9</td>\n",
       "      <td>0.597862</td>\n",
       "      <td>0.633501</td>\n",
       "      <td>0.654762</td>\n",
       "      <td>00:01</td>\n",
       "    </tr>\n",
       "    <tr>\n",
       "      <td>10</td>\n",
       "      <td>0.595619</td>\n",
       "      <td>0.629786</td>\n",
       "      <td>0.656085</td>\n",
       "      <td>00:01</td>\n",
       "    </tr>\n",
       "    <tr>\n",
       "      <td>11</td>\n",
       "      <td>0.592353</td>\n",
       "      <td>0.621256</td>\n",
       "      <td>0.671958</td>\n",
       "      <td>00:01</td>\n",
       "    </tr>\n",
       "    <tr>\n",
       "      <td>12</td>\n",
       "      <td>0.588312</td>\n",
       "      <td>0.617968</td>\n",
       "      <td>0.669312</td>\n",
       "      <td>00:01</td>\n",
       "    </tr>\n",
       "    <tr>\n",
       "      <td>13</td>\n",
       "      <td>0.584737</td>\n",
       "      <td>0.611751</td>\n",
       "      <td>0.677249</td>\n",
       "      <td>00:01</td>\n",
       "    </tr>\n",
       "    <tr>\n",
       "      <td>14</td>\n",
       "      <td>0.580406</td>\n",
       "      <td>0.608797</td>\n",
       "      <td>0.671958</td>\n",
       "      <td>00:01</td>\n",
       "    </tr>\n",
       "    <tr>\n",
       "      <td>15</td>\n",
       "      <td>0.575679</td>\n",
       "      <td>0.603564</td>\n",
       "      <td>0.679894</td>\n",
       "      <td>00:01</td>\n",
       "    </tr>\n",
       "    <tr>\n",
       "      <td>16</td>\n",
       "      <td>0.570503</td>\n",
       "      <td>0.604794</td>\n",
       "      <td>0.691799</td>\n",
       "      <td>00:01</td>\n",
       "    </tr>\n",
       "    <tr>\n",
       "      <td>17</td>\n",
       "      <td>0.564102</td>\n",
       "      <td>0.595963</td>\n",
       "      <td>0.694444</td>\n",
       "      <td>00:01</td>\n",
       "    </tr>\n",
       "    <tr>\n",
       "      <td>18</td>\n",
       "      <td>0.557675</td>\n",
       "      <td>0.583763</td>\n",
       "      <td>0.708995</td>\n",
       "      <td>00:01</td>\n",
       "    </tr>\n",
       "    <tr>\n",
       "      <td>19</td>\n",
       "      <td>0.551411</td>\n",
       "      <td>0.581495</td>\n",
       "      <td>0.712963</td>\n",
       "      <td>00:01</td>\n",
       "    </tr>\n",
       "    <tr>\n",
       "      <td>20</td>\n",
       "      <td>0.543657</td>\n",
       "      <td>0.572992</td>\n",
       "      <td>0.726190</td>\n",
       "      <td>00:01</td>\n",
       "    </tr>\n",
       "    <tr>\n",
       "      <td>21</td>\n",
       "      <td>0.535042</td>\n",
       "      <td>0.551494</td>\n",
       "      <td>0.746032</td>\n",
       "      <td>00:01</td>\n",
       "    </tr>\n",
       "    <tr>\n",
       "      <td>22</td>\n",
       "      <td>0.526132</td>\n",
       "      <td>0.532177</td>\n",
       "      <td>0.768519</td>\n",
       "      <td>00:01</td>\n",
       "    </tr>\n",
       "    <tr>\n",
       "      <td>23</td>\n",
       "      <td>0.516553</td>\n",
       "      <td>0.533267</td>\n",
       "      <td>0.775132</td>\n",
       "      <td>00:01</td>\n",
       "    </tr>\n",
       "    <tr>\n",
       "      <td>24</td>\n",
       "      <td>0.506339</td>\n",
       "      <td>0.530068</td>\n",
       "      <td>0.757937</td>\n",
       "      <td>00:01</td>\n",
       "    </tr>\n",
       "    <tr>\n",
       "      <td>25</td>\n",
       "      <td>0.496210</td>\n",
       "      <td>0.544806</td>\n",
       "      <td>0.764550</td>\n",
       "      <td>00:01</td>\n",
       "    </tr>\n",
       "    <tr>\n",
       "      <td>26</td>\n",
       "      <td>0.485393</td>\n",
       "      <td>0.524309</td>\n",
       "      <td>0.777778</td>\n",
       "      <td>00:01</td>\n",
       "    </tr>\n",
       "    <tr>\n",
       "      <td>27</td>\n",
       "      <td>0.474447</td>\n",
       "      <td>0.531362</td>\n",
       "      <td>0.760582</td>\n",
       "      <td>00:01</td>\n",
       "    </tr>\n",
       "    <tr>\n",
       "      <td>28</td>\n",
       "      <td>0.463194</td>\n",
       "      <td>0.481458</td>\n",
       "      <td>0.804233</td>\n",
       "      <td>00:01</td>\n",
       "    </tr>\n",
       "    <tr>\n",
       "      <td>29</td>\n",
       "      <td>0.451570</td>\n",
       "      <td>0.483005</td>\n",
       "      <td>0.805556</td>\n",
       "      <td>00:01</td>\n",
       "    </tr>\n",
       "    <tr>\n",
       "      <td>30</td>\n",
       "      <td>0.439775</td>\n",
       "      <td>0.461326</td>\n",
       "      <td>0.826720</td>\n",
       "      <td>00:01</td>\n",
       "    </tr>\n",
       "    <tr>\n",
       "      <td>31</td>\n",
       "      <td>0.425985</td>\n",
       "      <td>0.451277</td>\n",
       "      <td>0.824074</td>\n",
       "      <td>00:01</td>\n",
       "    </tr>\n",
       "    <tr>\n",
       "      <td>32</td>\n",
       "      <td>0.412495</td>\n",
       "      <td>0.445224</td>\n",
       "      <td>0.829365</td>\n",
       "      <td>00:01</td>\n",
       "    </tr>\n",
       "    <tr>\n",
       "      <td>33</td>\n",
       "      <td>0.399127</td>\n",
       "      <td>0.441650</td>\n",
       "      <td>0.839947</td>\n",
       "      <td>00:01</td>\n",
       "    </tr>\n",
       "    <tr>\n",
       "      <td>34</td>\n",
       "      <td>0.385768</td>\n",
       "      <td>0.440070</td>\n",
       "      <td>0.829365</td>\n",
       "      <td>00:01</td>\n",
       "    </tr>\n",
       "    <tr>\n",
       "      <td>35</td>\n",
       "      <td>0.372447</td>\n",
       "      <td>0.421935</td>\n",
       "      <td>0.837302</td>\n",
       "      <td>00:01</td>\n",
       "    </tr>\n",
       "    <tr>\n",
       "      <td>36</td>\n",
       "      <td>0.358925</td>\n",
       "      <td>0.420040</td>\n",
       "      <td>0.835979</td>\n",
       "      <td>00:01</td>\n",
       "    </tr>\n",
       "    <tr>\n",
       "      <td>37</td>\n",
       "      <td>0.346768</td>\n",
       "      <td>0.419577</td>\n",
       "      <td>0.833333</td>\n",
       "      <td>00:01</td>\n",
       "    </tr>\n",
       "    <tr>\n",
       "      <td>38</td>\n",
       "      <td>0.333589</td>\n",
       "      <td>0.404853</td>\n",
       "      <td>0.842593</td>\n",
       "      <td>00:01</td>\n",
       "    </tr>\n",
       "    <tr>\n",
       "      <td>39</td>\n",
       "      <td>0.321082</td>\n",
       "      <td>0.441017</td>\n",
       "      <td>0.820106</td>\n",
       "      <td>00:01</td>\n",
       "    </tr>\n",
       "    <tr>\n",
       "      <td>40</td>\n",
       "      <td>0.308286</td>\n",
       "      <td>0.402509</td>\n",
       "      <td>0.843915</td>\n",
       "      <td>00:01</td>\n",
       "    </tr>\n",
       "    <tr>\n",
       "      <td>41</td>\n",
       "      <td>0.297425</td>\n",
       "      <td>0.419857</td>\n",
       "      <td>0.829365</td>\n",
       "      <td>00:01</td>\n",
       "    </tr>\n",
       "    <tr>\n",
       "      <td>42</td>\n",
       "      <td>0.285358</td>\n",
       "      <td>0.402689</td>\n",
       "      <td>0.834656</td>\n",
       "      <td>00:01</td>\n",
       "    </tr>\n",
       "    <tr>\n",
       "      <td>43</td>\n",
       "      <td>0.273914</td>\n",
       "      <td>0.394306</td>\n",
       "      <td>0.838624</td>\n",
       "      <td>00:01</td>\n",
       "    </tr>\n",
       "    <tr>\n",
       "      <td>44</td>\n",
       "      <td>0.262720</td>\n",
       "      <td>0.386639</td>\n",
       "      <td>0.839947</td>\n",
       "      <td>00:01</td>\n",
       "    </tr>\n",
       "    <tr>\n",
       "      <td>45</td>\n",
       "      <td>0.253037</td>\n",
       "      <td>0.377705</td>\n",
       "      <td>0.846561</td>\n",
       "      <td>00:01</td>\n",
       "    </tr>\n",
       "    <tr>\n",
       "      <td>46</td>\n",
       "      <td>0.242337</td>\n",
       "      <td>0.379475</td>\n",
       "      <td>0.850529</td>\n",
       "      <td>00:01</td>\n",
       "    </tr>\n",
       "    <tr>\n",
       "      <td>47</td>\n",
       "      <td>0.232736</td>\n",
       "      <td>0.391457</td>\n",
       "      <td>0.842593</td>\n",
       "      <td>00:01</td>\n",
       "    </tr>\n",
       "    <tr>\n",
       "      <td>48</td>\n",
       "      <td>0.223356</td>\n",
       "      <td>0.375697</td>\n",
       "      <td>0.850529</td>\n",
       "      <td>00:01</td>\n",
       "    </tr>\n",
       "    <tr>\n",
       "      <td>49</td>\n",
       "      <td>0.215251</td>\n",
       "      <td>0.389906</td>\n",
       "      <td>0.846561</td>\n",
       "      <td>00:01</td>\n",
       "    </tr>\n",
       "    <tr>\n",
       "      <td>50</td>\n",
       "      <td>0.206524</td>\n",
       "      <td>0.373725</td>\n",
       "      <td>0.861111</td>\n",
       "      <td>00:01</td>\n",
       "    </tr>\n",
       "    <tr>\n",
       "      <td>51</td>\n",
       "      <td>0.198559</td>\n",
       "      <td>0.385668</td>\n",
       "      <td>0.855820</td>\n",
       "      <td>00:01</td>\n",
       "    </tr>\n",
       "    <tr>\n",
       "      <td>52</td>\n",
       "      <td>0.190204</td>\n",
       "      <td>0.382903</td>\n",
       "      <td>0.858466</td>\n",
       "      <td>00:01</td>\n",
       "    </tr>\n",
       "    <tr>\n",
       "      <td>53</td>\n",
       "      <td>0.182944</td>\n",
       "      <td>0.381052</td>\n",
       "      <td>0.858466</td>\n",
       "      <td>00:01</td>\n",
       "    </tr>\n",
       "    <tr>\n",
       "      <td>54</td>\n",
       "      <td>0.175869</td>\n",
       "      <td>0.380228</td>\n",
       "      <td>0.857143</td>\n",
       "      <td>00:01</td>\n",
       "    </tr>\n",
       "    <tr>\n",
       "      <td>55</td>\n",
       "      <td>0.169497</td>\n",
       "      <td>0.380366</td>\n",
       "      <td>0.853175</td>\n",
       "      <td>00:01</td>\n",
       "    </tr>\n",
       "    <tr>\n",
       "      <td>56</td>\n",
       "      <td>0.162761</td>\n",
       "      <td>0.384282</td>\n",
       "      <td>0.849206</td>\n",
       "      <td>00:01</td>\n",
       "    </tr>\n",
       "    <tr>\n",
       "      <td>57</td>\n",
       "      <td>0.156588</td>\n",
       "      <td>0.375863</td>\n",
       "      <td>0.854497</td>\n",
       "      <td>00:01</td>\n",
       "    </tr>\n",
       "    <tr>\n",
       "      <td>58</td>\n",
       "      <td>0.150483</td>\n",
       "      <td>0.378539</td>\n",
       "      <td>0.854497</td>\n",
       "      <td>00:01</td>\n",
       "    </tr>\n",
       "    <tr>\n",
       "      <td>59</td>\n",
       "      <td>0.145081</td>\n",
       "      <td>0.381755</td>\n",
       "      <td>0.857143</td>\n",
       "      <td>00:01</td>\n",
       "    </tr>\n",
       "    <tr>\n",
       "      <td>60</td>\n",
       "      <td>0.139744</td>\n",
       "      <td>0.383062</td>\n",
       "      <td>0.854497</td>\n",
       "      <td>00:02</td>\n",
       "    </tr>\n",
       "    <tr>\n",
       "      <td>61</td>\n",
       "      <td>0.134945</td>\n",
       "      <td>0.386143</td>\n",
       "      <td>0.855820</td>\n",
       "      <td>00:01</td>\n",
       "    </tr>\n",
       "    <tr>\n",
       "      <td>62</td>\n",
       "      <td>0.130235</td>\n",
       "      <td>0.387047</td>\n",
       "      <td>0.855820</td>\n",
       "      <td>00:01</td>\n",
       "    </tr>\n",
       "    <tr>\n",
       "      <td>63</td>\n",
       "      <td>0.126303</td>\n",
       "      <td>0.382662</td>\n",
       "      <td>0.855820</td>\n",
       "      <td>00:01</td>\n",
       "    </tr>\n",
       "    <tr>\n",
       "      <td>64</td>\n",
       "      <td>0.122132</td>\n",
       "      <td>0.387030</td>\n",
       "      <td>0.853175</td>\n",
       "      <td>00:01</td>\n",
       "    </tr>\n",
       "    <tr>\n",
       "      <td>65</td>\n",
       "      <td>0.118021</td>\n",
       "      <td>0.385502</td>\n",
       "      <td>0.855820</td>\n",
       "      <td>00:01</td>\n",
       "    </tr>\n",
       "    <tr>\n",
       "      <td>66</td>\n",
       "      <td>0.114476</td>\n",
       "      <td>0.383246</td>\n",
       "      <td>0.857143</td>\n",
       "      <td>00:01</td>\n",
       "    </tr>\n",
       "    <tr>\n",
       "      <td>67</td>\n",
       "      <td>0.111202</td>\n",
       "      <td>0.386228</td>\n",
       "      <td>0.854497</td>\n",
       "      <td>00:01</td>\n",
       "    </tr>\n",
       "    <tr>\n",
       "      <td>68</td>\n",
       "      <td>0.108024</td>\n",
       "      <td>0.391006</td>\n",
       "      <td>0.850529</td>\n",
       "      <td>00:01</td>\n",
       "    </tr>\n",
       "    <tr>\n",
       "      <td>69</td>\n",
       "      <td>0.105351</td>\n",
       "      <td>0.391134</td>\n",
       "      <td>0.851852</td>\n",
       "      <td>00:01</td>\n",
       "    </tr>\n",
       "    <tr>\n",
       "      <td>70</td>\n",
       "      <td>0.102695</td>\n",
       "      <td>0.383171</td>\n",
       "      <td>0.853175</td>\n",
       "      <td>00:01</td>\n",
       "    </tr>\n",
       "    <tr>\n",
       "      <td>71</td>\n",
       "      <td>0.099814</td>\n",
       "      <td>0.385709</td>\n",
       "      <td>0.853175</td>\n",
       "      <td>00:01</td>\n",
       "    </tr>\n",
       "    <tr>\n",
       "      <td>72</td>\n",
       "      <td>0.097206</td>\n",
       "      <td>0.387269</td>\n",
       "      <td>0.854497</td>\n",
       "      <td>00:01</td>\n",
       "    </tr>\n",
       "    <tr>\n",
       "      <td>73</td>\n",
       "      <td>0.095286</td>\n",
       "      <td>0.386288</td>\n",
       "      <td>0.857143</td>\n",
       "      <td>00:01</td>\n",
       "    </tr>\n",
       "    <tr>\n",
       "      <td>74</td>\n",
       "      <td>0.093070</td>\n",
       "      <td>0.385460</td>\n",
       "      <td>0.858466</td>\n",
       "      <td>00:01</td>\n",
       "    </tr>\n",
       "    <tr>\n",
       "      <td>75</td>\n",
       "      <td>0.091407</td>\n",
       "      <td>0.387983</td>\n",
       "      <td>0.859788</td>\n",
       "      <td>00:01</td>\n",
       "    </tr>\n",
       "    <tr>\n",
       "      <td>76</td>\n",
       "      <td>0.089216</td>\n",
       "      <td>0.387590</td>\n",
       "      <td>0.857143</td>\n",
       "      <td>00:01</td>\n",
       "    </tr>\n",
       "    <tr>\n",
       "      <td>77</td>\n",
       "      <td>0.087114</td>\n",
       "      <td>0.385789</td>\n",
       "      <td>0.863757</td>\n",
       "      <td>00:01</td>\n",
       "    </tr>\n",
       "    <tr>\n",
       "      <td>78</td>\n",
       "      <td>0.085120</td>\n",
       "      <td>0.384335</td>\n",
       "      <td>0.859788</td>\n",
       "      <td>00:01</td>\n",
       "    </tr>\n",
       "    <tr>\n",
       "      <td>79</td>\n",
       "      <td>0.083252</td>\n",
       "      <td>0.386403</td>\n",
       "      <td>0.861111</td>\n",
       "      <td>00:01</td>\n",
       "    </tr>\n",
       "    <tr>\n",
       "      <td>80</td>\n",
       "      <td>0.081803</td>\n",
       "      <td>0.386737</td>\n",
       "      <td>0.861111</td>\n",
       "      <td>00:01</td>\n",
       "    </tr>\n",
       "    <tr>\n",
       "      <td>81</td>\n",
       "      <td>0.080826</td>\n",
       "      <td>0.386387</td>\n",
       "      <td>0.861111</td>\n",
       "      <td>00:01</td>\n",
       "    </tr>\n",
       "    <tr>\n",
       "      <td>82</td>\n",
       "      <td>0.079469</td>\n",
       "      <td>0.388827</td>\n",
       "      <td>0.861111</td>\n",
       "      <td>00:01</td>\n",
       "    </tr>\n",
       "    <tr>\n",
       "      <td>83</td>\n",
       "      <td>0.078042</td>\n",
       "      <td>0.392506</td>\n",
       "      <td>0.859788</td>\n",
       "      <td>00:01</td>\n",
       "    </tr>\n",
       "    <tr>\n",
       "      <td>84</td>\n",
       "      <td>0.076764</td>\n",
       "      <td>0.390222</td>\n",
       "      <td>0.858466</td>\n",
       "      <td>00:01</td>\n",
       "    </tr>\n",
       "    <tr>\n",
       "      <td>85</td>\n",
       "      <td>0.076238</td>\n",
       "      <td>0.385695</td>\n",
       "      <td>0.861111</td>\n",
       "      <td>00:01</td>\n",
       "    </tr>\n",
       "    <tr>\n",
       "      <td>86</td>\n",
       "      <td>0.075103</td>\n",
       "      <td>0.387341</td>\n",
       "      <td>0.859788</td>\n",
       "      <td>00:01</td>\n",
       "    </tr>\n",
       "    <tr>\n",
       "      <td>87</td>\n",
       "      <td>0.074155</td>\n",
       "      <td>0.387990</td>\n",
       "      <td>0.861111</td>\n",
       "      <td>00:01</td>\n",
       "    </tr>\n",
       "    <tr>\n",
       "      <td>88</td>\n",
       "      <td>0.073216</td>\n",
       "      <td>0.389978</td>\n",
       "      <td>0.858466</td>\n",
       "      <td>00:01</td>\n",
       "    </tr>\n",
       "    <tr>\n",
       "      <td>89</td>\n",
       "      <td>0.072660</td>\n",
       "      <td>0.391034</td>\n",
       "      <td>0.857143</td>\n",
       "      <td>00:01</td>\n",
       "    </tr>\n",
       "    <tr>\n",
       "      <td>90</td>\n",
       "      <td>0.072103</td>\n",
       "      <td>0.391012</td>\n",
       "      <td>0.857143</td>\n",
       "      <td>00:01</td>\n",
       "    </tr>\n",
       "    <tr>\n",
       "      <td>91</td>\n",
       "      <td>0.071713</td>\n",
       "      <td>0.387736</td>\n",
       "      <td>0.858466</td>\n",
       "      <td>00:01</td>\n",
       "    </tr>\n",
       "    <tr>\n",
       "      <td>92</td>\n",
       "      <td>0.071145</td>\n",
       "      <td>0.387753</td>\n",
       "      <td>0.858466</td>\n",
       "      <td>00:01</td>\n",
       "    </tr>\n",
       "    <tr>\n",
       "      <td>93</td>\n",
       "      <td>0.069827</td>\n",
       "      <td>0.387128</td>\n",
       "      <td>0.859788</td>\n",
       "      <td>00:01</td>\n",
       "    </tr>\n",
       "    <tr>\n",
       "      <td>94</td>\n",
       "      <td>0.069420</td>\n",
       "      <td>0.386437</td>\n",
       "      <td>0.861111</td>\n",
       "      <td>00:01</td>\n",
       "    </tr>\n",
       "    <tr>\n",
       "      <td>95</td>\n",
       "      <td>0.068387</td>\n",
       "      <td>0.387220</td>\n",
       "      <td>0.858466</td>\n",
       "      <td>00:01</td>\n",
       "    </tr>\n",
       "    <tr>\n",
       "      <td>96</td>\n",
       "      <td>0.067552</td>\n",
       "      <td>0.388605</td>\n",
       "      <td>0.857143</td>\n",
       "      <td>00:01</td>\n",
       "    </tr>\n",
       "    <tr>\n",
       "      <td>97</td>\n",
       "      <td>0.066965</td>\n",
       "      <td>0.389652</td>\n",
       "      <td>0.855820</td>\n",
       "      <td>00:01</td>\n",
       "    </tr>\n",
       "    <tr>\n",
       "      <td>98</td>\n",
       "      <td>0.066664</td>\n",
       "      <td>0.388391</td>\n",
       "      <td>0.858466</td>\n",
       "      <td>00:01</td>\n",
       "    </tr>\n",
       "    <tr>\n",
       "      <td>99</td>\n",
       "      <td>0.066530</td>\n",
       "      <td>0.389401</td>\n",
       "      <td>0.855820</td>\n",
       "      <td>00:01</td>\n",
       "    </tr>\n",
       "  </tbody>\n",
       "</table>"
      ],
      "text/plain": [
       "<IPython.core.display.HTML object>"
      ]
     },
     "metadata": {},
     "output_type": "display_data"
    }
   ],
   "source": [
    "learn_clf.unfreeze()\n",
    "learn_clf.fit_one_cycle(\n",
    "    100, \n",
    "    slice(1e-3/(2.6**4), learn_clf_lr),\n",
    "    #1e-3,\n",
    "    cbs=[\n",
    "        EarlyStoppingCallback(\n",
    "            monitor='accuracy_multi', \n",
    "            min_delta=0.0001, \n",
    "            patience=100\n",
    "        )\n",
    "#        ReduceLROnPlateau(\n",
    "#            monitor='valid_loss', \n",
    "#            comp=None, \n",
    "#            min_delta=0.01, \n",
    "#            patience=2, \n",
    "#            factor=10.0, \n",
    "#            min_lr=0, \n",
    "#            reset_on_fit=True\n",
    "#        )\n",
    "    ]\n",
    ")"
   ]
  },
  {
   "cell_type": "code",
   "execution_count": null,
   "id": "34c669a2-8de7-4198-b610-60399796af2c",
   "metadata": {
    "tags": []
   },
   "outputs": [],
   "source": []
  },
  {
   "cell_type": "code",
   "execution_count": 29,
   "id": "2065b363-8c05-4807-8259-f74ed0a58f43",
   "metadata": {
    "execution": {
     "iopub.execute_input": "2022-03-01T11:58:20.998556Z",
     "iopub.status.busy": "2022-03-01T11:58:20.998386Z",
     "iopub.status.idle": "2022-03-01T11:58:21.333704Z",
     "shell.execute_reply": "2022-03-01T11:58:21.333247Z",
     "shell.execute_reply.started": "2022-03-01T11:58:20.998541Z"
    },
    "tags": []
   },
   "outputs": [
    {
     "data": {
      "text/plain": [
       "Path('models/classifier.v5.pth')"
      ]
     },
     "execution_count": 29,
     "metadata": {},
     "output_type": "execute_result"
    }
   ],
   "source": [
    "learn_clf.save('classifier.v5')"
   ]
  },
  {
   "cell_type": "code",
   "execution_count": 30,
   "id": "06057dc6-a76a-4265-9569-f29b05eda5f3",
   "metadata": {
    "execution": {
     "iopub.execute_input": "2022-03-01T11:58:21.334453Z",
     "iopub.status.busy": "2022-03-01T11:58:21.334253Z",
     "iopub.status.idle": "2022-03-01T11:58:21.411031Z",
     "shell.execute_reply": "2022-03-01T11:58:21.410599Z",
     "shell.execute_reply.started": "2022-03-01T11:58:21.334440Z"
    },
    "tags": []
   },
   "outputs": [],
   "source": [
    "learn_clf = learn_clf.load('classifier.v5')"
   ]
  },
  {
   "cell_type": "code",
   "execution_count": 212,
   "id": "09225638-5c46-475b-8fb3-0bea69134d24",
   "metadata": {
    "execution": {
     "iopub.execute_input": "2022-03-01T13:22:44.391335Z",
     "iopub.status.busy": "2022-03-01T13:22:44.391129Z",
     "iopub.status.idle": "2022-03-01T13:22:46.260518Z",
     "shell.execute_reply": "2022-03-01T13:22:46.260007Z",
     "shell.execute_reply.started": "2022-03-01T13:22:44.391310Z"
    },
    "tags": []
   },
   "outputs": [
    {
     "data": {
      "text/html": [],
      "text/plain": [
       "<IPython.core.display.HTML object>"
      ]
     },
     "metadata": {},
     "output_type": "display_data"
    },
    {
     "data": {
      "text/html": [],
      "text/plain": [
       "<IPython.core.display.HTML object>"
      ]
     },
     "metadata": {},
     "output_type": "display_data"
    }
   ],
   "source": [
    "tok_inf_df = tokenize_df(test_df1, 'revcontent')\n",
    "inf_dl = learn_clf.dls.test_dl(tok_inf_df[0])\n",
    "\n",
    "# Predict probabilities for all the classes \n",
    "all_predictions = learn_clf.get_preds(dl = inf_dl, reorder = False)\n",
    "probs = all_predictions[0].numpy()"
   ]
  },
  {
   "cell_type": "code",
   "execution_count": 213,
   "id": "60c23ae4-6d84-41be-a7a0-9fb93b9223e5",
   "metadata": {
    "execution": {
     "iopub.execute_input": "2022-03-01T13:22:46.261524Z",
     "iopub.status.busy": "2022-03-01T13:22:46.261376Z",
     "iopub.status.idle": "2022-03-01T13:22:46.264178Z",
     "shell.execute_reply": "2022-03-01T13:22:46.263882Z",
     "shell.execute_reply.started": "2022-03-01T13:22:46.261507Z"
    },
    "tags": []
   },
   "outputs": [],
   "source": [
    "class_list = list(test_df1.columns[2:-1])"
   ]
  },
  {
   "cell_type": "code",
   "execution_count": 214,
   "id": "431cce7a-2767-455e-a3a2-20abc2649fc8",
   "metadata": {
    "execution": {
     "iopub.execute_input": "2022-03-01T13:22:48.946250Z",
     "iopub.status.busy": "2022-03-01T13:22:48.946100Z",
     "iopub.status.idle": "2022-03-01T13:22:48.955206Z",
     "shell.execute_reply": "2022-03-01T13:22:48.954701Z",
     "shell.execute_reply.started": "2022-03-01T13:22:48.946235Z"
    },
    "tags": []
   },
   "outputs": [],
   "source": [
    "indices = inf_dl.get_idxs()\n",
    "predictions = pd.DataFrame(all_predictions[0].numpy(), columns = learn_clf.dls.vocab[1])\n",
    "predictions['index'] = indices\n",
    "predictions = pd.merge(predictions, test_df[['index', 'revcontent']], on='index')[test_df1.columns[1:-1]]\n",
    "predictions = predictions.sort_values(by = ['index'])\n",
    "predictions = predictions.reset_index(drop = True)\n",
    "predictions = predictions.drop(['index'], axis = 1)"
   ]
  },
  {
   "cell_type": "code",
   "execution_count": 215,
   "id": "601aff83-bdfe-45f6-ba68-ca471712256d",
   "metadata": {
    "execution": {
     "iopub.execute_input": "2022-03-01T13:22:49.784747Z",
     "iopub.status.busy": "2022-03-01T13:22:49.784552Z",
     "iopub.status.idle": "2022-03-01T13:22:49.796054Z",
     "shell.execute_reply": "2022-03-01T13:22:49.795628Z",
     "shell.execute_reply.started": "2022-03-01T13:22:49.784717Z"
    },
    "tags": []
   },
   "outputs": [
    {
     "data": {
      "text/html": [
       "<div>\n",
       "<style scoped>\n",
       "    .dataframe tbody tr th:only-of-type {\n",
       "        vertical-align: middle;\n",
       "    }\n",
       "\n",
       "    .dataframe tbody tr th {\n",
       "        vertical-align: top;\n",
       "    }\n",
       "\n",
       "    .dataframe thead th {\n",
       "        text-align: right;\n",
       "    }\n",
       "</style>\n",
       "<table border=\"1\" class=\"dataframe\">\n",
       "  <thead>\n",
       "    <tr style=\"text-align: right;\">\n",
       "      <th></th>\n",
       "      <th>revcontent</th>\n",
       "      <th>service</th>\n",
       "      <th>pricing</th>\n",
       "      <th>ride</th>\n",
       "      <th>maintenance</th>\n",
       "      <th>app</th>\n",
       "      <th>general</th>\n",
       "      <th>customercare</th>\n",
       "      <th>bike</th>\n",
       "      <th>payments</th>\n",
       "    </tr>\n",
       "  </thead>\n",
       "  <tbody>\n",
       "    <tr>\n",
       "      <th>0</th>\n",
       "      <td>the best bicycle service in bangalore</td>\n",
       "      <td>0.661048</td>\n",
       "      <td>0.309337</td>\n",
       "      <td>0.057388</td>\n",
       "      <td>0.089455</td>\n",
       "      <td>0.490213</td>\n",
       "      <td>0.047780</td>\n",
       "      <td>0.080069</td>\n",
       "      <td>0.029930</td>\n",
       "      <td>0.089933</td>\n",
       "    </tr>\n",
       "    <tr>\n",
       "      <th>1</th>\n",
       "      <td>worst experience</td>\n",
       "      <td>0.039862</td>\n",
       "      <td>0.054702</td>\n",
       "      <td>0.119511</td>\n",
       "      <td>0.020765</td>\n",
       "      <td>0.210604</td>\n",
       "      <td>0.030157</td>\n",
       "      <td>0.053601</td>\n",
       "      <td>0.040541</td>\n",
       "      <td>0.015845</td>\n",
       "    </tr>\n",
       "    <tr>\n",
       "      <th>2</th>\n",
       "      <td>no option to search bike station</td>\n",
       "      <td>0.319865</td>\n",
       "      <td>0.038250</td>\n",
       "      <td>0.055926</td>\n",
       "      <td>0.085099</td>\n",
       "      <td>0.035411</td>\n",
       "      <td>0.026355</td>\n",
       "      <td>0.032713</td>\n",
       "      <td>0.369543</td>\n",
       "      <td>0.092688</td>\n",
       "    </tr>\n",
       "    <tr>\n",
       "      <th>3</th>\n",
       "      <td>very helpful particularly during lockdown and strike period this service look like a saviour</td>\n",
       "      <td>0.998345</td>\n",
       "      <td>0.028490</td>\n",
       "      <td>0.014957</td>\n",
       "      <td>0.010328</td>\n",
       "      <td>0.027638</td>\n",
       "      <td>0.062904</td>\n",
       "      <td>0.021698</td>\n",
       "      <td>0.012007</td>\n",
       "      <td>0.025420</td>\n",
       "    </tr>\n",
       "    <tr>\n",
       "      <th>4</th>\n",
       "      <td>great experience it easy to drive pollution free i just love to drive</td>\n",
       "      <td>0.211906</td>\n",
       "      <td>0.062217</td>\n",
       "      <td>0.076270</td>\n",
       "      <td>0.034619</td>\n",
       "      <td>0.034165</td>\n",
       "      <td>0.435241</td>\n",
       "      <td>0.017510</td>\n",
       "      <td>0.069668</td>\n",
       "      <td>0.032713</td>\n",
       "    </tr>\n",
       "    <tr>\n",
       "      <th>...</th>\n",
       "      <td>...</td>\n",
       "      <td>...</td>\n",
       "      <td>...</td>\n",
       "      <td>...</td>\n",
       "      <td>...</td>\n",
       "      <td>...</td>\n",
       "      <td>...</td>\n",
       "      <td>...</td>\n",
       "      <td>...</td>\n",
       "      <td>...</td>\n",
       "    </tr>\n",
       "    <tr>\n",
       "      <th>1019</th>\n",
       "      <td>yulu maintained well at the launch and continuing the same. When you have good concept, you should improve it by providing good service.</td>\n",
       "      <td>0.086016</td>\n",
       "      <td>0.096877</td>\n",
       "      <td>0.019382</td>\n",
       "      <td>0.635336</td>\n",
       "      <td>0.098252</td>\n",
       "      <td>0.113383</td>\n",
       "      <td>0.027743</td>\n",
       "      <td>0.143068</td>\n",
       "      <td>0.026861</td>\n",
       "    </tr>\n",
       "    <tr>\n",
       "      <th>1020</th>\n",
       "      <td>Service is bad but maintenance is okay</td>\n",
       "      <td>0.959913</td>\n",
       "      <td>0.020332</td>\n",
       "      <td>0.053305</td>\n",
       "      <td>0.999503</td>\n",
       "      <td>0.037257</td>\n",
       "      <td>0.028061</td>\n",
       "      <td>0.046206</td>\n",
       "      <td>0.094510</td>\n",
       "      <td>0.049773</td>\n",
       "    </tr>\n",
       "    <tr>\n",
       "      <th>1021</th>\n",
       "      <td>hygenic maintenance at yulu zones</td>\n",
       "      <td>0.127979</td>\n",
       "      <td>0.028816</td>\n",
       "      <td>0.056133</td>\n",
       "      <td>0.188623</td>\n",
       "      <td>0.023689</td>\n",
       "      <td>0.024610</td>\n",
       "      <td>0.107063</td>\n",
       "      <td>0.127544</td>\n",
       "      <td>0.025275</td>\n",
       "    </tr>\n",
       "    <tr>\n",
       "      <th>1022</th>\n",
       "      <td>maintenance is upto the mark</td>\n",
       "      <td>0.020964</td>\n",
       "      <td>0.015248</td>\n",
       "      <td>0.038756</td>\n",
       "      <td>0.999997</td>\n",
       "      <td>0.015248</td>\n",
       "      <td>0.013956</td>\n",
       "      <td>0.014448</td>\n",
       "      <td>0.032283</td>\n",
       "      <td>0.041852</td>\n",
       "    </tr>\n",
       "    <tr>\n",
       "      <th>1023</th>\n",
       "      <td>Proper maintence from yulu. Resolutions are quick from your cust.support team</td>\n",
       "      <td>0.043528</td>\n",
       "      <td>0.021823</td>\n",
       "      <td>0.024099</td>\n",
       "      <td>0.972779</td>\n",
       "      <td>0.023109</td>\n",
       "      <td>0.076270</td>\n",
       "      <td>0.995336</td>\n",
       "      <td>0.029424</td>\n",
       "      <td>0.011158</td>\n",
       "    </tr>\n",
       "  </tbody>\n",
       "</table>\n",
       "<p>1024 rows × 10 columns</p>\n",
       "</div>"
      ],
      "text/plain": [
       "                                                                                                                                    revcontent  \\\n",
       "0                                                                                                        the best bicycle service in bangalore   \n",
       "1                                                                                                                             worst experience   \n",
       "2                                                                                                             no option to search bike station   \n",
       "3                                                 very helpful particularly during lockdown and strike period this service look like a saviour   \n",
       "4                                                                        great experience it easy to drive pollution free i just love to drive   \n",
       "...                                                                                                                                        ...   \n",
       "1019  yulu maintained well at the launch and continuing the same. When you have good concept, you should improve it by providing good service.   \n",
       "1020                                                                                                    Service is bad but maintenance is okay   \n",
       "1021                                                                                                         hygenic maintenance at yulu zones   \n",
       "1022                                                                                                              maintenance is upto the mark   \n",
       "1023                                                             Proper maintence from yulu. Resolutions are quick from your cust.support team   \n",
       "\n",
       "       service   pricing      ride  maintenance       app   general  \\\n",
       "0     0.661048  0.309337  0.057388     0.089455  0.490213  0.047780   \n",
       "1     0.039862  0.054702  0.119511     0.020765  0.210604  0.030157   \n",
       "2     0.319865  0.038250  0.055926     0.085099  0.035411  0.026355   \n",
       "3     0.998345  0.028490  0.014957     0.010328  0.027638  0.062904   \n",
       "4     0.211906  0.062217  0.076270     0.034619  0.034165  0.435241   \n",
       "...        ...       ...       ...          ...       ...       ...   \n",
       "1019  0.086016  0.096877  0.019382     0.635336  0.098252  0.113383   \n",
       "1020  0.959913  0.020332  0.053305     0.999503  0.037257  0.028061   \n",
       "1021  0.127979  0.028816  0.056133     0.188623  0.023689  0.024610   \n",
       "1022  0.020964  0.015248  0.038756     0.999997  0.015248  0.013956   \n",
       "1023  0.043528  0.021823  0.024099     0.972779  0.023109  0.076270   \n",
       "\n",
       "      customercare      bike  payments  \n",
       "0         0.080069  0.029930  0.089933  \n",
       "1         0.053601  0.040541  0.015845  \n",
       "2         0.032713  0.369543  0.092688  \n",
       "3         0.021698  0.012007  0.025420  \n",
       "4         0.017510  0.069668  0.032713  \n",
       "...            ...       ...       ...  \n",
       "1019      0.027743  0.143068  0.026861  \n",
       "1020      0.046206  0.094510  0.049773  \n",
       "1021      0.107063  0.127544  0.025275  \n",
       "1022      0.014448  0.032283  0.041852  \n",
       "1023      0.995336  0.029424  0.011158  \n",
       "\n",
       "[1024 rows x 10 columns]"
      ]
     },
     "execution_count": 215,
     "metadata": {},
     "output_type": "execute_result"
    }
   ],
   "source": [
    "predictions"
   ]
  },
  {
   "cell_type": "code",
   "execution_count": 216,
   "id": "5a54d6f7-6e2c-49bb-ba76-b04a4d17944d",
   "metadata": {
    "execution": {
     "iopub.execute_input": "2022-03-01T13:22:51.194555Z",
     "iopub.status.busy": "2022-03-01T13:22:51.194298Z",
     "iopub.status.idle": "2022-03-01T13:22:51.199439Z",
     "shell.execute_reply": "2022-03-01T13:22:51.198986Z",
     "shell.execute_reply.started": "2022-03-01T13:22:51.194528Z"
    },
    "tags": []
   },
   "outputs": [],
   "source": [
    "assessment_list = []\n",
    "for col in train_df.columns[2:-1]:\n",
    "    assessment_list.extend(list(predictions[col]))\n",
    "    \n",
    "truth_list = []\n",
    "for col in train_df.columns[2:-1]:\n",
    "    truth_list.extend(list(test_df[col]))"
   ]
  },
  {
   "cell_type": "code",
   "execution_count": 217,
   "id": "e2e9d810-1adf-44bf-8f7f-e67e964e28ef",
   "metadata": {
    "execution": {
     "iopub.execute_input": "2022-03-01T13:22:51.810210Z",
     "iopub.status.busy": "2022-03-01T13:22:51.810041Z",
     "iopub.status.idle": "2022-03-01T13:22:51.813167Z",
     "shell.execute_reply": "2022-03-01T13:22:51.812663Z",
     "shell.execute_reply.started": "2022-03-01T13:22:51.810195Z"
    },
    "tags": []
   },
   "outputs": [],
   "source": [
    "from matplotlib import pyplot as plt\n",
    "from sklearn.model_selection import train_test_split\n",
    "from sklearn.datasets import load_iris\n",
    "from sklearn.tree import DecisionTreeClassifier\n",
    "from sklearn import tree"
   ]
  },
  {
   "cell_type": "code",
   "execution_count": 218,
   "id": "dfe0ef93-36fb-4173-a2a9-84c001bd4a15",
   "metadata": {
    "execution": {
     "iopub.execute_input": "2022-03-01T13:22:52.606661Z",
     "iopub.status.busy": "2022-03-01T13:22:52.606307Z",
     "iopub.status.idle": "2022-03-01T13:22:52.611214Z",
     "shell.execute_reply": "2022-03-01T13:22:52.610543Z",
     "shell.execute_reply.started": "2022-03-01T13:22:52.606606Z"
    },
    "tags": []
   },
   "outputs": [],
   "source": [
    "X = np.array(assessment_list).reshape(-1, 1)\n",
    "\n",
    "y = np.array(truth_list).reshape(-1, 1)"
   ]
  },
  {
   "cell_type": "code",
   "execution_count": 219,
   "id": "155e4f34-c526-4b18-896a-69bdb656c870",
   "metadata": {
    "execution": {
     "iopub.execute_input": "2022-03-01T13:22:53.042754Z",
     "iopub.status.busy": "2022-03-01T13:22:53.042561Z",
     "iopub.status.idle": "2022-03-01T13:22:53.046781Z",
     "shell.execute_reply": "2022-03-01T13:22:53.046289Z",
     "shell.execute_reply.started": "2022-03-01T13:22:53.042726Z"
    },
    "tags": []
   },
   "outputs": [],
   "source": [
    "X_train, X_test, y_train, y_test = train_test_split(X, y, random_state=0)"
   ]
  },
  {
   "cell_type": "code",
   "execution_count": 220,
   "id": "52e2295e-37bf-40c3-bb2b-b0baca992251",
   "metadata": {
    "execution": {
     "iopub.execute_input": "2022-03-01T13:22:53.317559Z",
     "iopub.status.busy": "2022-03-01T13:22:53.317427Z",
     "iopub.status.idle": "2022-03-01T13:22:53.330731Z",
     "shell.execute_reply": "2022-03-01T13:22:53.330302Z",
     "shell.execute_reply.started": "2022-03-01T13:22:53.317545Z"
    },
    "tags": []
   },
   "outputs": [
    {
     "data": {
      "text/plain": [
       "DecisionTreeClassifier(max_depth=50, max_leaf_nodes=10000, min_samples_leaf=10)"
      ]
     },
     "execution_count": 220,
     "metadata": {},
     "output_type": "execute_result"
    }
   ],
   "source": [
    "clf = DecisionTreeClassifier(\n",
    "    max_leaf_nodes=10000, \n",
    "    #random_state=0, \n",
    "    max_depth=50, \n",
    "    min_samples_leaf=10, \n",
    "    #min_impurity_decrease=0.001\n",
    ")\n",
    "clf.fit(X, y)"
   ]
  },
  {
   "cell_type": "code",
   "execution_count": 209,
   "id": "9883c380-0ef3-4e9c-8f9e-199893b3befe",
   "metadata": {
    "execution": {
     "iopub.execute_input": "2022-03-01T13:21:20.187265Z",
     "iopub.status.busy": "2022-03-01T13:21:20.187090Z",
     "iopub.status.idle": "2022-03-01T13:21:58.347637Z",
     "shell.execute_reply": "2022-03-01T13:21:58.347195Z",
     "shell.execute_reply.started": "2022-03-01T13:21:20.187250Z"
    },
    "tags": []
   },
   "outputs": [
    {
     "data": {
      "image/png": "[encoded data removed]",
      "text/plain": [
       "<Figure size 1440x720 with 1 Axes>"
      ]
     },
     "metadata": {
      "needs_background": "light"
     },
     "output_type": "display_data"
    }
   ],
   "source": [
    "plt.figure(figsize=(20,10))\n",
    "tree.plot_tree(clf)\n",
    "plt.savefig('ruleset_posneg.pdf', dpi=320, format='pdf')\n",
    "plt.show()"
   ]
  },
  {
   "cell_type": "code",
   "execution_count": 221,
   "id": "f2040f29-0d33-40fb-8c85-dac50f4e3bb8",
   "metadata": {
    "execution": {
     "iopub.execute_input": "2022-03-01T13:22:57.141002Z",
     "iopub.status.busy": "2022-03-01T13:22:57.140841Z",
     "iopub.status.idle": "2022-03-01T13:22:58.206748Z",
     "shell.execute_reply": "2022-03-01T13:22:58.206262Z",
     "shell.execute_reply.started": "2022-03-01T13:22:57.140988Z"
    },
    "tags": []
   },
   "outputs": [
    {
     "data": {
      "application/vnd.jupyter.widget-view+json": {
       "model_id": "3669bafa358a4abda9675305b2fa224c",
       "version_major": 2,
       "version_minor": 0
      },
      "text/plain": [
       "Pandas Apply:   0%|          | 0/1024 [00:00<?, ?it/s]"
      ]
     },
     "metadata": {},
     "output_type": "display_data"
    },
    {
     "data": {
      "application/vnd.jupyter.widget-view+json": {
       "model_id": "adbda078d440411694eabc044965fa61",
       "version_major": 2,
       "version_minor": 0
      },
      "text/plain": [
       "Pandas Apply:   0%|          | 0/1024 [00:00<?, ?it/s]"
      ]
     },
     "metadata": {},
     "output_type": "display_data"
    },
    {
     "data": {
      "application/vnd.jupyter.widget-view+json": {
       "model_id": "896ec5f37b404c2ea0a22f905b61a55d",
       "version_major": 2,
       "version_minor": 0
      },
      "text/plain": [
       "Pandas Apply:   0%|          | 0/1024 [00:00<?, ?it/s]"
      ]
     },
     "metadata": {},
     "output_type": "display_data"
    },
    {
     "data": {
      "application/vnd.jupyter.widget-view+json": {
       "model_id": "89433b8a4f4f4646b227f2271aebf6b8",
       "version_major": 2,
       "version_minor": 0
      },
      "text/plain": [
       "Pandas Apply:   0%|          | 0/1024 [00:00<?, ?it/s]"
      ]
     },
     "metadata": {},
     "output_type": "display_data"
    },
    {
     "data": {
      "application/vnd.jupyter.widget-view+json": {
       "model_id": "81b167e32eda4b1a83a6e61a269f7ff6",
       "version_major": 2,
       "version_minor": 0
      },
      "text/plain": [
       "Pandas Apply:   0%|          | 0/1024 [00:00<?, ?it/s]"
      ]
     },
     "metadata": {},
     "output_type": "display_data"
    },
    {
     "data": {
      "application/vnd.jupyter.widget-view+json": {
       "model_id": "f8a8424c752f48d29ecdef7e13643a3b",
       "version_major": 2,
       "version_minor": 0
      },
      "text/plain": [
       "Pandas Apply:   0%|          | 0/1024 [00:00<?, ?it/s]"
      ]
     },
     "metadata": {},
     "output_type": "display_data"
    },
    {
     "data": {
      "application/vnd.jupyter.widget-view+json": {
       "model_id": "b2e0de2e86794b25985aa8daf47c25f1",
       "version_major": 2,
       "version_minor": 0
      },
      "text/plain": [
       "Pandas Apply:   0%|          | 0/1024 [00:00<?, ?it/s]"
      ]
     },
     "metadata": {},
     "output_type": "display_data"
    },
    {
     "data": {
      "application/vnd.jupyter.widget-view+json": {
       "model_id": "abd66984317844bc9fed0672afae42c7",
       "version_major": 2,
       "version_minor": 0
      },
      "text/plain": [
       "Pandas Apply:   0%|          | 0/1024 [00:00<?, ?it/s]"
      ]
     },
     "metadata": {},
     "output_type": "display_data"
    },
    {
     "data": {
      "application/vnd.jupyter.widget-view+json": {
       "model_id": "2b93fa1504294999b05c1ca156a79371",
       "version_major": 2,
       "version_minor": 0
      },
      "text/plain": [
       "Pandas Apply:   0%|          | 0/1024 [00:00<?, ?it/s]"
      ]
     },
     "metadata": {},
     "output_type": "display_data"
    }
   ],
   "source": [
    "for col in predictions.columns[1:]:\n",
    "    predictions[col] = predictions[col].swifter.apply(lambda x: np.round(100.*clf.predict_proba(np.array([x]).reshape(-1, 1))[0][1], 1))"
   ]
  },
  {
   "cell_type": "code",
   "execution_count": 224,
   "id": "f983cd6b-c108-494e-aab9-00eed8a385b7",
   "metadata": {
    "execution": {
     "iopub.execute_input": "2022-03-01T13:24:17.173695Z",
     "iopub.status.busy": "2022-03-01T13:24:17.173497Z",
     "iopub.status.idle": "2022-03-01T13:24:17.295586Z",
     "shell.execute_reply": "2022-03-01T13:24:17.295154Z",
     "shell.execute_reply.started": "2022-03-01T13:24:17.173665Z"
    },
    "tags": []
   },
   "outputs": [],
   "source": [
    "predictions.to_excel('output.xlsx')"
   ]
  },
  {
   "cell_type": "code",
   "execution_count": 225,
   "id": "84b13fa2-e778-41e2-bb6a-fe8f3a05ae80",
   "metadata": {
    "execution": {
     "iopub.execute_input": "2022-03-01T13:35:30.879031Z",
     "iopub.status.busy": "2022-03-01T13:35:30.878740Z",
     "iopub.status.idle": "2022-03-01T13:35:30.899024Z",
     "shell.execute_reply": "2022-03-01T13:35:30.898560Z",
     "shell.execute_reply.started": "2022-03-01T13:35:30.878992Z"
    }
   },
   "outputs": [
    {
     "data": {
      "text/html": [
       "<div>\n",
       "<style scoped>\n",
       "    .dataframe tbody tr th:only-of-type {\n",
       "        vertical-align: middle;\n",
       "    }\n",
       "\n",
       "    .dataframe tbody tr th {\n",
       "        vertical-align: top;\n",
       "    }\n",
       "\n",
       "    .dataframe thead th {\n",
       "        text-align: right;\n",
       "    }\n",
       "</style>\n",
       "<table border=\"1\" class=\"dataframe\">\n",
       "  <thead>\n",
       "    <tr style=\"text-align: right;\">\n",
       "      <th></th>\n",
       "      <th>revcontent</th>\n",
       "      <th>service</th>\n",
       "      <th>pricing</th>\n",
       "      <th>ride</th>\n",
       "      <th>maintenance</th>\n",
       "      <th>app</th>\n",
       "      <th>general</th>\n",
       "      <th>customercare</th>\n",
       "      <th>bike</th>\n",
       "      <th>payments</th>\n",
       "    </tr>\n",
       "  </thead>\n",
       "  <tbody>\n",
       "    <tr>\n",
       "      <th>0</th>\n",
       "      <td>the best bicycle service in bangalore</td>\n",
       "      <td>63.6</td>\n",
       "      <td>5.6</td>\n",
       "      <td>0.0</td>\n",
       "      <td>7.1</td>\n",
       "      <td>20.0</td>\n",
       "      <td>0.0</td>\n",
       "      <td>0.0</td>\n",
       "      <td>0.0</td>\n",
       "      <td>36.4</td>\n",
       "    </tr>\n",
       "    <tr>\n",
       "      <th>1</th>\n",
       "      <td>worst experience</td>\n",
       "      <td>4.0</td>\n",
       "      <td>5.3</td>\n",
       "      <td>54.5</td>\n",
       "      <td>0.0</td>\n",
       "      <td>35.3</td>\n",
       "      <td>7.1</td>\n",
       "      <td>25.0</td>\n",
       "      <td>0.0</td>\n",
       "      <td>0.0</td>\n",
       "    </tr>\n",
       "    <tr>\n",
       "      <th>2</th>\n",
       "      <td>no option to search bike station</td>\n",
       "      <td>47.4</td>\n",
       "      <td>0.0</td>\n",
       "      <td>0.0</td>\n",
       "      <td>0.0</td>\n",
       "      <td>25.0</td>\n",
       "      <td>13.0</td>\n",
       "      <td>0.0</td>\n",
       "      <td>10.0</td>\n",
       "      <td>0.0</td>\n",
       "    </tr>\n",
       "    <tr>\n",
       "      <th>3</th>\n",
       "      <td>very helpful particularly during lockdown and strike period this service look like a saviour</td>\n",
       "      <td>100.0</td>\n",
       "      <td>13.3</td>\n",
       "      <td>0.0</td>\n",
       "      <td>0.0</td>\n",
       "      <td>5.3</td>\n",
       "      <td>36.4</td>\n",
       "      <td>0.0</td>\n",
       "      <td>0.0</td>\n",
       "      <td>6.7</td>\n",
       "    </tr>\n",
       "    <tr>\n",
       "      <th>4</th>\n",
       "      <td>great experience it easy to drive pollution free i just love to drive</td>\n",
       "      <td>0.0</td>\n",
       "      <td>0.0</td>\n",
       "      <td>0.0</td>\n",
       "      <td>8.3</td>\n",
       "      <td>11.8</td>\n",
       "      <td>70.0</td>\n",
       "      <td>0.0</td>\n",
       "      <td>12.5</td>\n",
       "      <td>0.0</td>\n",
       "    </tr>\n",
       "    <tr>\n",
       "      <th>...</th>\n",
       "      <td>...</td>\n",
       "      <td>...</td>\n",
       "      <td>...</td>\n",
       "      <td>...</td>\n",
       "      <td>...</td>\n",
       "      <td>...</td>\n",
       "      <td>...</td>\n",
       "      <td>...</td>\n",
       "      <td>...</td>\n",
       "      <td>...</td>\n",
       "    </tr>\n",
       "    <tr>\n",
       "      <th>1019</th>\n",
       "      <td>yulu maintained well at the launch and continuing the same. When you have good concept, you should improve it by providing good service.</td>\n",
       "      <td>15.4</td>\n",
       "      <td>0.0</td>\n",
       "      <td>21.4</td>\n",
       "      <td>83.3</td>\n",
       "      <td>16.7</td>\n",
       "      <td>40.0</td>\n",
       "      <td>5.3</td>\n",
       "      <td>0.0</td>\n",
       "      <td>0.0</td>\n",
       "    </tr>\n",
       "    <tr>\n",
       "      <th>1020</th>\n",
       "      <td>Service is bad but maintenance is okay</td>\n",
       "      <td>100.0</td>\n",
       "      <td>6.7</td>\n",
       "      <td>15.4</td>\n",
       "      <td>100.0</td>\n",
       "      <td>14.3</td>\n",
       "      <td>6.2</td>\n",
       "      <td>9.1</td>\n",
       "      <td>25.0</td>\n",
       "      <td>0.0</td>\n",
       "    </tr>\n",
       "    <tr>\n",
       "      <th>1021</th>\n",
       "      <td>hygenic maintenance at yulu zones</td>\n",
       "      <td>30.0</td>\n",
       "      <td>20.0</td>\n",
       "      <td>0.0</td>\n",
       "      <td>50.0</td>\n",
       "      <td>11.8</td>\n",
       "      <td>0.0</td>\n",
       "      <td>0.0</td>\n",
       "      <td>30.0</td>\n",
       "      <td>9.1</td>\n",
       "    </tr>\n",
       "    <tr>\n",
       "      <th>1022</th>\n",
       "      <td>maintenance is upto the mark</td>\n",
       "      <td>5.0</td>\n",
       "      <td>0.0</td>\n",
       "      <td>4.8</td>\n",
       "      <td>100.0</td>\n",
       "      <td>0.0</td>\n",
       "      <td>0.0</td>\n",
       "      <td>0.0</td>\n",
       "      <td>7.7</td>\n",
       "      <td>0.0</td>\n",
       "    </tr>\n",
       "    <tr>\n",
       "      <th>1023</th>\n",
       "      <td>Proper maintence from yulu. Resolutions are quick from your cust.support team</td>\n",
       "      <td>16.7</td>\n",
       "      <td>0.0</td>\n",
       "      <td>0.0</td>\n",
       "      <td>100.0</td>\n",
       "      <td>13.3</td>\n",
       "      <td>0.0</td>\n",
       "      <td>100.0</td>\n",
       "      <td>14.3</td>\n",
       "      <td>12.5</td>\n",
       "    </tr>\n",
       "  </tbody>\n",
       "</table>\n",
       "<p>1024 rows × 10 columns</p>\n",
       "</div>"
      ],
      "text/plain": [
       "                                                                                                                                    revcontent  \\\n",
       "0                                                                                                        the best bicycle service in bangalore   \n",
       "1                                                                                                                             worst experience   \n",
       "2                                                                                                             no option to search bike station   \n",
       "3                                                 very helpful particularly during lockdown and strike period this service look like a saviour   \n",
       "4                                                                        great experience it easy to drive pollution free i just love to drive   \n",
       "...                                                                                                                                        ...   \n",
       "1019  yulu maintained well at the launch and continuing the same. When you have good concept, you should improve it by providing good service.   \n",
       "1020                                                                                                    Service is bad but maintenance is okay   \n",
       "1021                                                                                                         hygenic maintenance at yulu zones   \n",
       "1022                                                                                                              maintenance is upto the mark   \n",
       "1023                                                             Proper maintence from yulu. Resolutions are quick from your cust.support team   \n",
       "\n",
       "      service  pricing  ride  maintenance   app  general  customercare  bike  \\\n",
       "0        63.6      5.6   0.0          7.1  20.0      0.0           0.0   0.0   \n",
       "1         4.0      5.3  54.5          0.0  35.3      7.1          25.0   0.0   \n",
       "2        47.4      0.0   0.0          0.0  25.0     13.0           0.0  10.0   \n",
       "3       100.0     13.3   0.0          0.0   5.3     36.4           0.0   0.0   \n",
       "4         0.0      0.0   0.0          8.3  11.8     70.0           0.0  12.5   \n",
       "...       ...      ...   ...          ...   ...      ...           ...   ...   \n",
       "1019     15.4      0.0  21.4         83.3  16.7     40.0           5.3   0.0   \n",
       "1020    100.0      6.7  15.4        100.0  14.3      6.2           9.1  25.0   \n",
       "1021     30.0     20.0   0.0         50.0  11.8      0.0           0.0  30.0   \n",
       "1022      5.0      0.0   4.8        100.0   0.0      0.0           0.0   7.7   \n",
       "1023     16.7      0.0   0.0        100.0  13.3      0.0         100.0  14.3   \n",
       "\n",
       "      payments  \n",
       "0         36.4  \n",
       "1          0.0  \n",
       "2          0.0  \n",
       "3          6.7  \n",
       "4          0.0  \n",
       "...        ...  \n",
       "1019       0.0  \n",
       "1020       0.0  \n",
       "1021       9.1  \n",
       "1022       0.0  \n",
       "1023      12.5  \n",
       "\n",
       "[1024 rows x 10 columns]"
      ]
     },
     "execution_count": 225,
     "metadata": {},
     "output_type": "execute_result"
    }
   ],
   "source": [
    "predictions"
   ]
  },
  {
   "cell_type": "code",
   "execution_count": null,
   "id": "7ad49841-7bb4-4da2-98f9-1d5ca05723a2",
   "metadata": {},
   "outputs": [],
   "source": []
  }
 ],
 "metadata": {
  "kernelspec": {
   "display_name": "Python 3 (ipykernel)",
   "language": "python",
   "name": "python3"
  },
  "language_info": {
   "codemirror_mode": {
    "name": "ipython",
    "version": 3
   },
   "file_extension": ".py",
   "mimetype": "text/x-python",
   "name": "python",
   "nbconvert_exporter": "python",
   "pygments_lexer": "ipython3",
   "version": "3.8.12"
  }
 },
 "nbformat": 4,
 "nbformat_minor": 5
}
