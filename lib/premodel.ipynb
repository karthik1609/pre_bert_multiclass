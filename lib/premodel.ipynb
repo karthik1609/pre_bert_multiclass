{
 "cells": [
  {
   "cell_type": "code",
   "execution_count": 7,
   "metadata": {},
   "outputs": [
    {
     "name": "stderr",
     "output_type": "stream",
     "text": [
      "2022-02-18 12:39:30 INFO: Loading these models for language: en (English):\n",
      "============================\n",
      "| Processor    | Package   |\n",
      "----------------------------\n",
      "| tokenize     | combined  |\n",
      "| pos          | combined  |\n",
      "| lemma        | combined  |\n",
      "| depparse     | combined  |\n",
      "| sentiment    | sstplus   |\n",
      "| constituency | wsj       |\n",
      "| ner          | ontonotes |\n",
      "============================\n",
      "\n",
      "2022-02-18 12:39:30 INFO: Use device: cpu\n",
      "2022-02-18 12:39:30 INFO: Loading: tokenize\n",
      "2022-02-18 12:39:30 INFO: Loading: pos\n",
      "2022-02-18 12:39:30 INFO: Loading: lemma\n",
      "2022-02-18 12:39:30 INFO: Loading: depparse\n",
      "2022-02-18 12:39:30 INFO: Loading: sentiment\n",
      "2022-02-18 12:39:30 INFO: Loading: constituency\n",
      "2022-02-18 12:39:31 INFO: Loading: ner\n",
      "2022-02-18 12:39:31 INFO: Done loading processors!\n"
     ]
    }
   ],
   "source": [
    "%config Completer.use_jedi = False\n",
    "\n",
    "import preprocess\n",
    "import fasttext.util\n",
    "import spacy_stanza\n",
    "from spacytextblob.spacytextblob import SpacyTextBlob\n",
    "import re\n",
    "\n",
    "nlp = spacy_stanza.load_pipeline(\"en\", use_gpu=False)\n",
    "fasttext.util.download_model('en', if_exists='ignore')\n",
    "import pandas as pd\n",
    "from tqdm import tqdm"
   ]
  },
  {
   "cell_type": "code",
   "execution_count": 8,
   "metadata": {},
   "outputs": [],
   "source": [
    "df = pd.read_excel('yulu_dataanalysis_balanced.xlsx').fillna('').drop(['Unnamed: 0'], axis = 1).drop(['index'], axis = 1)\n",
    "tqdm.pandas()"
   ]
  },
  {
   "cell_type": "code",
   "execution_count": 9,
   "metadata": {},
   "outputs": [
    {
     "data": {
      "text/plain": [
       "['good cat']"
      ]
     },
     "execution_count": 9,
     "metadata": {},
     "output_type": "execute_result"
    }
   ],
   "source": [
    "preprocess.preprocess('Cat is good.', True, nlp).phrase_extract()"
   ]
  },
  {
   "cell_type": "code",
   "execution_count": 10,
   "metadata": {
    "tags": []
   },
   "outputs": [
    {
     "name": "stderr",
     "output_type": "stream",
     "text": [
      "100%|██████████| 810/810 [02:46<00:00,  4.86it/s]\n"
     ]
    }
   ],
   "source": [
    "def phraser(x):\n",
    "    #print(x)\n",
    "    phrase_list = preprocess.preprocess(x, True, nlp).phrase_extract()\n",
    "    return phrase_list\n",
    "df1 = df.head(2)\n",
    "#with vectorize.suppress_output(suppress_stdout=True, suppress_stderr=True):\n",
    "df['phrase list'] = df.rev_content.progress_apply(lambda x: phraser(x))"
   ]
  },
  {
   "cell_type": "code",
   "execution_count": 11,
   "metadata": {},
   "outputs": [
    {
     "data": {
      "text/plain": [
       "(['best bangalore', 'service bangalore', 'bicycle bangalore'],\n",
       " 'the best bicycle service in bangalore')"
      ]
     },
     "execution_count": 11,
     "metadata": {},
     "output_type": "execute_result"
    }
   ],
   "source": [
    "df['phrase list'].iloc[0], df['rev_content'].iloc[0]"
   ]
  },
  {
   "cell_type": "code",
   "execution_count": 12,
   "metadata": {},
   "outputs": [],
   "source": [
    "df.to_excel('yulu_dataanalysis_bp810.xlsx')"
   ]
  },
  {
   "cell_type": "code",
   "execution_count": null,
   "metadata": {},
   "outputs": [],
   "source": []
  }
 ],
 "metadata": {
  "kernelspec": {
   "display_name": "Python 3 (ipykernel)",
   "language": "python",
   "name": "python3"
  },
  "language_info": {
   "codemirror_mode": {
    "name": "ipython",
    "version": 3
   },
   "file_extension": ".py",
   "mimetype": "text/x-python",
   "name": "python",
   "nbconvert_exporter": "python",
   "pygments_lexer": "ipython3",
   "version": "3.8.12"
  }
 },
 "nbformat": 4,
 "nbformat_minor": 4
}
