{
 "cells": [
  {
   "cell_type": "code",
   "execution_count": 1,
   "id": "f7dc5125-c7af-4591-ab74-5b6a66182b37",
   "metadata": {
    "execution": {
     "iopub.execute_input": "2022-03-11T08:53:15.089343Z",
     "iopub.status.busy": "2022-03-11T08:53:15.089120Z",
     "iopub.status.idle": "2022-03-11T08:53:15.275082Z",
     "shell.execute_reply": "2022-03-11T08:53:15.274640Z",
     "shell.execute_reply.started": "2022-03-11T08:53:15.089288Z"
    },
    "tags": []
   },
   "outputs": [],
   "source": [
    "import pandas as pd\n",
    "import numpy as np"
   ]
  },
  {
   "cell_type": "code",
   "execution_count": 2,
   "id": "66b6de5b-98cf-452b-beb8-6bbee33bdbf2",
   "metadata": {
    "execution": {
     "iopub.execute_input": "2022-03-11T08:53:17.193919Z",
     "iopub.status.busy": "2022-03-11T08:53:17.193717Z",
     "iopub.status.idle": "2022-03-11T08:53:17.466578Z",
     "shell.execute_reply": "2022-03-11T08:53:17.465773Z",
     "shell.execute_reply.started": "2022-03-11T08:53:17.193876Z"
    },
    "tags": []
   },
   "outputs": [],
   "source": [
    "actual = pd.read_excel('../Yulu_dataanalysis.xlsx').fillna('').drop(['Unnamed: 0'], axis = 1)\n",
    "predicted = pd.read_excel('output.xlsx').fillna('').drop(['Unnamed: 0'], axis = 1)"
   ]
  },
  {
   "cell_type": "code",
   "execution_count": 3,
   "id": "901b8d6f-7997-468b-bac2-8c8808f3d1a3",
   "metadata": {
    "execution": {
     "iopub.execute_input": "2022-03-11T08:53:18.278512Z",
     "iopub.status.busy": "2022-03-11T08:53:18.278317Z",
     "iopub.status.idle": "2022-03-11T08:53:18.289386Z",
     "shell.execute_reply": "2022-03-11T08:53:18.288799Z",
     "shell.execute_reply.started": "2022-03-11T08:53:18.278480Z"
    },
    "tags": []
   },
   "outputs": [],
   "source": [
    "def assigner(x, treshold = 50.):\n",
    "    if x > treshold:\n",
    "        return 1\n",
    "    else:\n",
    "        return 0\n",
    "for col in predicted.columns[1:]:\n",
    "    predicted[col] = predicted[col].apply(lambda x: assigner(x))"
   ]
  },
  {
   "cell_type": "code",
   "execution_count": 4,
   "id": "981d2e21-0309-4b7b-89b2-ff650446975c",
   "metadata": {
    "execution": {
     "iopub.execute_input": "2022-03-11T08:53:20.055048Z",
     "iopub.status.busy": "2022-03-11T08:53:20.054789Z",
     "iopub.status.idle": "2022-03-11T08:53:20.065081Z",
     "shell.execute_reply": "2022-03-11T08:53:20.064628Z",
     "shell.execute_reply.started": "2022-03-11T08:53:20.055019Z"
    },
    "tags": []
   },
   "outputs": [],
   "source": [
    "for col in actual.columns[1:]:\n",
    "    actual[col] = actual[col].apply(lambda x: int(bool(x)))"
   ]
  },
  {
   "cell_type": "code",
   "execution_count": 5,
   "id": "ca6b2e2a-f65b-4b17-89bf-2d9e95c6f415",
   "metadata": {
    "execution": {
     "iopub.execute_input": "2022-03-11T08:53:20.446322Z",
     "iopub.status.busy": "2022-03-11T08:53:20.446161Z",
     "iopub.status.idle": "2022-03-11T08:53:20.458734Z",
     "shell.execute_reply": "2022-03-11T08:53:20.458338Z",
     "shell.execute_reply.started": "2022-03-11T08:53:20.446307Z"
    },
    "tags": []
   },
   "outputs": [],
   "source": [
    "def column_regularize(df):\n",
    "    for col in df.columns:\n",
    "        df.rename(columns = {col:''.join(col.strip().lower().split(' '))}, inplace = True)\n",
    "        df.rename(columns = {col:''.join(col.strip().lower().split('_'))}, inplace = True)\n",
    "    return df\n",
    "\n",
    "actual = column_regularize(actual)\n",
    "predicted = column_regularize(predicted)"
   ]
  },
  {
   "cell_type": "code",
   "execution_count": 6,
   "id": "0eac1c30-8a20-431f-a271-aa831224ecaa",
   "metadata": {
    "execution": {
     "iopub.execute_input": "2022-03-11T08:53:20.828691Z",
     "iopub.status.busy": "2022-03-11T08:53:20.828520Z",
     "iopub.status.idle": "2022-03-11T08:53:20.834182Z",
     "shell.execute_reply": "2022-03-11T08:53:20.833661Z",
     "shell.execute_reply.started": "2022-03-11T08:53:20.828675Z"
    },
    "tags": []
   },
   "outputs": [],
   "source": [
    "false_df = predicted[predicted.columns[1:]] - actual[actual.columns[1:]]   "
   ]
  },
  {
   "cell_type": "markdown",
   "id": "97380cbe-aead-4f1f-af04-7f3aeabf78d7",
   "metadata": {},
   "source": [
    "# for false_df\n",
    "\n",
    "## 1 represents false positive\n",
    "## -1 represents false negative\n",
    "\n",
    "## 0 can be true positive or true negative"
   ]
  },
  {
   "cell_type": "code",
   "execution_count": 7,
   "id": "62022767-4f0c-4461-93bf-c70f464f2522",
   "metadata": {
    "execution": {
     "iopub.execute_input": "2022-03-11T08:53:21.747731Z",
     "iopub.status.busy": "2022-03-11T08:53:21.747566Z",
     "iopub.status.idle": "2022-03-11T08:53:21.751110Z",
     "shell.execute_reply": "2022-03-11T08:53:21.750481Z",
     "shell.execute_reply.started": "2022-03-11T08:53:21.747716Z"
    },
    "tags": []
   },
   "outputs": [],
   "source": [
    "trues = 1 - (false_df * false_df)"
   ]
  },
  {
   "cell_type": "code",
   "execution_count": 8,
   "id": "d39f1599-fa17-4cd3-b76c-95bcfc8d9429",
   "metadata": {
    "execution": {
     "iopub.execute_input": "2022-03-11T08:53:22.093645Z",
     "iopub.status.busy": "2022-03-11T08:53:22.093477Z",
     "iopub.status.idle": "2022-03-11T08:53:22.098666Z",
     "shell.execute_reply": "2022-03-11T08:53:22.098320Z",
     "shell.execute_reply.started": "2022-03-11T08:53:22.093616Z"
    },
    "tags": []
   },
   "outputs": [],
   "source": [
    "compare = {}\n",
    "for col in predicted.columns[1:]:\n",
    "    compare[col] = list(zip(list(predicted[col]), list(actual[col])))"
   ]
  },
  {
   "cell_type": "code",
   "execution_count": 9,
   "id": "121395b3-5773-437a-bedb-a7539b971c55",
   "metadata": {
    "execution": {
     "iopub.execute_input": "2022-03-11T08:53:22.557987Z",
     "iopub.status.busy": "2022-03-11T08:53:22.557748Z",
     "iopub.status.idle": "2022-03-11T08:53:22.563288Z",
     "shell.execute_reply": "2022-03-11T08:53:22.562836Z",
     "shell.execute_reply.started": "2022-03-11T08:53:22.557958Z"
    },
    "tags": []
   },
   "outputs": [],
   "source": [
    "tf_pn = {}\n",
    "for key in compare.keys():\n",
    "    tf_pn[key] = []\n",
    "    for compare_tuple in compare[key]:\n",
    "        if compare_tuple[0] == 0 and compare_tuple[1] == 0:\n",
    "            tmp_ = 't N'\n",
    "        elif compare_tuple[0] == 1 and compare_tuple[1] == 1:\n",
    "            tmp_ = 't P'\n",
    "        elif compare_tuple[0] == 0 and compare_tuple[1] == 1:\n",
    "            tmp_ = 'f N'\n",
    "        elif compare_tuple[0] == 1 and compare_tuple[1] == 0:\n",
    "            tmp_ = 'f P'\n",
    "        tf_pn[key].append(tmp_)"
   ]
  },
  {
   "cell_type": "code",
   "execution_count": 10,
   "id": "76cc8b3b-c83f-4a80-b17d-be7afdb6488c",
   "metadata": {
    "execution": {
     "iopub.execute_input": "2022-03-11T08:53:23.147767Z",
     "iopub.status.busy": "2022-03-11T08:53:23.147604Z",
     "iopub.status.idle": "2022-03-11T08:53:23.252488Z",
     "shell.execute_reply": "2022-03-11T08:53:23.252085Z",
     "shell.execute_reply.started": "2022-03-11T08:53:23.147753Z"
    },
    "tags": []
   },
   "outputs": [],
   "source": [
    "comp = pd.DataFrame(tf_pn)\n",
    "comp.to_excel('../compare.xlsx')"
   ]
  },
  {
   "cell_type": "code",
   "execution_count": 11,
   "id": "c61df4a0-8bc8-48f6-90c0-f57b4325b9ff",
   "metadata": {
    "execution": {
     "iopub.execute_input": "2022-03-11T08:53:23.414615Z",
     "iopub.status.busy": "2022-03-11T08:53:23.413965Z",
     "iopub.status.idle": "2022-03-11T08:53:23.492998Z",
     "shell.execute_reply": "2022-03-11T08:53:23.492563Z",
     "shell.execute_reply.started": "2022-03-11T08:53:23.414578Z"
    },
    "tags": []
   },
   "outputs": [],
   "source": [
    "comp = pd.read_excel('../compare.xlsx').drop(['Unnamed: 0'], axis = 1)"
   ]
  },
  {
   "cell_type": "code",
   "execution_count": 12,
   "id": "8b49af6b-cc98-40ba-9362-ad77b9371d4b",
   "metadata": {
    "execution": {
     "iopub.execute_input": "2022-03-11T08:53:23.652504Z",
     "iopub.status.busy": "2022-03-11T08:53:23.652373Z",
     "iopub.status.idle": "2022-03-11T08:53:23.691670Z",
     "shell.execute_reply": "2022-03-11T08:53:23.691203Z",
     "shell.execute_reply.started": "2022-03-11T08:53:23.652489Z"
    },
    "tags": []
   },
   "outputs": [
    {
     "name": "stdout",
     "output_type": "stream",
     "text": [
      "service\n",
      "Recall of  service :  0.6136363636363636\n",
      "Precision of  service :  0.782608695652174\n",
      "Accuracy of  service :  0.904296875\n",
      "\n",
      "\n",
      "pricing\n",
      "Recall of  pricing :  0.6346153846153846\n",
      "Precision of  pricing :  0.7415730337078652\n",
      "Accuracy of  pricing :  0.9404296875\n",
      "\n",
      "\n",
      "ride\n",
      "Recall of  ride :  0.797979797979798\n",
      "Precision of  ride :  0.8144329896907216\n",
      "Accuracy of  ride :  0.962890625\n",
      "\n",
      "\n",
      "maintenance\n",
      "Recall of  maintenance :  0.8051948051948052\n",
      "Precision of  maintenance :  0.8051948051948052\n",
      "Accuracy of  maintenance :  0.970703125\n",
      "\n",
      "\n",
      "app\n",
      "Recall of  app :  0.4811594202898551\n",
      "Precision of  app :  0.8924731182795699\n",
      "Accuracy of  app :  0.8056640625\n",
      "\n",
      "\n",
      "general\n",
      "Recall of  general :  0.30839002267573695\n",
      "Precision of  general :  0.9066666666666666\n",
      "Accuracy of  general :  0.6884765625\n",
      "\n",
      "\n",
      "customercare\n",
      "Recall of  customercare :  0.7672413793103449\n",
      "Precision of  customercare :  0.9270833333333334\n",
      "Accuracy of  customercare :  0.966796875\n",
      "\n",
      "\n",
      "bike\n",
      "Recall of  bike :  0.5327868852459017\n",
      "Precision of  bike :  0.7831325301204819\n",
      "Accuracy of  bike :  0.9267578125\n",
      "\n",
      "\n",
      "payments\n",
      "Recall of  payments :  0.6268656716417911\n",
      "Precision of  payments :  0.8484848484848485\n",
      "Accuracy of  payments :  0.9365234375\n",
      "\n",
      "\n",
      "tp, fp, fn =  855 160 759\n"
     ]
    }
   ],
   "source": [
    "tp, tn, fn, fp = 0, 0, 0, 0\n",
    "for col in comp.columns:\n",
    "    print(col)\n",
    "    print('Recall of ', col, ': ', comp[comp[col] == 't P'].shape[0] / (comp[comp[col] == 't P'].shape[0] + comp[comp[col] == 'f N'].shape[0]))\n",
    "    print('Precision of ', col, ': ', comp[comp[col] == 't P'].shape[0] / (comp[comp[col] == 't P'].shape[0] + comp[comp[col] == 'f P'].shape[0]))\n",
    "    print('Accuracy of ', col, ': ', (comp[comp[col] == 't P'].shape[0] + comp[comp[col] == 't N'].shape[0]) / comp.shape[0])\n",
    "    tp = tp + comp[comp[col] == 't P'].shape[0]\n",
    "    fp = fp + comp[comp[col] == 'f P'].shape[0]\n",
    "    fn = fn + comp[comp[col] == 'f N'].shape[0]\n",
    "    print('\\n')\n",
    "    \n",
    "print('tp, fp, fn = ', tp, fp, fn)"
   ]
  },
  {
   "cell_type": "code",
   "execution_count": 14,
   "id": "77cd93cc-b9bc-4388-91cb-b0ea5c20778a",
   "metadata": {
    "execution": {
     "iopub.execute_input": "2022-03-11T08:53:36.552107Z",
     "iopub.status.busy": "2022-03-11T08:53:36.551935Z",
     "iopub.status.idle": "2022-03-11T08:53:36.555760Z",
     "shell.execute_reply": "2022-03-11T08:53:36.555265Z",
     "shell.execute_reply.started": "2022-03-11T08:53:36.552091Z"
    },
    "tags": []
   },
   "outputs": [
    {
     "data": {
      "text/plain": [
       "0.8423645320197044"
      ]
     },
     "execution_count": 14,
     "metadata": {},
     "output_type": "execute_result"
    }
   ],
   "source": [
    "tp/(tp+fp)"
   ]
  },
  {
   "cell_type": "code",
   "execution_count": null,
   "id": "19c6962f-4409-4934-95ee-f63bb9dcd2ad",
   "metadata": {},
   "outputs": [],
   "source": []
  }
 ],
 "metadata": {
  "kernelspec": {
   "display_name": "Python 3 (ipykernel)",
   "language": "python",
   "name": "python3"
  },
  "language_info": {
   "codemirror_mode": {
    "name": "ipython",
    "version": 3
   },
   "file_extension": ".py",
   "mimetype": "text/x-python",
   "name": "python",
   "nbconvert_exporter": "python",
   "pygments_lexer": "ipython3",
   "version": "3.8.12"
  }
 },
 "nbformat": 4,
 "nbformat_minor": 5
}
