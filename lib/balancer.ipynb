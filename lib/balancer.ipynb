{
 "cells": [
  {
   "cell_type": "code",
   "execution_count": 1,
   "id": "c0b0c0b3-2921-49af-bb4e-5bde5eb5016f",
   "metadata": {
    "execution": {
     "iopub.execute_input": "2022-03-10T09:06:35.301130Z",
     "iopub.status.busy": "2022-03-10T09:06:35.300960Z",
     "iopub.status.idle": "2022-03-10T09:06:35.772304Z",
     "shell.execute_reply": "2022-03-10T09:06:35.771893Z",
     "shell.execute_reply.started": "2022-03-10T09:06:35.301083Z"
    }
   },
   "outputs": [],
   "source": [
    "import pandas as pd"
   ]
  },
  {
   "cell_type": "code",
   "execution_count": 111,
   "id": "c0bac94c-93d9-4686-92d4-6e73390ee27a",
   "metadata": {
    "execution": {
     "iopub.execute_input": "2022-03-10T10:09:54.069037Z",
     "iopub.status.busy": "2022-03-10T10:09:54.068786Z",
     "iopub.status.idle": "2022-03-10T10:09:54.150990Z",
     "shell.execute_reply": "2022-03-10T10:09:54.150260Z",
     "shell.execute_reply.started": "2022-03-10T10:09:54.069014Z"
    },
    "tags": []
   },
   "outputs": [],
   "source": [
    "df = pd.read_excel('myntra_balanceddataall.xlsx').fillna('').drop(['Unnamed: 0', 'index'], axis = 1)"
   ]
  },
  {
   "cell_type": "code",
   "execution_count": 113,
   "id": "c53feac6-fa13-427c-8430-1671c7665299",
   "metadata": {
    "execution": {
     "iopub.execute_input": "2022-03-10T10:10:00.569877Z",
     "iopub.status.busy": "2022-03-10T10:10:00.569683Z",
     "iopub.status.idle": "2022-03-10T10:10:00.610954Z",
     "shell.execute_reply": "2022-03-10T10:10:00.610425Z",
     "shell.execute_reply.started": "2022-03-10T10:10:00.569847Z"
    },
    "tags": []
   },
   "outputs": [
    {
     "name": "stderr",
     "output_type": "stream",
     "text": [
      "/tmp/ipykernel_11491/3439070470.py:13: FutureWarning: The frame.append method is deprecated and will be removed from pandas in a future version. Use pandas.concat instead.\n",
      "  df_sampled = df_sampled.append(df[cond].sample(needed))\n",
      "/tmp/ipykernel_11491/3439070470.py:13: FutureWarning: The frame.append method is deprecated and will be removed from pandas in a future version. Use pandas.concat instead.\n",
      "  df_sampled = df_sampled.append(df[cond].sample(needed))\n",
      "/tmp/ipykernel_11491/3439070470.py:13: FutureWarning: The frame.append method is deprecated and will be removed from pandas in a future version. Use pandas.concat instead.\n",
      "  df_sampled = df_sampled.append(df[cond].sample(needed))\n",
      "/tmp/ipykernel_11491/3439070470.py:13: FutureWarning: The frame.append method is deprecated and will be removed from pandas in a future version. Use pandas.concat instead.\n",
      "  df_sampled = df_sampled.append(df[cond].sample(needed))\n",
      "/tmp/ipykernel_11491/3439070470.py:13: FutureWarning: The frame.append method is deprecated and will be removed from pandas in a future version. Use pandas.concat instead.\n",
      "  df_sampled = df_sampled.append(df[cond].sample(needed))\n",
      "/tmp/ipykernel_11491/3439070470.py:13: FutureWarning: The frame.append method is deprecated and will be removed from pandas in a future version. Use pandas.concat instead.\n",
      "  df_sampled = df_sampled.append(df[cond].sample(needed))\n",
      "/tmp/ipykernel_11491/3439070470.py:13: FutureWarning: The frame.append method is deprecated and will be removed from pandas in a future version. Use pandas.concat instead.\n",
      "  df_sampled = df_sampled.append(df[cond].sample(needed))\n"
     ]
    }
   ],
   "source": [
    "for idx, col in zip(range(len(df.columns[1:])), df.columns[1:]):\n",
    "    if not idx:\n",
    "        df_sampled = df[df[col] != ''].sample(60)\n",
    "    else:\n",
    "        needed = 60 - df_sampled[df_sampled[col] != ''].shape[0]\n",
    "        if needed > 0:\n",
    "            for idx_, col_ in zip(range(len(df.columns[1:idx+1])), df.columns[1:idx+1]):\n",
    "                if not idx_:\n",
    "                    cond = (df[col_] == '')\n",
    "                else:\n",
    "                    cond = cond & (df[col_] == '')\n",
    "            cond = cond & (df[col] != '')\n",
    "            df_sampled = df_sampled.append(df[cond].sample(needed))"
   ]
  },
  {
   "cell_type": "code",
   "execution_count": 114,
   "id": "e386c745-1de6-4997-99da-84aa437fb08f",
   "metadata": {
    "execution": {
     "iopub.execute_input": "2022-03-10T10:10:01.849749Z",
     "iopub.status.busy": "2022-03-10T10:10:01.849553Z",
     "iopub.status.idle": "2022-03-10T10:10:01.856784Z",
     "shell.execute_reply": "2022-03-10T10:10:01.856471Z",
     "shell.execute_reply.started": "2022-03-10T10:10:01.849721Z"
    },
    "tags": []
   },
   "outputs": [
    {
     "name": "stdout",
     "output_type": "stream",
     "text": [
      "Service 60\n",
      "Delivery 60\n",
      "Customer Care 60\n",
      "General 60\n",
      "Pricing 60\n",
      "Payments & Refunds 60\n",
      "App 60\n",
      "Product 60\n"
     ]
    }
   ],
   "source": [
    "for col in df_sampled.columns[1:]:\n",
    "    print(col, df_sampled[df_sampled[col] != ''].shape[0])"
   ]
  },
  {
   "cell_type": "code",
   "execution_count": 133,
   "id": "277d172f-cabd-4953-9f5b-96649a390636",
   "metadata": {
    "execution": {
     "iopub.execute_input": "2022-03-10T10:20:16.552376Z",
     "iopub.status.busy": "2022-03-10T10:20:16.552274Z",
     "iopub.status.idle": "2022-03-10T10:20:16.651759Z",
     "shell.execute_reply": "2022-03-10T10:20:16.651337Z",
     "shell.execute_reply.started": "2022-03-10T10:20:16.552360Z"
    },
    "tags": []
   },
   "outputs": [],
   "source": [
    "df_sampled.to_excel('output_train.xlsx')\n",
    "df.drop(df_sampled.index).to_excel('output_test.xlsx')"
   ]
  }
 ],
 "metadata": {
  "kernelspec": {
   "display_name": "Python 3 (ipykernel)",
   "language": "python",
   "name": "python3"
  },
  "language_info": {
   "codemirror_mode": {
    "name": "ipython",
    "version": 3
   },
   "file_extension": ".py",
   "mimetype": "text/x-python",
   "name": "python",
   "nbconvert_exporter": "python",
   "pygments_lexer": "ipython3",
   "version": "3.8.12"
  }
 },
 "nbformat": 4,
 "nbformat_minor": 5
}
